{
 "cells": [
  {
   "cell_type": "markdown",
   "id": "b86076c7-9563-41a9-a567-e3ced2954a5a",
   "metadata": {},
   "source": [
    "<p style =\"color: #118ab2;\n",
    "                    font-size:50px; \n",
    "                    font-style:bold;\n",
    "                    text-decoration: underline;\n",
    "                    text-align: center \">\n",
    "    Weight Predictor \n",
    "</p>"
   ]
  },
  {
   "cell_type": "markdown",
   "id": "8a707001-81fa-4f70-af9a-9ea30552ff8c",
   "metadata": {},
   "source": [
    "\n",
    "<img src='http://wiki.stat.ucla.edu/socr/uploads/a/ae/SOCR_Data_Dinov_HeightWeight_062408_Fig1.jpg'>"
   ]
  },
  {
   "cell_type": "markdown",
   "id": "2598f108-56df-405a-ae95-06f7352cdb37",
   "metadata": {},
   "source": [
    "<h2 style =\"color: #c1121f;font-size:35px; font-style:bold; text-decoration: underline;\"> Step 1: Acquire </h2>\n",
    "\n",
    "### Step 1.a: Explore Problem\n",
    "    \n",
    "##### Problem is to predict Human Weight with Given Height.<br>\n",
    "\n",
    "   \n",
    "### Step 1.b: Indentify Data\n",
    "\n",
    "##### Human height and weight dataset are availble in <a href = 'http://wiki.stat.ucla.edu/socr/index.php/Main_Page'>Statistics Online Computational Resource (SOCR)</a> website .\n",
    " \n",
    "### Step 1.c: About Data\n",
    "\n",
    "##### Human Height and Weight are mostly hereditable, but lifestyles, diet, health and environmental factors also play a role in determining individual's physical characteristics. The dataset below contains 25,000 synthetic records of human heights and weights of 18 years old children. These data were simulated based on a 1993 by a Growth Survey of 25,000 children from birth to 18 years of age recruited from Maternal and Child Health Centres (MCHC) and schools and were used to develop Hong Kong's current growth charts for weight, height, weight-for-age, weight-for-height and body mass index (BMI) <a href = 'http://wiki.stat.ucla.edu/socr/index.php/SOCR_Data_Dinov_020108_HeightsWeights'>Dataset</a>. <br>\n",
    "\n",
    "### Step 1.d: import Data\n"
   ]
  },
  {
   "cell_type": "code",
   "execution_count": 1,
   "id": "817d9171-376d-4359-8467-883de93a4cc1",
   "metadata": {},
   "outputs": [],
   "source": [
    "import pandas as pd"
   ]
  },
  {
   "cell_type": "code",
   "execution_count": 2,
   "id": "b43819d4-6915-485c-aa1e-ad8167f9caae",
   "metadata": {},
   "outputs": [],
   "source": [
    "# 1. Assign path link in varible wiki_link\n",
    "wiki_link = r\"http://socr.ucla.edu/docs/resources/SOCR_Data/SOCR_Data_Dinov_020108_HeightsWeights.html\""
   ]
  },
  {
   "cell_type": "code",
   "execution_count": 3,
   "id": "2f1a0087-426e-4121-a868-07bd8cc1eac0",
   "metadata": {},
   "outputs": [
    {
     "data": {
      "text/plain": [
       "[           0               1               2\n",
       " 0      Index  Height(Inches)  Weight(Pounds)\n",
       " 1          1        65.78331        112.9925\n",
       " 2          2        71.51521        136.4873\n",
       " 3          3        69.39874        153.0269\n",
       " 4          4         68.2166        142.3354\n",
       " ...      ...             ...             ...\n",
       " 24996  24996        69.50215        118.0312\n",
       " 24997  24997        64.54826        120.1932\n",
       " 24998  24998        64.69855        118.2655\n",
       " 24999  24999        67.52918        132.2682\n",
       " 25000  25000        68.87761        124.8742\n",
       " \n",
       " [25001 rows x 3 columns]]"
      ]
     },
     "execution_count": 3,
     "metadata": {},
     "output_type": "execute_result"
    }
   ],
   "source": [
    "# 2. Read HTML path link\n",
    "html_data = pd.read_html(wiki_link)\n",
    "html_data"
   ]
  },
  {
   "cell_type": "code",
   "execution_count": 5,
   "id": "0c0f8906-2b1a-4523-9c13-b744e720ae08",
   "metadata": {},
   "outputs": [
    {
     "data": {
      "text/plain": [
       "list"
      ]
     },
     "execution_count": 5,
     "metadata": {},
     "output_type": "execute_result"
    }
   ],
   "source": [
    "# check html_data data type \n",
    "type(html_data)\n"
   ]
  },
  {
   "cell_type": "code",
   "execution_count": 6,
   "id": "fdc8b388-f102-4326-a47f-616b1fc89367",
   "metadata": {
    "tags": []
   },
   "outputs": [
    {
     "data": {
      "text/plain": [
       "array([[['Index', 'Height(Inches)', 'Weight(Pounds)'],\n",
       "        ['1', '65.78331', '112.9925'],\n",
       "        ['2', '71.51521', '136.4873'],\n",
       "        ...,\n",
       "        ['24998', '64.69855', '118.2655'],\n",
       "        ['24999', '67.52918', '132.2682'],\n",
       "        ['25000', '68.87761', '124.8742']]], dtype=object)"
      ]
     },
     "execution_count": 6,
     "metadata": {},
     "output_type": "execute_result"
    }
   ],
   "source": [
    "# 3. convert list to array \n",
    "\n",
    "import numpy as np\n",
    "\n",
    "data_array = np.array(html_data)\n",
    "data_array"
   ]
  },
  {
   "cell_type": "code",
   "execution_count": 7,
   "id": "33ac8a87-d054-4747-9e69-d66f478c67c5",
   "metadata": {},
   "outputs": [
    {
     "data": {
      "text/plain": [
       "array([['Index', 'Height(Inches)', 'Weight(Pounds)'],\n",
       "       ['1', '65.78331', '112.9925'],\n",
       "       ['2', '71.51521', '136.4873'],\n",
       "       ...,\n",
       "       ['24998', '64.69855', '118.2655'],\n",
       "       ['24999', '67.52918', '132.2682'],\n",
       "       ['25000', '68.87761', '124.8742']], dtype=object)"
      ]
     },
     "execution_count": 7,
     "metadata": {},
     "output_type": "execute_result"
    }
   ],
   "source": [
    "# 2-d array\n",
    "data_array[0]"
   ]
  },
  {
   "cell_type": "code",
   "execution_count": 8,
   "id": "fe905cea-9cb3-4c5a-81d7-061d1eb0d6d5",
   "metadata": {},
   "outputs": [
    {
     "data": {
      "text/plain": [
       "array(['Index', 'Height(Inches)', 'Weight(Pounds)'], dtype=object)"
      ]
     },
     "execution_count": 8,
     "metadata": {},
     "output_type": "execute_result"
    }
   ],
   "source": [
    "# Columns name \n",
    "data_array[0][0]"
   ]
  },
  {
   "cell_type": "code",
   "execution_count": 10,
   "id": "f3685b8a-68dc-4485-bfa0-b8273979ff6b",
   "metadata": {},
   "outputs": [
    {
     "data": {
      "text/html": [
       "<div>\n",
       "<style scoped>\n",
       "    .dataframe tbody tr th:only-of-type {\n",
       "        vertical-align: middle;\n",
       "    }\n",
       "\n",
       "    .dataframe tbody tr th {\n",
       "        vertical-align: top;\n",
       "    }\n",
       "\n",
       "    .dataframe thead th {\n",
       "        text-align: right;\n",
       "    }\n",
       "</style>\n",
       "<table border=\"1\" class=\"dataframe\">\n",
       "  <thead>\n",
       "    <tr style=\"text-align: right;\">\n",
       "      <th></th>\n",
       "      <th>Index</th>\n",
       "      <th>Height(Inches)</th>\n",
       "      <th>Weight(Pounds)</th>\n",
       "    </tr>\n",
       "  </thead>\n",
       "  <tbody>\n",
       "    <tr>\n",
       "      <th>0</th>\n",
       "      <td>1</td>\n",
       "      <td>65.78331</td>\n",
       "      <td>112.9925</td>\n",
       "    </tr>\n",
       "    <tr>\n",
       "      <th>1</th>\n",
       "      <td>2</td>\n",
       "      <td>71.51521</td>\n",
       "      <td>136.4873</td>\n",
       "    </tr>\n",
       "    <tr>\n",
       "      <th>2</th>\n",
       "      <td>3</td>\n",
       "      <td>69.39874</td>\n",
       "      <td>153.0269</td>\n",
       "    </tr>\n",
       "    <tr>\n",
       "      <th>3</th>\n",
       "      <td>4</td>\n",
       "      <td>68.2166</td>\n",
       "      <td>142.3354</td>\n",
       "    </tr>\n",
       "    <tr>\n",
       "      <th>4</th>\n",
       "      <td>5</td>\n",
       "      <td>67.78781</td>\n",
       "      <td>144.2971</td>\n",
       "    </tr>\n",
       "    <tr>\n",
       "      <th>...</th>\n",
       "      <td>...</td>\n",
       "      <td>...</td>\n",
       "      <td>...</td>\n",
       "    </tr>\n",
       "    <tr>\n",
       "      <th>24995</th>\n",
       "      <td>24996</td>\n",
       "      <td>69.50215</td>\n",
       "      <td>118.0312</td>\n",
       "    </tr>\n",
       "    <tr>\n",
       "      <th>24996</th>\n",
       "      <td>24997</td>\n",
       "      <td>64.54826</td>\n",
       "      <td>120.1932</td>\n",
       "    </tr>\n",
       "    <tr>\n",
       "      <th>24997</th>\n",
       "      <td>24998</td>\n",
       "      <td>64.69855</td>\n",
       "      <td>118.2655</td>\n",
       "    </tr>\n",
       "    <tr>\n",
       "      <th>24998</th>\n",
       "      <td>24999</td>\n",
       "      <td>67.52918</td>\n",
       "      <td>132.2682</td>\n",
       "    </tr>\n",
       "    <tr>\n",
       "      <th>24999</th>\n",
       "      <td>25000</td>\n",
       "      <td>68.87761</td>\n",
       "      <td>124.8742</td>\n",
       "    </tr>\n",
       "  </tbody>\n",
       "</table>\n",
       "<p>25000 rows × 3 columns</p>\n",
       "</div>"
      ],
      "text/plain": [
       "       Index Height(Inches) Weight(Pounds)\n",
       "0          1       65.78331       112.9925\n",
       "1          2       71.51521       136.4873\n",
       "2          3       69.39874       153.0269\n",
       "3          4        68.2166       142.3354\n",
       "4          5       67.78781       144.2971\n",
       "...      ...            ...            ...\n",
       "24995  24996       69.50215       118.0312\n",
       "24996  24997       64.54826       120.1932\n",
       "24997  24998       64.69855       118.2655\n",
       "24998  24999       67.52918       132.2682\n",
       "24999  25000       68.87761       124.8742\n",
       "\n",
       "[25000 rows x 3 columns]"
      ]
     },
     "execution_count": 10,
     "metadata": {},
     "output_type": "execute_result"
    }
   ],
   "source": [
    "# 4. Convert Array to DataFrame\n",
    "data = pd.DataFrame(data_array[0][1:],columns=data_array[0][0])\n",
    "data"
   ]
  },
  {
   "cell_type": "markdown",
   "id": "19506960-ee1e-4649-8a24-774157ebd29a",
   "metadata": {},
   "source": [
    "<h2 style =\"color: #c1121f;font-size:35px; font-style:bold; text-decoration: underline;\"> Step 2: Prepare </h2>\n",
    "\n",
    "### Step 2.a: Explore data"
   ]
  },
  {
   "cell_type": "code",
   "execution_count": 12,
   "id": "d108c0e4-97ff-4cfb-9153-01e61ff12e3f",
   "metadata": {
    "tags": []
   },
   "outputs": [
    {
     "data": {
      "text/plain": [
       "25000"
      ]
     },
     "execution_count": 12,
     "metadata": {},
     "output_type": "execute_result"
    }
   ],
   "source": [
    "len(data)"
   ]
  },
  {
   "cell_type": "code",
   "execution_count": 16,
   "id": "550fe7f4-e0c9-463c-ac19-0b5b7022d8dc",
   "metadata": {
    "tags": []
   },
   "outputs": [
    {
     "data": {
      "text/plain": [
       "(25000, 3)"
      ]
     },
     "execution_count": 16,
     "metadata": {},
     "output_type": "execute_result"
    }
   ],
   "source": [
    "data.shape"
   ]
  },
  {
   "cell_type": "markdown",
   "id": "2788682c-c034-4e6c-8147-a11735a447ab",
   "metadata": {},
   "source": [
    "<p style =\"color: #ffc300;font-size:20px; font-style:bold;\"> Analysis 1:- Rows 25000  and 3 Columns</p>"
   ]
  },
  {
   "cell_type": "code",
   "execution_count": 21,
   "id": "413b1c14-e812-48b7-93e0-03f078885eec",
   "metadata": {},
   "outputs": [
    {
     "data": {
      "text/plain": [
       "Index(['Index', 'Height(Inches)', 'Weight(Pounds)'], dtype='object')"
      ]
     },
     "execution_count": 21,
     "metadata": {},
     "output_type": "execute_result"
    }
   ],
   "source": [
    "data.columns"
   ]
  },
  {
   "cell_type": "markdown",
   "id": "a46f75a5-13ef-42e1-ad63-caa8da744204",
   "metadata": {},
   "source": [
    "<p style =\"color: #ffc300;font-size:20px; font-style:bold;\"> Analysis 2. Only 2 Feature ('Height(Inches)', 'Weight(Pounds)' Are Important  </p>"
   ]
  },
  {
   "cell_type": "code",
   "execution_count": 17,
   "id": "fe67d0a9-981d-4ae7-9e8b-55177a794d67",
   "metadata": {},
   "outputs": [
    {
     "data": {
      "text/plain": [
       "Index             0\n",
       "Height(Inches)    0\n",
       "Weight(Pounds)    0\n",
       "dtype: int64"
      ]
     },
     "execution_count": 17,
     "metadata": {},
     "output_type": "execute_result"
    }
   ],
   "source": [
    "data.isna().sum()"
   ]
  },
  {
   "cell_type": "markdown",
   "id": "3f56e37f-1e6f-4ab4-a1b6-95cd65d14420",
   "metadata": {},
   "source": [
    "<p style =\"color: #ffc300;font-size:20px; font-style:bold;\"> Analysis 3.No Null Data in Features</p>"
   ]
  },
  {
   "cell_type": "code",
   "execution_count": 20,
   "id": "eb59af67-a311-4ca0-aff2-99ff73ff618b",
   "metadata": {},
   "outputs": [
    {
     "data": {
      "text/html": [
       "<div>\n",
       "<style scoped>\n",
       "    .dataframe tbody tr th:only-of-type {\n",
       "        vertical-align: middle;\n",
       "    }\n",
       "\n",
       "    .dataframe tbody tr th {\n",
       "        vertical-align: top;\n",
       "    }\n",
       "\n",
       "    .dataframe thead th {\n",
       "        text-align: right;\n",
       "    }\n",
       "</style>\n",
       "<table border=\"1\" class=\"dataframe\">\n",
       "  <thead>\n",
       "    <tr style=\"text-align: right;\">\n",
       "      <th></th>\n",
       "      <th>Index</th>\n",
       "      <th>Height(Inches)</th>\n",
       "      <th>Weight(Pounds)</th>\n",
       "    </tr>\n",
       "  </thead>\n",
       "  <tbody>\n",
       "    <tr>\n",
       "      <th>count</th>\n",
       "      <td>25000</td>\n",
       "      <td>25000</td>\n",
       "      <td>25000</td>\n",
       "    </tr>\n",
       "    <tr>\n",
       "      <th>unique</th>\n",
       "      <td>25000</td>\n",
       "      <td>24503</td>\n",
       "      <td>24248</td>\n",
       "    </tr>\n",
       "    <tr>\n",
       "      <th>top</th>\n",
       "      <td>1</td>\n",
       "      <td>65.65796</td>\n",
       "      <td>124.7975</td>\n",
       "    </tr>\n",
       "    <tr>\n",
       "      <th>freq</th>\n",
       "      <td>1</td>\n",
       "      <td>3</td>\n",
       "      <td>4</td>\n",
       "    </tr>\n",
       "  </tbody>\n",
       "</table>\n",
       "</div>"
      ],
      "text/plain": [
       "        Index Height(Inches) Weight(Pounds)\n",
       "count   25000          25000          25000\n",
       "unique  25000          24503          24248\n",
       "top         1       65.65796       124.7975\n",
       "freq        1              3              4"
      ]
     },
     "execution_count": 20,
     "metadata": {},
     "output_type": "execute_result"
    }
   ],
   "source": [
    "data.describe()"
   ]
  },
  {
   "cell_type": "markdown",
   "id": "3fbfea67-78b9-4c83-a99f-ca6ea94c536d",
   "metadata": {},
   "source": [
    "<p style =\"color: #ffc300;font-size:20px; \n",
    "                    font-style:bold;\" > Analysis 4.Feature not in Numeric type</p>"
   ]
  },
  {
   "cell_type": "code",
   "execution_count": 13,
   "id": "657d052a-6a48-4190-9320-ac87ce94dff1",
   "metadata": {},
   "outputs": [
    {
     "name": "stdout",
     "output_type": "stream",
     "text": [
      "<class 'pandas.core.frame.DataFrame'>\n",
      "RangeIndex: 25000 entries, 0 to 24999\n",
      "Data columns (total 3 columns):\n",
      " #   Column          Non-Null Count  Dtype \n",
      "---  ------          --------------  ----- \n",
      " 0   Index           25000 non-null  object\n",
      " 1   Height(Inches)  25000 non-null  object\n",
      " 2   Weight(Pounds)  25000 non-null  object\n",
      "dtypes: object(3)\n",
      "memory usage: 586.1+ KB\n"
     ]
    }
   ],
   "source": [
    "data.info()"
   ]
  },
  {
   "cell_type": "markdown",
   "id": "84ad13cf-5a3e-4a19-b3be-efa295901b44",
   "metadata": {},
   "source": [
    "<p style =\"color: #ffc300;font-size:20px; \n",
    "                    font-style:bold;\" > Analysis 5. Feature 'Height(Inches)' Unit is in 'Inches' which need to change in 'Feet' & 'Weight(Pounds)' unit is 'Pounds' that need to change in 'Kilogram(KG)'</p>"
   ]
  },
  {
   "cell_type": "markdown",
   "id": "8be1747d-7b86-47b3-99f5-3bcf03786610",
   "metadata": {},
   "source": [
    "### Step 2.b: Visulize data"
   ]
  },
  {
   "cell_type": "code",
   "execution_count": null,
   "id": "64974fd1-5149-4461-b3a6-3fbe21115991",
   "metadata": {},
   "outputs": [],
   "source": [
    "import seaborn as sn\n",
    "from matplotlib import pyplot as plt\n",
    "%matplotlib inline\n",
    "import warnings\n",
    "warnings.filterwarnings('ignore')"
   ]
  },
  {
   "cell_type": "code",
   "execution_count": null,
   "id": "81c7fb8e-cf00-4879-9468-5fabe5ef2c07",
   "metadata": {},
   "outputs": [],
   "source": []
  },
  {
   "cell_type": "code",
   "execution_count": null,
   "id": "1f427517-37d8-4252-be71-c5f73dbef372",
   "metadata": {},
   "outputs": [],
   "source": []
  },
  {
   "cell_type": "code",
   "execution_count": null,
   "id": "3dc6528b-40ae-45ce-9dd4-005ad6f85e7d",
   "metadata": {},
   "outputs": [],
   "source": []
  }
 ],
 "metadata": {
  "kernelspec": {
   "display_name": "Python 3 (ipykernel)",
   "language": "python",
   "name": "python3"
  },
  "language_info": {
   "codemirror_mode": {
    "name": "ipython",
    "version": 3
   },
   "file_extension": ".py",
   "mimetype": "text/x-python",
   "name": "python",
   "nbconvert_exporter": "python",
   "pygments_lexer": "ipython3",
   "version": "3.9.12"
  },
  "widgets": {
   "application/vnd.jupyter.widget-state+json": {
    "state": {},
    "version_major": 2,
    "version_minor": 0
   }
  }
 },
 "nbformat": 4,
 "nbformat_minor": 5
}
