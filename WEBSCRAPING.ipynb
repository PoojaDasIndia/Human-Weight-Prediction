{
 "cells": [
  {
   "cell_type": "code",
   "execution_count": 2,
   "id": "e6f68b0c-9792-4499-a549-f117e945f6cc",
   "metadata": {},
   "outputs": [],
   "source": [
    "import requests"
   ]
  },
  {
   "cell_type": "code",
   "execution_count": 3,
   "id": "fd32228e-5fac-4ed1-bd00-a212358ea35f",
   "metadata": {},
   "outputs": [],
   "source": [
    "url=\"https://business.mygulfcoastchamber.com/list/searchalpha/\"\n",
    "request=requests.get(url)"
   ]
  },
  {
   "cell_type": "code",
   "execution_count": 5,
   "id": "3dd07eec-f49b-4fe7-9745-45cd11924aff",
   "metadata": {},
   "outputs": [
    {
     "name": "stdout",
     "output_type": "stream",
     "text": [
      "https://business.mygulfcoastchamber.com/list/searchalpha/a?q=a&o=&\n"
     ]
    }
   ],
   "source": [
    "print(request.url)"
   ]
  },
  {
   "cell_type": "code",
   "execution_count": 4,
   "id": "811d5d82-3469-47bb-9421-96001b14a862",
   "metadata": {},
   "outputs": [],
   "source": [
    "from bs4 import BeautifulSoup as bs"
   ]
  },
  {
   "cell_type": "code",
   "execution_count": 116,
   "id": "c017a157-1c36-45c9-8ae2-32a98af2abc5",
   "metadata": {},
   "outputs": [],
   "source": [
    "soup = bs(request.content, 'html.parser')"
   ]
  },
  {
   "cell_type": "code",
   "execution_count": 86,
   "id": "eef712f3-6ac7-4c5b-befa-ea8e6bb82a66",
   "metadata": {},
   "outputs": [],
   "source": [
    "site=[]\n",
    "name=[]"
   ]
  },
  {
   "cell_type": "code",
   "execution_count": 87,
   "id": "25578b4c-f72a-4cdb-9a0e-99a044b236ad",
   "metadata": {},
   "outputs": [],
   "source": [
    "a=soup.find('div',id='mn-members')\n",
    "for i in a.find_all('div',class_='mn-title'):\n",
    "    for j in i.find_all('a'):\n",
    "        site.append(j.get('href'))\n",
    "        name.append(j.text)"
   ]
  },
  {
   "cell_type": "code",
   "execution_count": 93,
   "id": "cffd132d-9f43-42ec-ad74-31bdebae6c1e",
   "metadata": {},
   "outputs": [
    {
     "name": "stdout",
     "output_type": "stream",
     "text": [
      "https://business.mygulfcoastchamber.com/list/searchalpha/a\n",
      "https://business.mygulfcoastchamber.com/list/searchalpha/b\n",
      "https://business.mygulfcoastchamber.com/list/searchalpha/c\n",
      "https://business.mygulfcoastchamber.com/list/searchalpha/d\n",
      "https://business.mygulfcoastchamber.com/list/searchalpha/e\n",
      "https://business.mygulfcoastchamber.com/list/searchalpha/f\n",
      "https://business.mygulfcoastchamber.com/list/searchalpha/g\n",
      "https://business.mygulfcoastchamber.com/list/searchalpha/h\n",
      "https://business.mygulfcoastchamber.com/list/searchalpha/i\n",
      "https://business.mygulfcoastchamber.com/list/searchalpha/j\n",
      "https://business.mygulfcoastchamber.com/list/searchalpha/k\n",
      "https://business.mygulfcoastchamber.com/list/searchalpha/l\n",
      "https://business.mygulfcoastchamber.com/list/searchalpha/m\n",
      "https://business.mygulfcoastchamber.com/list/searchalpha/n\n",
      "https://business.mygulfcoastchamber.com/list/searchalpha/o\n",
      "https://business.mygulfcoastchamber.com/list/searchalpha/p\n",
      "https://business.mygulfcoastchamber.com/list/searchalpha/q\n",
      "'NoneType' object has no attribute 'find_all'\n",
      "https://business.mygulfcoastchamber.com/list/searchalpha/r\n",
      "https://business.mygulfcoastchamber.com/list/searchalpha/s\n",
      "https://business.mygulfcoastchamber.com/list/searchalpha/t\n",
      "https://business.mygulfcoastchamber.com/list/searchalpha/u\n",
      "https://business.mygulfcoastchamber.com/list/searchalpha/v\n",
      "https://business.mygulfcoastchamber.com/list/searchalpha/w\n",
      "https://business.mygulfcoastchamber.com/list/searchalpha/x\n",
      "'NoneType' object has no attribute 'find_all'\n",
      "https://business.mygulfcoastchamber.com/list/searchalpha/y\n",
      "https://business.mygulfcoastchamber.com/list/searchalpha/z\n",
      "https://business.mygulfcoastchamber.com/list/searchalpha/0-9\n"
     ]
    }
   ],
   "source": [
    "company_name=[]\n",
    "company_link=[]\n",
    "\n",
    "url=\"https://business.mygulfcoastchamber.com/list/searchalpha/\"\n",
    "url1=\"https://business.mygulfcoastchamber.com/list/searchalpha/0-9\"\n",
    "for page in range(97, 123) :\n",
    " \n",
    "    req = requests.get(url+chr(page))\n",
    "    try:\n",
    "        soup = bs(req.content, 'html.parser')\n",
    "        print(req.url)\n",
    "        a=soup.find('div',id='mn-members')\n",
    "        for i in a.find_all('div',class_='mn-title'):\n",
    "            for j in i.find_all('a'):\n",
    "                company_link.append(j.get('href'))\n",
    "                company_name.append(j.text)\n",
    "    except Exception as e:\n",
    "        print(e)\n",
    "\n",
    "req1 = requests.get(url1)\n",
    "try:\n",
    "    soup = bs(req1.content, 'html.parser')\n",
    "    print(req1.url)\n",
    "    a=soup.find('div',id='mn-members')\n",
    "    for i in a.find_all('div',class_='mn-title'):\n",
    "        for j in i.find_all('a'):\n",
    "            company_link.append(j.get('href'))\n",
    "            company_name.append(j.text)\n",
    "except Exception as e:\n",
    "    print(e)\n",
    "        "
   ]
  },
  {
   "cell_type": "markdown",
   "id": "e7a1482f-8893-46ab-9b11-9992f02fee8d",
   "metadata": {},
   "source": [
    "\n",
    "url=\"https://business.mygulfcoastchamber.com/list/searchalpha/0-9\"\n",
    "for page in range(0, 10):\n",
    " \n",
    "    req = requests.get(url+str(page))\n",
    "    print(req.url)\n",
    "    try:\n",
    "        soup = bs(req.content, 'html.parser')\n",
    "        # print(req.url)\n",
    "        a=soup.find('div',id='mn-members')\n",
    "        for i in a.find_all('div',class_='mn-title'):\n",
    "            for j in i.find_all('a'):\n",
    "                company_link.append(j.get('href'))\n",
    "                company_name.append(j.text)\n",
    "    except Exception as e:\n",
    "        print(e)"
   ]
  },
  {
   "cell_type": "code",
   "execution_count": 94,
   "id": "41a111d0-d410-4ea4-8fb9-8cfb9f7e87ae",
   "metadata": {},
   "outputs": [
    {
     "data": {
      "text/plain": [
       "860"
      ]
     },
     "execution_count": 94,
     "metadata": {},
     "output_type": "execute_result"
    }
   ],
   "source": [
    "len(company_name)"
   ]
  },
  {
   "cell_type": "markdown",
   "id": "7e32e6f3-0444-44ff-bf99-11bf87d19352",
   "metadata": {},
   "source": [
    "company_name"
   ]
  },
  {
   "cell_type": "code",
   "execution_count": 95,
   "id": "9a25ea41-4b6b-4641-8f0c-adc75704497e",
   "metadata": {},
   "outputs": [],
   "source": [
    "import pandas as pd\n",
    "df = pd.DataFrame({'Company Name':company_name,'Company Profile Link':company_link}) \n",
    "df.to_csv('canada_ALL.csv',index=False)"
   ]
  },
  {
   "cell_type": "code",
   "execution_count": 96,
   "id": "98c26793-1cd6-4c22-b864-f1c1d2efc788",
   "metadata": {},
   "outputs": [],
   "source": [
    "data=pd.read_csv('canada_ALL.csv')"
   ]
  },
  {
   "cell_type": "code",
   "execution_count": 140,
   "id": "ecaa40bb-0ba0-46cd-92ee-7d70bd456132",
   "metadata": {},
   "outputs": [
    {
     "data": {
      "text/html": [
       "<div>\n",
       "<style scoped>\n",
       "    .dataframe tbody tr th:only-of-type {\n",
       "        vertical-align: middle;\n",
       "    }\n",
       "\n",
       "    .dataframe tbody tr th {\n",
       "        vertical-align: top;\n",
       "    }\n",
       "\n",
       "    .dataframe thead th {\n",
       "        text-align: right;\n",
       "    }\n",
       "</style>\n",
       "<table border=\"1\" class=\"dataframe\">\n",
       "  <thead>\n",
       "    <tr style=\"text-align: right;\">\n",
       "      <th></th>\n",
       "      <th>Company Name</th>\n",
       "      <th>Company Profile Link</th>\n",
       "    </tr>\n",
       "  </thead>\n",
       "  <tbody>\n",
       "    <tr>\n",
       "      <th>0</th>\n",
       "      <td>ACI Health Insurance Solutions</td>\n",
       "      <td>https://business.mygulfcoastchamber.com/list/m...</td>\n",
       "    </tr>\n",
       "    <tr>\n",
       "      <th>1</th>\n",
       "      <td>Alabama Gulf Coast Zoo</td>\n",
       "      <td>https://business.mygulfcoastchamber.com/list/m...</td>\n",
       "    </tr>\n",
       "    <tr>\n",
       "      <th>2</th>\n",
       "      <td>Alabama Charter Fishing Association dba Orange...</td>\n",
       "      <td>https://business.mygulfcoastchamber.com/list/m...</td>\n",
       "    </tr>\n",
       "    <tr>\n",
       "      <th>3</th>\n",
       "      <td>Alpha Foundations</td>\n",
       "      <td>https://business.mygulfcoastchamber.com/list/m...</td>\n",
       "    </tr>\n",
       "    <tr>\n",
       "      <th>4</th>\n",
       "      <td>Al-RV Parks LLC</td>\n",
       "      <td>https://business.mygulfcoastchamber.com/list/m...</td>\n",
       "    </tr>\n",
       "    <tr>\n",
       "      <th>...</th>\n",
       "      <td>...</td>\n",
       "      <td>...</td>\n",
       "    </tr>\n",
       "    <tr>\n",
       "      <th>855</th>\n",
       "      <td>6AM Digital</td>\n",
       "      <td>https://business.mygulfcoastchamber.com/list/m...</td>\n",
       "    </tr>\n",
       "    <tr>\n",
       "      <th>856</th>\n",
       "      <td>1st Georgia Home Mortgage</td>\n",
       "      <td>https://business.mygulfcoastchamber.com/list/m...</td>\n",
       "    </tr>\n",
       "    <tr>\n",
       "      <th>857</th>\n",
       "      <td>1st Class Stucco M.D., LLC</td>\n",
       "      <td>https://business.mygulfcoastchamber.com/list/m...</td>\n",
       "    </tr>\n",
       "    <tr>\n",
       "      <th>858</th>\n",
       "      <td>9th Gear Marketing</td>\n",
       "      <td>https://business.mygulfcoastchamber.com/list/m...</td>\n",
       "    </tr>\n",
       "    <tr>\n",
       "      <th>859</th>\n",
       "      <td>1.50 Golf</td>\n",
       "      <td>https://business.mygulfcoastchamber.com/list/m...</td>\n",
       "    </tr>\n",
       "  </tbody>\n",
       "</table>\n",
       "<p>860 rows × 2 columns</p>\n",
       "</div>"
      ],
      "text/plain": [
       "                                          Company Name  \\\n",
       "0                       ACI Health Insurance Solutions   \n",
       "1                               Alabama Gulf Coast Zoo   \n",
       "2    Alabama Charter Fishing Association dba Orange...   \n",
       "3                                    Alpha Foundations   \n",
       "4                                      Al-RV Parks LLC   \n",
       "..                                                 ...   \n",
       "855                                        6AM Digital   \n",
       "856                          1st Georgia Home Mortgage   \n",
       "857                         1st Class Stucco M.D., LLC   \n",
       "858                                 9th Gear Marketing   \n",
       "859                                          1.50 Golf   \n",
       "\n",
       "                                  Company Profile Link  \n",
       "0    https://business.mygulfcoastchamber.com/list/m...  \n",
       "1    https://business.mygulfcoastchamber.com/list/m...  \n",
       "2    https://business.mygulfcoastchamber.com/list/m...  \n",
       "3    https://business.mygulfcoastchamber.com/list/m...  \n",
       "4    https://business.mygulfcoastchamber.com/list/m...  \n",
       "..                                                 ...  \n",
       "855  https://business.mygulfcoastchamber.com/list/m...  \n",
       "856  https://business.mygulfcoastchamber.com/list/m...  \n",
       "857  https://business.mygulfcoastchamber.com/list/m...  \n",
       "858  https://business.mygulfcoastchamber.com/list/m...  \n",
       "859  https://business.mygulfcoastchamber.com/list/m...  \n",
       "\n",
       "[860 rows x 2 columns]"
      ]
     },
     "execution_count": 140,
     "metadata": {},
     "output_type": "execute_result"
    }
   ],
   "source": [
    "data\n",
    "\n"
   ]
  },
  {
   "cell_type": "code",
   "execution_count": null,
   "id": "127835ff-19db-4239-85ae-20b897e519d8",
   "metadata": {
    "tags": []
   },
   "outputs": [],
   "source": [
    "phone=[]\n",
    "addressRg=[]\n",
    "alo=[]\n",
    "stadd=[]\n",
    "postalco=[]\n",
    "name=[]\n",
    "cats=[]\n",
    "website=[]\n",
    "contactP=[]\n",
    "conPhone=[]\n",
    "\n",
    "for links in data['Company Profile Link']:\n",
    "   \n",
    "    req = requests.get(links)\n",
    "    soup = bs(req.content, 'html5lib')\n",
    "    \n",
    "    link.append(req.url)\n",
    "    a=soup.find('div',class_='mn-member-sidebar')\n",
    "\n",
    "    try:\n",
    "        \n",
    "        if a.find('div', class_=\"mn-member-phone1\"):\n",
    "            phone.append(a.find('div', class_=\"mn-member-phone1\").text)\n",
    "        \n",
    "        else:\n",
    "            phone.append(\"NAN\") \n",
    "\n",
    "\n",
    "        if a.find('div',class_='mn-address1'):\n",
    "            stadd.append(a.find('div',class_='mn-address1').text)\n",
    "        else:\n",
    "            stadd.append(\"NAN\") \n",
    "\n",
    "\n",
    "        if a.find('span', class_=\"mn-cityspan\"):\n",
    "            alo.append(a.find('span', class_=\"mn-cityspan\").text)\n",
    "        else:\n",
    "            alo.append(\"NAN\")\n",
    "\n",
    "        if a.find('span', class_=\"mn-stspan\"):\n",
    "            addressRg.append(a.find('span', class_=\"mn-stspan\").text)\n",
    "        else:\n",
    "            addressRg.append(\"NAN\")\n",
    "\n",
    "        if a.find('span', class_=\"mn-zipspan\"):\n",
    "            postalco.append(a.find('span', class_=\"mn-zipspan\").text)\n",
    "        else:\n",
    "            postalco.append(\"NAN\")\n",
    "\n",
    "        if soup.title:\n",
    "            name.append((soup.title.text).split('|')[0].strip())\n",
    "        else:\n",
    "            name.append('nan')\n",
    "            \n",
    "        if soup.title:\n",
    "            try:\n",
    "                cats.append(((soup.title.text).split('|'))[1])\n",
    "            except IndexError:\n",
    "                 cats.append('nan')\n",
    "        else:\n",
    "            cats.append('nan')\n",
    "            \n",
    "        \n",
    "        \n",
    "            \n",
    "    except Exception as e:\n",
    "        print(e)\n",
    "        \n",
    "for links in data['Company Profile Link']:\n",
    "    req = requests.get(links)\n",
    "    soup = bs(req.content, 'html5lib')\n",
    "    # print(req.url)\n",
    "    s=soup.find('div', class_=\"mn-memberinfo-block-actions\")\n",
    "    if soup.find('a', class_=\"mn-print-url\"):\n",
    "        h=s.find('a', class_=\"mn-print-url\")\n",
    "        website.append(h.get('href'))\n",
    "    else:\n",
    "        website.append(\"nan\")\n",
    "        \n",
    "for links in data['Company Profile Link']:\n",
    "    req = requests.get(links)\n",
    "    soup = bs(req.content, 'html5lib')\n",
    "         \n",
    "    c=soup.find('div', class_=\"mn-member-repname\")\n",
    "    if soup.find('span', class_=\"mn-rep-fullname\"):\n",
    "        contactP.append(c.find('span', class_=\"mn-rep-fullname\").text)\n",
    "    else:\n",
    "        contactP.append(\"nan\")\n",
    "        \n",
    "        \n",
    "for links in data['Company Profile Link']:\n",
    "    req = requests.get(links)\n",
    "    soup = bs(req.content, 'html5lib')            \n",
    "    p=soup.find('div', class_=\"mn-member-repphone\")\n",
    "    if soup.find('div', class_=\"mn-member-repphone\"):\n",
    "        conPhone.append((p.find_all('span')[1]).text)\n",
    "    else:\n",
    "        conPhone.append(\"nan\")\n",
    "    \n",
    "    \n",
    "\n",
    "    "
   ]
  },
  {
   "cell_type": "markdown",
   "id": "fdf65b4a-d832-4550-a097-f40cafc24b18",
   "metadata": {},
   "source": [
    "u=\"https://business.mygulfcoastchamber.com/list/member/aci-health-insurance-solutions-8853\""
   ]
  },
  {
   "cell_type": "code",
   "execution_count": null,
   "id": "c4216d75-e1d3-471a-822b-1180fbbb02de",
   "metadata": {},
   "outputs": [],
   "source": [
    "for links in data['Company Profile Link']:\n",
    "   \n",
    "    req = requests.get(links)"
   ]
  },
  {
   "cell_type": "markdown",
   "id": "cdd08b10-6bc9-4458-a25b-202e7219bf9c",
   "metadata": {},
   "source": [
    "c=0\n",
    "site=[]\n",
    "name=[]\n",
    "a=soup.find('div',id='mn-members')\n",
    "for i in a.find_all('div',class_='mn-title'):\n",
    "    for j in i.find_all('a')\n",
    "        site.append(j.get('href'))\n",
    "        name.append(j.text)"
   ]
  },
  {
   "cell_type": "code",
   "execution_count": null,
   "id": "0c82beb1-b6f4-41a9-b9c9-df3faee6c3a4",
   "metadata": {},
   "outputs": [],
   "source": [
    "df = pd.DataFrame({\n",
    "\n",
    "'Phone':phone,\n",
    "'Steet Address':stadd,\n",
    "'Address Region':addressRg,\n",
    "'City':alo,\n",
    "'Postal Code':postalco,\n",
    "'Name':name,\n",
    "'Descrition':cats,\n",
    "'Owner':contactP,\n",
    "'Website': website,\n",
    "'Owner Mobile':conPhone\n",
    "   \n",
    "})\n",
    "df.to_csv('Canada_Data_ALL.csv',index=False)"
   ]
  },
  {
   "cell_type": "code",
   "execution_count": null,
   "id": "0956c57f-f5ae-49d7-9745-b169e3a7f520",
   "metadata": {},
   "outputs": [],
   "source": [
    "pd.read_csv('Canada_Data_ALL.csv')"
   ]
  },
  {
   "cell_type": "code",
   "execution_count": 75,
   "id": "8150fd3e-05b3-4c23-9e16-0cd18bc2597a",
   "metadata": {
    "tags": []
   },
   "outputs": [],
   "source": [
    "cats=[]\n",
    "name=[]\n",
    "if soup.title:\n",
    "    name.append((soup.title.text).split('|')[0].strip())\n",
    "else:\n",
    "    name.append(' ')\n",
    "if soup.title:\n",
    "    try:\n",
    "        cats.append(((soup.title.text).split('|'))[1])\n",
    "    except IndexError:\n",
    "         cats.append('nan')\n",
    "else:\n",
    "    cats.append('nan')"
   ]
  },
  {
   "cell_type": "code",
   "execution_count": 76,
   "id": "e465a6d3-a604-4b4b-a6af-f454f31947bf",
   "metadata": {},
   "outputs": [
    {
     "data": {
      "text/plain": [
       "'https://business.mygulfcoastchamber.com/list/member/anonyme-cruises-8444'"
      ]
     },
     "execution_count": 76,
     "metadata": {},
     "output_type": "execute_result"
    }
   ],
   "source": [
    "data['Company Profile Link'][2]"
   ]
  },
  {
   "cell_type": "code",
   "execution_count": 108,
   "id": "a94eae54-dcb9-47bc-bd48-3a8d0f338d44",
   "metadata": {},
   "outputs": [],
   "source": [
    "req = requests.get('https://business.mygulfcoastchamber.com/list/member/anonyme-cruises-8444')\n",
    "soup = bs(req.content, 'html.parser')\n",
    "s=soup.find('div', class_=\"mn-memberinfo-block-actions\")\n",
    "if soup.find('div', class_=\"mn-memberinfo-block-actions\"):\n",
    "    website.append((s.find('a', class_=\"mn-print-url\")).get('href'))\n",
    "else:\n",
    "    website.append(\"nan\")"
   ]
  },
  {
   "cell_type": "code",
   "execution_count": 109,
   "id": "4b2c54fd-befd-43f0-b3b5-1b44c34caa37",
   "metadata": {},
   "outputs": [
    {
     "data": {
      "text/plain": [
       "['http://http:/aciadvisors.org',\n",
       " 'http://www.alabamagulfcoastzoo.org',\n",
       " 'http://alabamacharterfishingassociation.com',\n",
       " None,\n",
       " <a class=\"mn-print-url\" href=\"http://www.anonymecruises.com\" itemprop=\"url\" onclick=\"MNI.Hit.MemberWebsite(8444)\" target=\"_self\" title=\"Visit the website of Anonyme Cruises\">Visit Website</a>,\n",
       " 'http://www.anonymecruises.com']"
      ]
     },
     "execution_count": 109,
     "metadata": {},
     "output_type": "execute_result"
    }
   ],
   "source": [
    "website"
   ]
  },
  {
   "cell_type": "code",
   "execution_count": 135,
   "id": "8c0b29c6-857b-42bb-b3a5-2f1044477491",
   "metadata": {},
   "outputs": [],
   "source": [
    "conPhone=[]\n",
    "for links in data['Company Profile Link'][range(0,5)]:\n",
    "    req = requests.get(links)\n",
    "    soup = bs(req.content, 'html5lib')\n",
    "         \n",
    "    p=soup.find('div', class_=\"mn-member-repphone\")\n",
    "    if soup.find('div', class_=\"mn-member-repphone\"):\n",
    "        conPhone.append((p.find_all('span')[1]).text)\n",
    "    else:\n",
    "        conPhone.append(\" \")\n",
    "        "
   ]
  },
  {
   "cell_type": "code",
   "execution_count": 137,
   "id": "1a17bfd9-abf9-40eb-81ca-6d9f414f347d",
   "metadata": {},
   "outputs": [
    {
     "data": {
      "text/plain": [
       "['(251) 279-7007', ' ', ' ', ' ', ' ']"
      ]
     },
     "execution_count": 137,
     "metadata": {},
     "output_type": "execute_result"
    }
   ],
   "source": [
    "conPhone"
   ]
  },
  {
   "cell_type": "code",
   "execution_count": 69,
   "id": "c3e42044-d3ca-4d7c-8dd9-57dcbbcff8c5",
   "metadata": {},
   "outputs": [],
   "source": [
    "phone=[]\n",
    "addressRg=[]\n",
    "alo=[]\n",
    "stadd=[]\n",
    "postalco=[]\n",
    "name=[]\n",
    "cats=[]\n",
    "website=[]\n",
    "contactP=[]\n",
    "conPhone=[]\n",
    "req = requests.get(u)\n",
    "soup = bs(req.content, 'html5lib')\n",
    "    \n",
    "# link.append(req.url)\n",
    "# a=soup.find('div',class_='mn-member-sidebar')\n",
    "\n",
    "# if a.find('div', class_=\"mn-member-phone1\"):\n",
    "#     phone.append(a.find('div', class_=\"mn-member-phone1\").text)\n",
    "# else:\n",
    "#     phone.append(\"NAN\") \n",
    "      \n",
    "\n",
    "# if a.find('div',class_='mn-address1'):\n",
    "#     stadd.append(a.find('div',class_='mn-address1').text)\n",
    "# else:\n",
    "#     stadd.append(\"NAN\") \n",
    "   \n",
    "      \n",
    "# if a.find('span', class_=\"mn-cityspan\"):\n",
    "#     alo.append(a.find('span', class_=\"mn-cityspan\").text)\n",
    "# else:\n",
    "#     alo.append(\"NAN\")\n",
    "       \n",
    "# if a.find('span', class_=\"mn-stspan\"):\n",
    "#     addressRg.append(a.find('span', class_=\"mn-stspan\").text)\n",
    "# else:\n",
    "#     addressRg.append(\"NAN\")\n",
    "\n",
    "# if a.find('span', class_=\"mn-zipspan\"):\n",
    "#     postalco.append(a.find('span', class_=\"mn-zipspan\").text)\n",
    "# else:\n",
    "#     postalco.append(\"NAN\")\n",
    "      \n",
    "# if soup.title:\n",
    "#     name.append((soup.title.text).split('|')[0].strip())\n",
    "# else:\n",
    "#     name.append(' ')\n",
    "# if soup.title:\n",
    "#     try:\n",
    "#         cats.append(((soup.title.text).split('|'))[1])\n",
    "#     except IndexError:\n",
    "#             cats.append('nan')\n",
    "# else:\n",
    "#     cats.append('nan')\n",
    "    \n",
    "# if soup.title:\n",
    "#     name.append((soup.title.text).split('|')[0].strip())\n",
    "# else:\n",
    "#     name.append(' ')\n",
    "\n",
    "\n",
    "p=soup.find('div', class_=\"mn-member-repphone\")\n",
    "try:\n",
    "    if soup.find('div', class_=\"mn-member-repphone\"):\n",
    "        conPhone.append((p.find_all('span')[1]).text)\n",
    "    else:\n",
    "        conPhone.append(\" \")\n",
    "except Exception as e:\n",
    "    print(e)"
   ]
  },
  {
   "cell_type": "code",
   "execution_count": 34,
   "id": "68a3246b-5e12-41da-aecb-c9ff18311109",
   "metadata": {},
   "outputs": [
    {
     "data": {
      "text/plain": [
       "'A'"
      ]
     },
     "execution_count": 34,
     "metadata": {},
     "output_type": "execute_result"
    }
   ],
   "source": [
    "chr(65)"
   ]
  },
  {
   "cell_type": "code",
   "execution_count": 147,
   "id": "6137cb20-3358-4181-9b48-22d2c8b450d4",
   "metadata": {},
   "outputs": [
    {
     "data": {
      "text/plain": [
       "65"
      ]
     },
     "execution_count": 147,
     "metadata": {},
     "output_type": "execute_result"
    }
   ],
   "source": [
    "ord('A')"
   ]
  },
  {
   "cell_type": "code",
   "execution_count": 30,
   "id": "1ce1e5fc-3493-40e0-be5c-87935f3d0ed7",
   "metadata": {},
   "outputs": [
    {
     "data": {
      "text/plain": [
       "['http://http:/aciadvisors.org']"
      ]
     },
     "execution_count": 30,
     "metadata": {},
     "output_type": "execute_result"
    }
   ],
   "source": [
    "website"
   ]
  },
  {
   "cell_type": "code",
   "execution_count": 50,
   "id": "7ad9a84a-2899-4f35-ab63-0e3d194ee307",
   "metadata": {},
   "outputs": [],
   "source": [
    "c=soup.find('div', class_=\"mn-member-repname\")\n",
    "c.find('span', class_=\"mn-mn-member-repname\")"
   ]
  },
  {
   "cell_type": "code",
   "execution_count": 53,
   "id": "cae0f6b8-e890-496e-83e9-3fbc93ccc241",
   "metadata": {},
   "outputs": [
    {
     "data": {
      "text/plain": [
       "['Lee B Akins']"
      ]
     },
     "execution_count": 53,
     "metadata": {},
     "output_type": "execute_result"
    }
   ],
   "source": [
    "contactP"
   ]
  },
  {
   "cell_type": "code",
   "execution_count": 54,
   "id": "f70d99a8-f38c-4870-9cb8-a7902c471b9a",
   "metadata": {},
   "outputs": [],
   "source": [
    "p=soup.find('div', class_=\"mn-member-rephone\")"
   ]
  },
  {
   "cell_type": "code",
   "execution_count": 70,
   "id": "f2436af1-e4e7-4f97-9447-dca8f77f3c7d",
   "metadata": {},
   "outputs": [
    {
     "data": {
      "text/plain": [
       "['(251) 279-7007']"
      ]
     },
     "execution_count": 70,
     "metadata": {},
     "output_type": "execute_result"
    }
   ],
   "source": [
    "conPhone"
   ]
  },
  {
   "cell_type": "markdown",
   "id": "749f1260-d6fc-4615-ae23-b24420d860de",
   "metadata": {},
   "source": [
    "https://business.cochawaii.org/list/\n",
    "\n",
    "\n",
    "\n",
    "\n",
    "\n",
    "￼\n",
    "Amit Kumar\n",
    "(2:32 PM) http://constantcontactsites.com/\n",
    "\n",
    "\n",
    "\n",
    "(2:32 PM) https://mobiletekt100.constantcontactsites.com/\n",
    "\n"
   ]
  }
 ],
 "metadata": {
  "kernelspec": {
   "display_name": "Python 3 (ipykernel)",
   "language": "python",
   "name": "python3"
  },
  "language_info": {
   "codemirror_mode": {
    "name": "ipython",
    "version": 3
   },
   "file_extension": ".py",
   "mimetype": "text/x-python",
   "name": "python",
   "nbconvert_exporter": "python",
   "pygments_lexer": "ipython3",
   "version": "3.10.9"
  }
 },
 "nbformat": 4,
 "nbformat_minor": 5
}
