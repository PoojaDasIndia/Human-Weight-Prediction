{
 "cells": [
  {
   "cell_type": "markdown",
   "id": "b86076c7-9563-41a9-a567-e3ced2954a5a",
   "metadata": {},
   "source": [
    "<p style =\"color: #118ab2;\n",
    "                    font-size:50px; \n",
    "                    font-style:bold;\n",
    "                    text-decoration: underline;\n",
    "                    text-align: center \">\n",
    "    Weight Predictor \n",
    "</p>"
   ]
  },
  {
   "cell_type": "markdown",
   "id": "8a707001-81fa-4f70-af9a-9ea30552ff8c",
   "metadata": {},
   "source": [
    "\n",
    "<img src='http://wiki.stat.ucla.edu/socr/uploads/a/ae/SOCR_Data_Dinov_HeightWeight_062408_Fig1.jpg'>"
   ]
  },
  {
   "cell_type": "markdown",
   "id": "2598f108-56df-405a-ae95-06f7352cdb37",
   "metadata": {},
   "source": [
    "<h2 style =\"color: #c1121f;font-size:35px; font-style:bold; text-decoration: underline;\"> Step 1: Acquire </h2>\n",
    "\n",
    "### Step 1.a: Explore Problem\n",
    "    \n",
    "##### Problem is to predict Human Weight with Given Height.<br>\n",
    "\n",
    "   \n",
    "### Step 1.b: Indentify Data\n",
    "\n",
    "##### Human height and weight dataset are availble in <a href = 'https://gist.github.com/nstokoe/7d4717e96c21b8ad04ec91f361b000cb'>GitHub</a> website .\n",
    " \n",
    "\n",
    "### Step 1.d: import Data\n"
   ]
  },
  {
   "cell_type": "code",
   "execution_count": 1,
   "id": "817d9171-376d-4359-8467-883de93a4cc1",
   "metadata": {},
   "outputs": [],
   "source": [
    "import pandas as pd"
   ]
  },
  {
   "cell_type": "code",
   "execution_count": 2,
   "id": "e0c81ead-ca58-4880-b28f-d94d4804aba5",
   "metadata": {},
   "outputs": [],
   "source": [
    "data = pd.read_csv('weight-height.csv')"
   ]
  },
  {
   "cell_type": "code",
   "execution_count": 3,
   "id": "ea73a34e-9d36-46e7-a7d4-33859b7ad296",
   "metadata": {},
   "outputs": [
    {
     "data": {
      "text/html": [
       "<div>\n",
       "<style scoped>\n",
       "    .dataframe tbody tr th:only-of-type {\n",
       "        vertical-align: middle;\n",
       "    }\n",
       "\n",
       "    .dataframe tbody tr th {\n",
       "        vertical-align: top;\n",
       "    }\n",
       "\n",
       "    .dataframe thead th {\n",
       "        text-align: right;\n",
       "    }\n",
       "</style>\n",
       "<table border=\"1\" class=\"dataframe\">\n",
       "  <thead>\n",
       "    <tr style=\"text-align: right;\">\n",
       "      <th></th>\n",
       "      <th>Gender</th>\n",
       "      <th>Height</th>\n",
       "      <th>Weight</th>\n",
       "    </tr>\n",
       "  </thead>\n",
       "  <tbody>\n",
       "    <tr>\n",
       "      <th>0</th>\n",
       "      <td>Male</td>\n",
       "      <td>73.847017</td>\n",
       "      <td>241.893563</td>\n",
       "    </tr>\n",
       "    <tr>\n",
       "      <th>1</th>\n",
       "      <td>Male</td>\n",
       "      <td>68.781904</td>\n",
       "      <td>162.310473</td>\n",
       "    </tr>\n",
       "    <tr>\n",
       "      <th>2</th>\n",
       "      <td>Male</td>\n",
       "      <td>74.110105</td>\n",
       "      <td>212.740856</td>\n",
       "    </tr>\n",
       "    <tr>\n",
       "      <th>3</th>\n",
       "      <td>Male</td>\n",
       "      <td>71.730978</td>\n",
       "      <td>220.042470</td>\n",
       "    </tr>\n",
       "    <tr>\n",
       "      <th>4</th>\n",
       "      <td>Male</td>\n",
       "      <td>69.881796</td>\n",
       "      <td>206.349801</td>\n",
       "    </tr>\n",
       "  </tbody>\n",
       "</table>\n",
       "</div>"
      ],
      "text/plain": [
       "  Gender     Height      Weight\n",
       "0   Male  73.847017  241.893563\n",
       "1   Male  68.781904  162.310473\n",
       "2   Male  74.110105  212.740856\n",
       "3   Male  71.730978  220.042470\n",
       "4   Male  69.881796  206.349801"
      ]
     },
     "execution_count": 3,
     "metadata": {},
     "output_type": "execute_result"
    }
   ],
   "source": [
    "data.head()"
   ]
  },
  {
   "cell_type": "markdown",
   "id": "19506960-ee1e-4649-8a24-774157ebd29a",
   "metadata": {},
   "source": [
    "<h2 style =\"color: #c1121f;font-size:35px; font-style:bold; text-decoration: underline;\"> Step 2: Prepare </h2>\n",
    "\n",
    "### Step 2.a: Explore data"
   ]
  },
  {
   "cell_type": "code",
   "execution_count": 4,
   "id": "d108c0e4-97ff-4cfb-9153-01e61ff12e3f",
   "metadata": {
    "tags": []
   },
   "outputs": [
    {
     "data": {
      "text/plain": [
       "10000"
      ]
     },
     "execution_count": 4,
     "metadata": {},
     "output_type": "execute_result"
    }
   ],
   "source": [
    "len(data)"
   ]
  },
  {
   "cell_type": "code",
   "execution_count": 5,
   "id": "550fe7f4-e0c9-463c-ac19-0b5b7022d8dc",
   "metadata": {
    "tags": []
   },
   "outputs": [
    {
     "data": {
      "text/plain": [
       "(10000, 3)"
      ]
     },
     "execution_count": 5,
     "metadata": {},
     "output_type": "execute_result"
    }
   ],
   "source": [
    "data.shape"
   ]
  },
  {
   "cell_type": "markdown",
   "id": "2788682c-c034-4e6c-8147-a11735a447ab",
   "metadata": {},
   "source": [
    "<p style =\"color: #fb8500;font-size:20px; font-style:bold;\"> Analysis 1:- Rows 25000  and 3 Columns</p>"
   ]
  },
  {
   "cell_type": "code",
   "execution_count": 6,
   "id": "413b1c14-e812-48b7-93e0-03f078885eec",
   "metadata": {},
   "outputs": [
    {
     "data": {
      "text/plain": [
       "Index(['Gender', 'Height', 'Weight'], dtype='object')"
      ]
     },
     "execution_count": 6,
     "metadata": {},
     "output_type": "execute_result"
    }
   ],
   "source": [
    "data.columns"
   ]
  },
  {
   "cell_type": "markdown",
   "id": "a46f75a5-13ef-42e1-ad63-caa8da744204",
   "metadata": {},
   "source": [
    "<p style =\"color: #fb8500;font-size:20px; font-style:bold;\"> Analysis 2. Only 2 Feature ('Height(Inches)', 'Weight(Pounds)' Are Important  </p>"
   ]
  },
  {
   "cell_type": "code",
   "execution_count": 7,
   "id": "fe67d0a9-981d-4ae7-9e8b-55177a794d67",
   "metadata": {},
   "outputs": [
    {
     "data": {
      "text/plain": [
       "Gender    0\n",
       "Height    0\n",
       "Weight    0\n",
       "dtype: int64"
      ]
     },
     "execution_count": 7,
     "metadata": {},
     "output_type": "execute_result"
    }
   ],
   "source": [
    "data.isna().sum()"
   ]
  },
  {
   "cell_type": "markdown",
   "id": "3f56e37f-1e6f-4ab4-a1b6-95cd65d14420",
   "metadata": {},
   "source": [
    "<p style =\"color: #fb8500;font-size:20px; font-style:bold;\"> Analysis 3.No Null Data in Features</p>"
   ]
  },
  {
   "cell_type": "code",
   "execution_count": 8,
   "id": "eb59af67-a311-4ca0-aff2-99ff73ff618b",
   "metadata": {},
   "outputs": [
    {
     "data": {
      "text/html": [
       "<div>\n",
       "<style scoped>\n",
       "    .dataframe tbody tr th:only-of-type {\n",
       "        vertical-align: middle;\n",
       "    }\n",
       "\n",
       "    .dataframe tbody tr th {\n",
       "        vertical-align: top;\n",
       "    }\n",
       "\n",
       "    .dataframe thead th {\n",
       "        text-align: right;\n",
       "    }\n",
       "</style>\n",
       "<table border=\"1\" class=\"dataframe\">\n",
       "  <thead>\n",
       "    <tr style=\"text-align: right;\">\n",
       "      <th></th>\n",
       "      <th>Height</th>\n",
       "      <th>Weight</th>\n",
       "    </tr>\n",
       "  </thead>\n",
       "  <tbody>\n",
       "    <tr>\n",
       "      <th>count</th>\n",
       "      <td>10000.000000</td>\n",
       "      <td>10000.000000</td>\n",
       "    </tr>\n",
       "    <tr>\n",
       "      <th>mean</th>\n",
       "      <td>66.367560</td>\n",
       "      <td>161.440357</td>\n",
       "    </tr>\n",
       "    <tr>\n",
       "      <th>std</th>\n",
       "      <td>3.847528</td>\n",
       "      <td>32.108439</td>\n",
       "    </tr>\n",
       "    <tr>\n",
       "      <th>min</th>\n",
       "      <td>54.263133</td>\n",
       "      <td>64.700127</td>\n",
       "    </tr>\n",
       "    <tr>\n",
       "      <th>25%</th>\n",
       "      <td>63.505620</td>\n",
       "      <td>135.818051</td>\n",
       "    </tr>\n",
       "    <tr>\n",
       "      <th>50%</th>\n",
       "      <td>66.318070</td>\n",
       "      <td>161.212928</td>\n",
       "    </tr>\n",
       "    <tr>\n",
       "      <th>75%</th>\n",
       "      <td>69.174262</td>\n",
       "      <td>187.169525</td>\n",
       "    </tr>\n",
       "    <tr>\n",
       "      <th>max</th>\n",
       "      <td>78.998742</td>\n",
       "      <td>269.989699</td>\n",
       "    </tr>\n",
       "  </tbody>\n",
       "</table>\n",
       "</div>"
      ],
      "text/plain": [
       "             Height        Weight\n",
       "count  10000.000000  10000.000000\n",
       "mean      66.367560    161.440357\n",
       "std        3.847528     32.108439\n",
       "min       54.263133     64.700127\n",
       "25%       63.505620    135.818051\n",
       "50%       66.318070    161.212928\n",
       "75%       69.174262    187.169525\n",
       "max       78.998742    269.989699"
      ]
     },
     "execution_count": 8,
     "metadata": {},
     "output_type": "execute_result"
    }
   ],
   "source": [
    "data.describe()"
   ]
  },
  {
   "cell_type": "code",
   "execution_count": 9,
   "id": "657d052a-6a48-4190-9320-ac87ce94dff1",
   "metadata": {},
   "outputs": [
    {
     "name": "stdout",
     "output_type": "stream",
     "text": [
      "<class 'pandas.core.frame.DataFrame'>\n",
      "RangeIndex: 10000 entries, 0 to 9999\n",
      "Data columns (total 3 columns):\n",
      " #   Column  Non-Null Count  Dtype  \n",
      "---  ------  --------------  -----  \n",
      " 0   Gender  10000 non-null  object \n",
      " 1   Height  10000 non-null  float64\n",
      " 2   Weight  10000 non-null  float64\n",
      "dtypes: float64(2), object(1)\n",
      "memory usage: 234.5+ KB\n"
     ]
    }
   ],
   "source": [
    "data.info()"
   ]
  },
  {
   "cell_type": "markdown",
   "id": "84ad13cf-5a3e-4a19-b3be-efa295901b44",
   "metadata": {},
   "source": [
    "<p style =\"color: #fb8500;font-size:20px; \n",
    "                    font-style:bold;\" > Analysis 4. Feature 'Height' Unit is in 'Inches' which need to change in 'Feet' & 'Weight' unit is 'Pounds' that need to change in 'Kilogram(KG)'</p>"
   ]
  },
  {
   "cell_type": "markdown",
   "id": "8be1747d-7b86-47b3-99f5-3bcf03786610",
   "metadata": {},
   "source": [
    "### Step 2.b: Clean data"
   ]
  },
  {
   "cell_type": "code",
   "execution_count": 10,
   "id": "832ec057-cd9f-49db-ad93-37c9d74fac8d",
   "metadata": {},
   "outputs": [
    {
     "data": {
      "text/plain": [
       "Gender     object\n",
       "Height    float64\n",
       "Weight    float64\n",
       "dtype: object"
      ]
     },
     "execution_count": 10,
     "metadata": {},
     "output_type": "execute_result"
    }
   ],
   "source": [
    "data.dtypes"
   ]
  },
  {
   "cell_type": "code",
   "execution_count": 11,
   "id": "fb6efbd5-3e9f-4e6f-9f91-d9d708ed5c87",
   "metadata": {},
   "outputs": [
    {
     "data": {
      "text/html": [
       "<div>\n",
       "<style scoped>\n",
       "    .dataframe tbody tr th:only-of-type {\n",
       "        vertical-align: middle;\n",
       "    }\n",
       "\n",
       "    .dataframe tbody tr th {\n",
       "        vertical-align: top;\n",
       "    }\n",
       "\n",
       "    .dataframe thead th {\n",
       "        text-align: right;\n",
       "    }\n",
       "</style>\n",
       "<table border=\"1\" class=\"dataframe\">\n",
       "  <thead>\n",
       "    <tr style=\"text-align: right;\">\n",
       "      <th></th>\n",
       "      <th>Height</th>\n",
       "      <th>Weight</th>\n",
       "    </tr>\n",
       "  </thead>\n",
       "  <tbody>\n",
       "    <tr>\n",
       "      <th>Height</th>\n",
       "      <td>1.000000</td>\n",
       "      <td>0.924756</td>\n",
       "    </tr>\n",
       "    <tr>\n",
       "      <th>Weight</th>\n",
       "      <td>0.924756</td>\n",
       "      <td>1.000000</td>\n",
       "    </tr>\n",
       "  </tbody>\n",
       "</table>\n",
       "</div>"
      ],
      "text/plain": [
       "          Height    Weight\n",
       "Height  1.000000  0.924756\n",
       "Weight  0.924756  1.000000"
      ]
     },
     "execution_count": 11,
     "metadata": {},
     "output_type": "execute_result"
    }
   ],
   "source": [
    "data.corr()"
   ]
  },
  {
   "cell_type": "code",
   "execution_count": 12,
   "id": "002f0201-a38d-4c49-a156-8b677ce4e657",
   "metadata": {},
   "outputs": [
    {
     "data": {
      "text/html": [
       "<div>\n",
       "<style scoped>\n",
       "    .dataframe tbody tr th:only-of-type {\n",
       "        vertical-align: middle;\n",
       "    }\n",
       "\n",
       "    .dataframe tbody tr th {\n",
       "        vertical-align: top;\n",
       "    }\n",
       "\n",
       "    .dataframe thead th {\n",
       "        text-align: right;\n",
       "    }\n",
       "</style>\n",
       "<table border=\"1\" class=\"dataframe\">\n",
       "  <thead>\n",
       "    <tr style=\"text-align: right;\">\n",
       "      <th></th>\n",
       "      <th>Gender</th>\n",
       "      <th>Height</th>\n",
       "      <th>Weight</th>\n",
       "    </tr>\n",
       "  </thead>\n",
       "  <tbody>\n",
       "    <tr>\n",
       "      <th>0</th>\n",
       "      <td>Male</td>\n",
       "      <td>6.1</td>\n",
       "      <td>241.893563</td>\n",
       "    </tr>\n",
       "    <tr>\n",
       "      <th>1</th>\n",
       "      <td>Male</td>\n",
       "      <td>5.7</td>\n",
       "      <td>162.310473</td>\n",
       "    </tr>\n",
       "    <tr>\n",
       "      <th>2</th>\n",
       "      <td>Male</td>\n",
       "      <td>6.2</td>\n",
       "      <td>212.740856</td>\n",
       "    </tr>\n",
       "    <tr>\n",
       "      <th>3</th>\n",
       "      <td>Male</td>\n",
       "      <td>6.0</td>\n",
       "      <td>220.042470</td>\n",
       "    </tr>\n",
       "    <tr>\n",
       "      <th>4</th>\n",
       "      <td>Male</td>\n",
       "      <td>5.8</td>\n",
       "      <td>206.349801</td>\n",
       "    </tr>\n",
       "  </tbody>\n",
       "</table>\n",
       "</div>"
      ],
      "text/plain": [
       "  Gender  Height      Weight\n",
       "0   Male     6.1  241.893563\n",
       "1   Male     5.7  162.310473\n",
       "2   Male     6.2  212.740856\n",
       "3   Male     6.0  220.042470\n",
       "4   Male     5.8  206.349801"
      ]
     },
     "execution_count": 12,
     "metadata": {},
     "output_type": "execute_result"
    }
   ],
   "source": [
    "# Convert Height(Inches) to Height(Feet) [1 Inche = 0.083 Foot]\n",
    "data['Height']=round(data['Height'].apply(lambda x : x * 0.083),1)\n",
    "data.head()"
   ]
  },
  {
   "cell_type": "code",
   "execution_count": 13,
   "id": "f56ae7d4-1bd4-4cde-abcf-0c79aa73be99",
   "metadata": {},
   "outputs": [
    {
     "data": {
      "text/html": [
       "<div>\n",
       "<style scoped>\n",
       "    .dataframe tbody tr th:only-of-type {\n",
       "        vertical-align: middle;\n",
       "    }\n",
       "\n",
       "    .dataframe tbody tr th {\n",
       "        vertical-align: top;\n",
       "    }\n",
       "\n",
       "    .dataframe thead th {\n",
       "        text-align: right;\n",
       "    }\n",
       "</style>\n",
       "<table border=\"1\" class=\"dataframe\">\n",
       "  <thead>\n",
       "    <tr style=\"text-align: right;\">\n",
       "      <th></th>\n",
       "      <th>Gender</th>\n",
       "      <th>Height</th>\n",
       "      <th>Weight</th>\n",
       "    </tr>\n",
       "  </thead>\n",
       "  <tbody>\n",
       "    <tr>\n",
       "      <th>0</th>\n",
       "      <td>Male</td>\n",
       "      <td>6.1</td>\n",
       "      <td>109.723</td>\n",
       "    </tr>\n",
       "    <tr>\n",
       "      <th>1</th>\n",
       "      <td>Male</td>\n",
       "      <td>5.7</td>\n",
       "      <td>73.624</td>\n",
       "    </tr>\n",
       "    <tr>\n",
       "      <th>2</th>\n",
       "      <td>Male</td>\n",
       "      <td>6.2</td>\n",
       "      <td>96.499</td>\n",
       "    </tr>\n",
       "    <tr>\n",
       "      <th>3</th>\n",
       "      <td>Male</td>\n",
       "      <td>6.0</td>\n",
       "      <td>99.811</td>\n",
       "    </tr>\n",
       "    <tr>\n",
       "      <th>4</th>\n",
       "      <td>Male</td>\n",
       "      <td>5.8</td>\n",
       "      <td>93.600</td>\n",
       "    </tr>\n",
       "  </tbody>\n",
       "</table>\n",
       "</div>"
      ],
      "text/plain": [
       "  Gender  Height   Weight\n",
       "0   Male     6.1  109.723\n",
       "1   Male     5.7   73.624\n",
       "2   Male     6.2   96.499\n",
       "3   Male     6.0   99.811\n",
       "4   Male     5.8   93.600"
      ]
     },
     "execution_count": 13,
     "metadata": {},
     "output_type": "execute_result"
    }
   ],
   "source": [
    "# Convert Weight(Pounds) to Weight(Kilogram) [1 Pounds = 0.4536 Kilograms]\n",
    "data['Weight']=round(data['Weight'].apply(lambda x : x * 0.4536),3)\n",
    "data.head()"
   ]
  },
  {
   "cell_type": "code",
   "execution_count": 14,
   "id": "d3912bf2-2c40-4a04-8d7e-5562af112448",
   "metadata": {},
   "outputs": [
    {
     "name": "stdout",
     "output_type": "stream",
     "text": [
      "<class 'pandas.core.frame.DataFrame'>\n",
      "RangeIndex: 10000 entries, 0 to 9999\n",
      "Data columns (total 3 columns):\n",
      " #   Column  Non-Null Count  Dtype  \n",
      "---  ------  --------------  -----  \n",
      " 0   Gender  10000 non-null  object \n",
      " 1   Height  10000 non-null  float64\n",
      " 2   Weight  10000 non-null  float64\n",
      "dtypes: float64(2), object(1)\n",
      "memory usage: 234.5+ KB\n"
     ]
    }
   ],
   "source": [
    "data.info()"
   ]
  },
  {
   "cell_type": "code",
   "execution_count": 15,
   "id": "a1acefe6-ba0e-4231-8112-af7d7ed11400",
   "metadata": {},
   "outputs": [
    {
     "data": {
      "text/html": [
       "<div>\n",
       "<style scoped>\n",
       "    .dataframe tbody tr th:only-of-type {\n",
       "        vertical-align: middle;\n",
       "    }\n",
       "\n",
       "    .dataframe tbody tr th {\n",
       "        vertical-align: top;\n",
       "    }\n",
       "\n",
       "    .dataframe thead th {\n",
       "        text-align: right;\n",
       "    }\n",
       "</style>\n",
       "<table border=\"1\" class=\"dataframe\">\n",
       "  <thead>\n",
       "    <tr style=\"text-align: right;\">\n",
       "      <th></th>\n",
       "      <th>Height</th>\n",
       "      <th>Weight</th>\n",
       "    </tr>\n",
       "  </thead>\n",
       "  <tbody>\n",
       "    <tr>\n",
       "      <th>count</th>\n",
       "      <td>10000.000000</td>\n",
       "      <td>10000.000000</td>\n",
       "    </tr>\n",
       "    <tr>\n",
       "      <th>mean</th>\n",
       "      <td>5.508530</td>\n",
       "      <td>73.229345</td>\n",
       "    </tr>\n",
       "    <tr>\n",
       "      <th>std</th>\n",
       "      <td>0.320585</td>\n",
       "      <td>14.564388</td>\n",
       "    </tr>\n",
       "    <tr>\n",
       "      <th>min</th>\n",
       "      <td>4.500000</td>\n",
       "      <td>29.348000</td>\n",
       "    </tr>\n",
       "    <tr>\n",
       "      <th>25%</th>\n",
       "      <td>5.300000</td>\n",
       "      <td>61.607500</td>\n",
       "    </tr>\n",
       "    <tr>\n",
       "      <th>50%</th>\n",
       "      <td>5.500000</td>\n",
       "      <td>73.126000</td>\n",
       "    </tr>\n",
       "    <tr>\n",
       "      <th>75%</th>\n",
       "      <td>5.700000</td>\n",
       "      <td>84.899750</td>\n",
       "    </tr>\n",
       "    <tr>\n",
       "      <th>max</th>\n",
       "      <td>6.600000</td>\n",
       "      <td>122.467000</td>\n",
       "    </tr>\n",
       "  </tbody>\n",
       "</table>\n",
       "</div>"
      ],
      "text/plain": [
       "             Height        Weight\n",
       "count  10000.000000  10000.000000\n",
       "mean       5.508530     73.229345\n",
       "std        0.320585     14.564388\n",
       "min        4.500000     29.348000\n",
       "25%        5.300000     61.607500\n",
       "50%        5.500000     73.126000\n",
       "75%        5.700000     84.899750\n",
       "max        6.600000    122.467000"
      ]
     },
     "execution_count": 15,
     "metadata": {},
     "output_type": "execute_result"
    }
   ],
   "source": [
    "data.describe()"
   ]
  },
  {
   "cell_type": "code",
   "execution_count": 16,
   "id": "40449f68-3d28-4f34-a988-ccfc4dd4935b",
   "metadata": {},
   "outputs": [
    {
     "data": {
      "text/plain": [
       "Male      5000\n",
       "Female    5000\n",
       "Name: Gender, dtype: int64"
      ]
     },
     "execution_count": 16,
     "metadata": {},
     "output_type": "execute_result"
    }
   ],
   "source": [
    "data['Gender'].value_counts()"
   ]
  },
  {
   "cell_type": "markdown",
   "id": "8162c5ef-87be-4059-a07a-940ba0d74985",
   "metadata": {},
   "source": [
    "### Step 2.c: Vvalue_countsize data"
   ]
  },
  {
   "cell_type": "code",
   "execution_count": 17,
   "id": "64974fd1-5149-4461-b3a6-3fbe21115991",
   "metadata": {},
   "outputs": [],
   "source": [
    "import seaborn as sns\n",
    "from matplotlib import pyplot as plt\n",
    "%matplotlib inline\n",
    "import warnings\n",
    "warnings.filterwarnings('ignore')"
   ]
  },
  {
   "cell_type": "code",
   "execution_count": 18,
   "id": "16dbda66-e2eb-48b6-b653-d0894d541d7f",
   "metadata": {},
   "outputs": [
    {
     "data": {
      "image/png": "[encoded data removed]",
      "text/plain": [
       "<Figure size 864x720 with 1 Axes>"
      ]
     },
     "metadata": {
      "needs_background": "light"
     },
     "output_type": "display_data"
    }
   ],
   "source": [
    "plt.figure(figsize=(12,10))\n",
    "sns.countplot(data['Gender'])\n",
    "plt.show()"
   ]
  },
  {
   "cell_type": "code",
   "execution_count": 19,
   "id": "1f427517-37d8-4252-be71-c5f73dbef372",
   "metadata": {},
   "outputs": [
    {
     "data": {
      "image/png": "[encoded data removed]",
      "text/plain": [
       "<Figure size 864x720 with 1 Axes>"
      ]
     },
     "metadata": {
      "needs_background": "light"
     },
     "output_type": "display_data"
    }
   ],
   "source": [
    "plt.figure(figsize=(12,10))\n",
    "sns.scatterplot(y=data['Height'],x=data['Weight'],hue=data['Gender'])\n",
    "plt.show()"
   ]
  },
  {
   "cell_type": "code",
   "execution_count": 20,
   "id": "dec5170d-8a11-46c1-a263-7b3a739a7068",
   "metadata": {},
   "outputs": [
    {
     "data": {
      "image/png": "[encoded data removed]",
      "text/plain": [
       "<Figure size 864x720 with 2 Axes>"
      ]
     },
     "metadata": {
      "needs_background": "light"
     },
     "output_type": "display_data"
    }
   ],
   "source": [
    "plt.figure(figsize=(12,10))\n",
    "sns.heatmap(data.corr(),annot=True,cmap='viridis')\n",
    "plt.show()"
   ]
  },
  {
   "cell_type": "code",
   "execution_count": 21,
   "id": "3dc6528b-40ae-45ce-9dd4-005ad6f85e7d",
   "metadata": {},
   "outputs": [
    {
     "data": {
      "image/png": "[encoded data removed]",
      "text/plain": [
       "<Figure size 864x720 with 1 Axes>"
      ]
     },
     "metadata": {
      "needs_background": "light"
     },
     "output_type": "display_data"
    }
   ],
   "source": [
    "plt.figure(figsize=(12,10))\n",
    "sns.boxplot(data['Height'])\n",
    "plt.show()"
   ]
  },
  {
   "cell_type": "code",
   "execution_count": 22,
   "id": "4b8d9215-a8fe-485c-a64e-544284fd3839",
   "metadata": {},
   "outputs": [
    {
     "data": {
      "image/png": "[encoded data removed]",
      "text/plain": [
       "<Figure size 864x720 with 1 Axes>"
      ]
     },
     "metadata": {
      "needs_background": "light"
     },
     "output_type": "display_data"
    }
   ],
   "source": [
    "plt.figure(figsize=(12,10))\n",
    "sns.countplot(data['Height'])\n",
    "plt.show()"
   ]
  },
  {
   "cell_type": "code",
   "execution_count": 23,
   "id": "83715fbb-7bb8-4472-a982-8e5e5f226463",
   "metadata": {},
   "outputs": [
    {
     "data": {
      "text/plain": [
       "array([6.1, 5.7, 6.2, 6. , 5.8, 5.6, 5.3, 5.9, 5.4, 5.5, 5.2, 5.1, 6.4,\n",
       "       6.3, 5. , 6.5, 6.6, 4.9, 4.8, 4.7, 4.6, 4.5])"
      ]
     },
     "execution_count": 23,
     "metadata": {},
     "output_type": "execute_result"
    }
   ],
   "source": [
    "data['Height'].unique()"
   ]
  },
  {
   "cell_type": "code",
   "execution_count": 24,
   "id": "b4e874f2-dc7f-4e68-a6b2-d359082469a2",
   "metadata": {},
   "outputs": [
    {
     "data": {
      "image/png": "[encoded data removed]",
      "text/plain": [
       "<Figure size 864x720 with 1 Axes>"
      ]
     },
     "metadata": {
      "needs_background": "light"
     },
     "output_type": "display_data"
    }
   ],
   "source": [
    "\n",
    "plt.figure(figsize=(12,10))\n",
    "sns.kdeplot(data['Height'],shade=True);\n",
    "plt.axvline(data['Height'].mean(),color='blue',linewidth=2)\n",
    "plt.show()"
   ]
  },
  {
   "cell_type": "code",
   "execution_count": 25,
   "id": "d2e45676-1440-4c70-91c9-b82785b14213",
   "metadata": {},
   "outputs": [
    {
     "data": {
      "image/png": "[encoded data removed]",
      "text/plain": [
       "<Figure size 864x720 with 1 Axes>"
      ]
     },
     "metadata": {
      "needs_background": "light"
     },
     "output_type": "display_data"
    }
   ],
   "source": [
    "plt.figure(figsize=(12,10))\n",
    "sns.boxplot(data['Weight'],color='red')\n",
    "# sns.boxenplot(data['Weight'])\n",
    "plt.show()"
   ]
  },
  {
   "cell_type": "code",
   "execution_count": 26,
   "id": "f0d769b8-16da-445f-a6c2-b10029a95010",
   "metadata": {},
   "outputs": [
    {
     "data": {
      "image/png": "[encoded data removed]",
      "text/plain": [
       "<Figure size 864x720 with 1 Axes>"
      ]
     },
     "metadata": {
      "needs_background": "light"
     },
     "output_type": "display_data"
    }
   ],
   "source": [
    "\n",
    "plt.figure(figsize=(12,10))\n",
    "sns.kdeplot(data['Weight'],shade=True);\n",
    "plt.axvline(data['Weight'].mean(),color='blue',linewidth=2)\n",
    "plt.show()"
   ]
  },
  {
   "cell_type": "code",
   "execution_count": 27,
   "id": "e34f24b7-2891-4db1-96e3-8d4aece94b03",
   "metadata": {},
   "outputs": [
    {
     "data": {
      "text/plain": [
       "<Figure size 2520x2520 with 0 Axes>"
      ]
     },
     "metadata": {},
     "output_type": "display_data"
    },
    {
     "data": {
      "image/png": "[encoded data removed]",
      "text/plain": [
       "<Figure size 648.125x576 with 6 Axes>"
      ]
     },
     "metadata": {
      "needs_background": "light"
     },
     "output_type": "display_data"
    }
   ],
   "source": [
    "\n",
    "plt.figure(figsize=(35,35))\n",
    "sns.pairplot(data,hue='Gender', size=4)\n",
    "plt.show();"
   ]
  },
  {
   "cell_type": "code",
   "execution_count": 28,
   "id": "5b5430d8-dafe-4a71-8a25-a91fd7f0d989",
   "metadata": {
    "tags": []
   },
   "outputs": [
    {
     "data": {
      "text/html": [
       "<div>\n",
       "<style scoped>\n",
       "    .dataframe tbody tr th:only-of-type {\n",
       "        vertical-align: middle;\n",
       "    }\n",
       "\n",
       "    .dataframe tbody tr th {\n",
       "        vertical-align: top;\n",
       "    }\n",
       "\n",
       "    .dataframe thead tr th {\n",
       "        text-align: left;\n",
       "    }\n",
       "\n",
       "    .dataframe thead tr:last-of-type th {\n",
       "        text-align: right;\n",
       "    }\n",
       "</style>\n",
       "<table border=\"1\" class=\"dataframe\">\n",
       "  <thead>\n",
       "    <tr>\n",
       "      <th></th>\n",
       "      <th colspan=\"8\" halign=\"left\">Height</th>\n",
       "      <th colspan=\"8\" halign=\"left\">Weight</th>\n",
       "    </tr>\n",
       "    <tr>\n",
       "      <th></th>\n",
       "      <th>count</th>\n",
       "      <th>mean</th>\n",
       "      <th>std</th>\n",
       "      <th>min</th>\n",
       "      <th>25%</th>\n",
       "      <th>50%</th>\n",
       "      <th>75%</th>\n",
       "      <th>max</th>\n",
       "      <th>count</th>\n",
       "      <th>mean</th>\n",
       "      <th>std</th>\n",
       "      <th>min</th>\n",
       "      <th>25%</th>\n",
       "      <th>50%</th>\n",
       "      <th>75%</th>\n",
       "      <th>max</th>\n",
       "    </tr>\n",
       "    <tr>\n",
       "      <th>Gender</th>\n",
       "      <th></th>\n",
       "      <th></th>\n",
       "      <th></th>\n",
       "      <th></th>\n",
       "      <th></th>\n",
       "      <th></th>\n",
       "      <th></th>\n",
       "      <th></th>\n",
       "      <th></th>\n",
       "      <th></th>\n",
       "      <th></th>\n",
       "      <th></th>\n",
       "      <th></th>\n",
       "      <th></th>\n",
       "      <th></th>\n",
       "      <th></th>\n",
       "    </tr>\n",
       "  </thead>\n",
       "  <tbody>\n",
       "    <tr>\n",
       "      <th>Female</th>\n",
       "      <td>5000.0</td>\n",
       "      <td>5.28780</td>\n",
       "      <td>0.225941</td>\n",
       "      <td>4.5</td>\n",
       "      <td>5.1</td>\n",
       "      <td>5.3</td>\n",
       "      <td>5.4</td>\n",
       "      <td>6.1</td>\n",
       "      <td>5000.0</td>\n",
       "      <td>61.626137</td>\n",
       "      <td>8.628591</td>\n",
       "      <td>29.348</td>\n",
       "      <td>55.76275</td>\n",
       "      <td>61.7430</td>\n",
       "      <td>67.5005</td>\n",
       "      <td>91.735</td>\n",
       "    </tr>\n",
       "    <tr>\n",
       "      <th>Male</th>\n",
       "      <td>5000.0</td>\n",
       "      <td>5.72926</td>\n",
       "      <td>0.238867</td>\n",
       "      <td>4.8</td>\n",
       "      <td>5.6</td>\n",
       "      <td>5.7</td>\n",
       "      <td>5.9</td>\n",
       "      <td>6.6</td>\n",
       "      <td>5000.0</td>\n",
       "      <td>84.832553</td>\n",
       "      <td>8.972733</td>\n",
       "      <td>51.213</td>\n",
       "      <td>78.87575</td>\n",
       "      <td>84.8385</td>\n",
       "      <td>90.8825</td>\n",
       "      <td>122.467</td>\n",
       "    </tr>\n",
       "  </tbody>\n",
       "</table>\n",
       "</div>"
      ],
      "text/plain": [
       "        Height                                              Weight             \\\n",
       "         count     mean       std  min  25%  50%  75%  max   count       mean   \n",
       "Gender                                                                          \n",
       "Female  5000.0  5.28780  0.225941  4.5  5.1  5.3  5.4  6.1  5000.0  61.626137   \n",
       "Male    5000.0  5.72926  0.238867  4.8  5.6  5.7  5.9  6.6  5000.0  84.832553   \n",
       "\n",
       "                                                               \n",
       "             std     min       25%      50%      75%      max  \n",
       "Gender                                                         \n",
       "Female  8.628591  29.348  55.76275  61.7430  67.5005   91.735  \n",
       "Male    8.972733  51.213  78.87575  84.8385  90.8825  122.467  "
      ]
     },
     "execution_count": 28,
     "metadata": {},
     "output_type": "execute_result"
    }
   ],
   "source": [
    "data.groupby(by='Gender').describe()"
   ]
  },
  {
   "cell_type": "code",
   "execution_count": 29,
   "id": "ac07ef2b-4c51-4a71-ba0c-529d1bf7f7d4",
   "metadata": {},
   "outputs": [
    {
     "data": {
      "text/html": [
       "<div>\n",
       "<style scoped>\n",
       "    .dataframe tbody tr th:only-of-type {\n",
       "        vertical-align: middle;\n",
       "    }\n",
       "\n",
       "    .dataframe tbody tr th {\n",
       "        vertical-align: top;\n",
       "    }\n",
       "\n",
       "    .dataframe thead th {\n",
       "        text-align: right;\n",
       "    }\n",
       "</style>\n",
       "<table border=\"1\" class=\"dataframe\">\n",
       "  <thead>\n",
       "    <tr style=\"text-align: right;\">\n",
       "      <th></th>\n",
       "      <th></th>\n",
       "      <th>Height</th>\n",
       "      <th>Weight</th>\n",
       "    </tr>\n",
       "    <tr>\n",
       "      <th>Gender</th>\n",
       "      <th></th>\n",
       "      <th></th>\n",
       "      <th></th>\n",
       "    </tr>\n",
       "  </thead>\n",
       "  <tbody>\n",
       "    <tr>\n",
       "      <th rowspan=\"2\" valign=\"top\">Female</th>\n",
       "      <th>Height</th>\n",
       "      <td>1.000000</td>\n",
       "      <td>0.843486</td>\n",
       "    </tr>\n",
       "    <tr>\n",
       "      <th>Weight</th>\n",
       "      <td>0.843486</td>\n",
       "      <td>1.000000</td>\n",
       "    </tr>\n",
       "    <tr>\n",
       "      <th rowspan=\"2\" valign=\"top\">Male</th>\n",
       "      <th>Height</th>\n",
       "      <td>1.000000</td>\n",
       "      <td>0.859027</td>\n",
       "    </tr>\n",
       "    <tr>\n",
       "      <th>Weight</th>\n",
       "      <td>0.859027</td>\n",
       "      <td>1.000000</td>\n",
       "    </tr>\n",
       "  </tbody>\n",
       "</table>\n",
       "</div>"
      ],
      "text/plain": [
       "                 Height    Weight\n",
       "Gender                           \n",
       "Female Height  1.000000  0.843486\n",
       "       Weight  0.843486  1.000000\n",
       "Male   Height  1.000000  0.859027\n",
       "       Weight  0.859027  1.000000"
      ]
     },
     "execution_count": 29,
     "metadata": {},
     "output_type": "execute_result"
    }
   ],
   "source": [
    "data.groupby(by='Gender').corr()"
   ]
  },
  {
   "cell_type": "code",
   "execution_count": 30,
   "id": "70319e3f-b84a-4ee5-a35f-a2045e91e3a1",
   "metadata": {},
   "outputs": [],
   "source": [
    "data_original=data.copy(deep=True)\n",
    "data_Try=data.copy(deep=True)"
   ]
  },
  {
   "cell_type": "markdown",
   "id": "ce5cd207-ad26-4c8e-a6b9-8280adf198cc",
   "metadata": {},
   "source": [
    "# Label Encode"
   ]
  },
  {
   "cell_type": "code",
   "execution_count": 31,
   "id": "538c5ee9-ba4a-41ec-9835-7e5086d13fb1",
   "metadata": {},
   "outputs": [
    {
     "data": {
      "text/html": [
       "<div>\n",
       "<style scoped>\n",
       "    .dataframe tbody tr th:only-of-type {\n",
       "        vertical-align: middle;\n",
       "    }\n",
       "\n",
       "    .dataframe tbody tr th {\n",
       "        vertical-align: top;\n",
       "    }\n",
       "\n",
       "    .dataframe thead th {\n",
       "        text-align: right;\n",
       "    }\n",
       "</style>\n",
       "<table border=\"1\" class=\"dataframe\">\n",
       "  <thead>\n",
       "    <tr style=\"text-align: right;\">\n",
       "      <th></th>\n",
       "      <th>Gender</th>\n",
       "      <th>Height</th>\n",
       "      <th>Weight</th>\n",
       "    </tr>\n",
       "  </thead>\n",
       "  <tbody>\n",
       "    <tr>\n",
       "      <th>0</th>\n",
       "      <td>1</td>\n",
       "      <td>6.1</td>\n",
       "      <td>109.723</td>\n",
       "    </tr>\n",
       "    <tr>\n",
       "      <th>1</th>\n",
       "      <td>1</td>\n",
       "      <td>5.7</td>\n",
       "      <td>73.624</td>\n",
       "    </tr>\n",
       "    <tr>\n",
       "      <th>2</th>\n",
       "      <td>1</td>\n",
       "      <td>6.2</td>\n",
       "      <td>96.499</td>\n",
       "    </tr>\n",
       "    <tr>\n",
       "      <th>3</th>\n",
       "      <td>1</td>\n",
       "      <td>6.0</td>\n",
       "      <td>99.811</td>\n",
       "    </tr>\n",
       "    <tr>\n",
       "      <th>4</th>\n",
       "      <td>1</td>\n",
       "      <td>5.8</td>\n",
       "      <td>93.600</td>\n",
       "    </tr>\n",
       "  </tbody>\n",
       "</table>\n",
       "</div>"
      ],
      "text/plain": [
       "   Gender  Height   Weight\n",
       "0       1     6.1  109.723\n",
       "1       1     5.7   73.624\n",
       "2       1     6.2   96.499\n",
       "3       1     6.0   99.811\n",
       "4       1     5.8   93.600"
      ]
     },
     "execution_count": 31,
     "metadata": {},
     "output_type": "execute_result"
    }
   ],
   "source": [
    "from sklearn.preprocessing import LabelEncoder\n",
    "le = LabelEncoder()\n",
    "data_Try['Gender']=le.fit_transform(data_Try['Gender'])\n",
    "data_Try.head()"
   ]
  },
  {
   "cell_type": "code",
   "execution_count": 32,
   "id": "95c1b9a6-2386-4019-b6ad-32dd00f87f69",
   "metadata": {
    "tags": []
   },
   "outputs": [
    {
     "data": {
      "text/plain": [
       "array([1, 0])"
      ]
     },
     "execution_count": 32,
     "metadata": {},
     "output_type": "execute_result"
    }
   ],
   "source": [
    "data_Try['Gender'].unique()"
   ]
  },
  {
   "cell_type": "markdown",
   "id": "e8e7c245-fdcd-4781-af37-28dcf88ef756",
   "metadata": {},
   "source": [
    "# Scalized"
   ]
  },
  {
   "cell_type": "code",
   "execution_count": 33,
   "id": "18589da8-ae56-4167-8a2e-cd3c08a7d04a",
   "metadata": {},
   "outputs": [],
   "source": [
    "from sklearn.preprocessing import StandardScaler"
   ]
  },
  {
   "cell_type": "code",
   "execution_count": 34,
   "id": "be24902b-5ca7-4b96-be83-d40429e55d44",
   "metadata": {},
   "outputs": [],
   "source": [
    "sc=StandardScaler()\n",
    "data_Try['Height']=sc.fit_transform(data_Try[['Height']])"
   ]
  },
  {
   "cell_type": "code",
   "execution_count": 35,
   "id": "febb958d-567d-41df-8b13-2fb89faef755",
   "metadata": {},
   "outputs": [
    {
     "data": {
      "text/html": [
       "<div>\n",
       "<style scoped>\n",
       "    .dataframe tbody tr th:only-of-type {\n",
       "        vertical-align: middle;\n",
       "    }\n",
       "\n",
       "    .dataframe tbody tr th {\n",
       "        vertical-align: top;\n",
       "    }\n",
       "\n",
       "    .dataframe thead th {\n",
       "        text-align: right;\n",
       "    }\n",
       "</style>\n",
       "<table border=\"1\" class=\"dataframe\">\n",
       "  <thead>\n",
       "    <tr style=\"text-align: right;\">\n",
       "      <th></th>\n",
       "      <th>Gender</th>\n",
       "      <th>Height</th>\n",
       "      <th>Weight</th>\n",
       "    </tr>\n",
       "  </thead>\n",
       "  <tbody>\n",
       "    <tr>\n",
       "      <th>0</th>\n",
       "      <td>1</td>\n",
       "      <td>1.845065</td>\n",
       "      <td>109.723</td>\n",
       "    </tr>\n",
       "    <tr>\n",
       "      <th>1</th>\n",
       "      <td>1</td>\n",
       "      <td>0.597282</td>\n",
       "      <td>73.624</td>\n",
       "    </tr>\n",
       "    <tr>\n",
       "      <th>2</th>\n",
       "      <td>1</td>\n",
       "      <td>2.157011</td>\n",
       "      <td>96.499</td>\n",
       "    </tr>\n",
       "    <tr>\n",
       "      <th>3</th>\n",
       "      <td>1</td>\n",
       "      <td>1.533120</td>\n",
       "      <td>99.811</td>\n",
       "    </tr>\n",
       "    <tr>\n",
       "      <th>4</th>\n",
       "      <td>1</td>\n",
       "      <td>0.909228</td>\n",
       "      <td>93.600</td>\n",
       "    </tr>\n",
       "    <tr>\n",
       "      <th>...</th>\n",
       "      <td>...</td>\n",
       "      <td>...</td>\n",
       "      <td>...</td>\n",
       "    </tr>\n",
       "    <tr>\n",
       "      <th>9995</th>\n",
       "      <td>0</td>\n",
       "      <td>-0.026609</td>\n",
       "      <td>62.042</td>\n",
       "    </tr>\n",
       "    <tr>\n",
       "      <th>9996</th>\n",
       "      <td>0</td>\n",
       "      <td>0.285337</td>\n",
       "      <td>77.506</td>\n",
       "    </tr>\n",
       "    <tr>\n",
       "      <th>9997</th>\n",
       "      <td>0</td>\n",
       "      <td>-0.650500</td>\n",
       "      <td>58.276</td>\n",
       "    </tr>\n",
       "    <tr>\n",
       "      <th>9998</th>\n",
       "      <td>0</td>\n",
       "      <td>0.597282</td>\n",
       "      <td>74.323</td>\n",
       "    </tr>\n",
       "    <tr>\n",
       "      <th>9999</th>\n",
       "      <td>0</td>\n",
       "      <td>-1.274392</td>\n",
       "      <td>51.551</td>\n",
       "    </tr>\n",
       "  </tbody>\n",
       "</table>\n",
       "<p>10000 rows × 3 columns</p>\n",
       "</div>"
      ],
      "text/plain": [
       "      Gender    Height   Weight\n",
       "0          1  1.845065  109.723\n",
       "1          1  0.597282   73.624\n",
       "2          1  2.157011   96.499\n",
       "3          1  1.533120   99.811\n",
       "4          1  0.909228   93.600\n",
       "...      ...       ...      ...\n",
       "9995       0 -0.026609   62.042\n",
       "9996       0  0.285337   77.506\n",
       "9997       0 -0.650500   58.276\n",
       "9998       0  0.597282   74.323\n",
       "9999       0 -1.274392   51.551\n",
       "\n",
       "[10000 rows x 3 columns]"
      ]
     },
     "execution_count": 35,
     "metadata": {},
     "output_type": "execute_result"
    }
   ],
   "source": [
    "data_Try"
   ]
  },
  {
   "cell_type": "code",
   "execution_count": 77,
   "id": "20a337e7-a6c8-4f4a-aad2-d1c12f50f849",
   "metadata": {},
   "outputs": [],
   "source": [
    "X = data_Try.drop(columns='Weight')\n",
    "y = data_Try['Weight']\n"
   ]
  },
  {
   "cell_type": "code",
   "execution_count": 78,
   "id": "b8194cea-7cc6-4386-844d-79d1d0979634",
   "metadata": {},
   "outputs": [],
   "source": [
    "from sklearn.model_selection import train_test_split"
   ]
  },
  {
   "cell_type": "code",
   "execution_count": 79,
   "id": "57ffd01c-112e-4ec4-ab32-4262c2e22ad6",
   "metadata": {},
   "outputs": [],
   "source": [
    "X_train,X_test,y_train,y_test = train_test_split(X,y,test_size=0.2)"
   ]
  },
  {
   "cell_type": "code",
   "execution_count": 80,
   "id": "434004ed-eaac-4b74-8e30-e06d0fc18119",
   "metadata": {
    "tags": []
   },
   "outputs": [
    {
     "data": {
      "text/plain": [
       "(8000, 2)"
      ]
     },
     "execution_count": 80,
     "metadata": {},
     "output_type": "execute_result"
    }
   ],
   "source": [
    "X_train.shape"
   ]
  },
  {
   "cell_type": "code",
   "execution_count": 81,
   "id": "7b47fda3-032a-4b49-8d8f-d0434847842f",
   "metadata": {
    "tags": []
   },
   "outputs": [
    {
     "data": {
      "text/html": [
       "<div>\n",
       "<style scoped>\n",
       "    .dataframe tbody tr th:only-of-type {\n",
       "        vertical-align: middle;\n",
       "    }\n",
       "\n",
       "    .dataframe tbody tr th {\n",
       "        vertical-align: top;\n",
       "    }\n",
       "\n",
       "    .dataframe thead th {\n",
       "        text-align: right;\n",
       "    }\n",
       "</style>\n",
       "<table border=\"1\" class=\"dataframe\">\n",
       "  <thead>\n",
       "    <tr style=\"text-align: right;\">\n",
       "      <th></th>\n",
       "      <th>Gender</th>\n",
       "      <th>Height</th>\n",
       "      <th>Weight</th>\n",
       "    </tr>\n",
       "  </thead>\n",
       "  <tbody>\n",
       "    <tr>\n",
       "      <th>Gender</th>\n",
       "      <td>1.000000</td>\n",
       "      <td>0.688558</td>\n",
       "      <td>0.796723</td>\n",
       "    </tr>\n",
       "    <tr>\n",
       "      <th>Height</th>\n",
       "      <td>0.688558</td>\n",
       "      <td>1.000000</td>\n",
       "      <td>0.921809</td>\n",
       "    </tr>\n",
       "    <tr>\n",
       "      <th>Weight</th>\n",
       "      <td>0.796723</td>\n",
       "      <td>0.921809</td>\n",
       "      <td>1.000000</td>\n",
       "    </tr>\n",
       "  </tbody>\n",
       "</table>\n",
       "</div>"
      ],
      "text/plain": [
       "          Gender    Height    Weight\n",
       "Gender  1.000000  0.688558  0.796723\n",
       "Height  0.688558  1.000000  0.921809\n",
       "Weight  0.796723  0.921809  1.000000"
      ]
     },
     "execution_count": 81,
     "metadata": {},
     "output_type": "execute_result"
    }
   ],
   "source": [
    "data_Try.corr()"
   ]
  },
  {
   "cell_type": "markdown",
   "id": "7b78ce14-b2a7-4205-a8d3-05ae736c223d",
   "metadata": {},
   "source": [
    "# Model Section"
   ]
  },
  {
   "cell_type": "code",
   "execution_count": 82,
   "id": "21c74dde-a286-474b-81c4-3299d34eca97",
   "metadata": {},
   "outputs": [],
   "source": [
    "from sklearn.linear_model import LinearRegression\n",
    "from sklearn.tree import DecisionTreeRegressor\n",
    "from sklearn.svm import SVR\n",
    "from sklearn.ensemble import AdaBoostRegressor\n",
    "from sklearn.ensemble import BaggingRegressor\n",
    "from sklearn.ensemble import GradientBoostingRegressor\n",
    "from sklearn.ensemble import RandomForestRegressor\n",
    "from sklearn.neighbors import KNeighborsRegressor\n",
    "from xgboost import XGBRegressor\n",
    "from sklearn.model_selection import GridSearchCV"
   ]
  },
  {
   "cell_type": "code",
   "execution_count": 83,
   "id": "dafb1b49-7a22-4e23-8dc6-effe92e579a6",
   "metadata": {},
   "outputs": [],
   "source": [
    "model_parameter ={\n",
    "\n",
    "\"Linear_Regression\" :{\n",
    "                        \"model\" : LinearRegression(),\n",
    "                        \"param\" : {}\n",
    "                    },\n",
    "\n",
    "\"Decision_Tree_Regressor\" :{\n",
    "                        \"model\" : DecisionTreeRegressor(),\n",
    "                        \"param\" : {\n",
    "                                   'splitter' : [\"best\"],\n",
    "                                   'ccp_alpha':[0.1,0.0,0.3]\n",
    "                                  }\n",
    "                            },\n",
    "\n",
    "\"SVR\" : {\n",
    "                        \"model\" : SVR(),\n",
    "                        \"param\" : {}\n",
    "       },\n",
    "\n",
    "\"KNeighbors_Classifier_Regressor\" : {\n",
    "                        \"model\" : KNeighborsRegressor(),\n",
    "                        \"param\" : {'n_neighbors' : [4,5,6],\n",
    "                                  'weights' : ['uniform', 'distance']\n",
    "                                  }\n",
    "},\n",
    "                       \n",
    "\n",
    "\"Random_Forest_Regressor\" :{\n",
    "                    \"model\" : RandomForestRegressor(),\n",
    "                    \"param\" : {'criterion' : [\"squared_error\", \"absolute_error\"],\n",
    "                              'n_estimators':[100,85,90]\n",
    "                              }\n",
    "                      },\n",
    "    \n",
    "\n",
    "\"Bagging_Regressor\" :{\n",
    "                    \"model\" : BaggingRegressor(oob_score=True,max_samples = 0.8),\n",
    "                    \"param\" : {}\n",
    "                      },\n",
    "\n",
    " \"AdaBoost_Regressor\" :{\n",
    "                    \"model\" : AdaBoostRegressor(),\n",
    "                    \"param\" : {}\n",
    "                      },\n",
    "\n",
    "\"Gradient_Boosting_Regressor\" :{\n",
    "                    \"model\" : GradientBoostingRegressor(),\n",
    "                    \"param\" : {}\n",
    "                      },\n",
    "\n",
    "\"XGB_Regressor\" :{\n",
    "                    \"model\" : XGBRegressor(),\n",
    "                    \"param\" : {}\n",
    "                      },\n",
    "}"
   ]
  },
  {
   "cell_type": "code",
   "execution_count": 84,
   "id": "30a40a2d-a571-4afe-a4e0-40df657baf4e",
   "metadata": {},
   "outputs": [],
   "source": [
    "# Model Section \n",
    "\n",
    "Report = []\n",
    "for model_name ,model_param in model_parameter.items():\n",
    "    gs = GridSearchCV(model_param['model'],model_param['param'],cv = 5,return_train_score=False)\n",
    "    gs.fit(X,y)\n",
    "    Report.append({'Model': model_name,\n",
    "                 'Best_Score' : gs.best_score_,\n",
    "                 'Best_Parameter' : gs.best_params_})\n",
    "\n",
    "Model_Report = pd.DataFrame(Report,columns=['Model','Best_Score','Best_Parameter'])\n"
   ]
  },
  {
   "cell_type": "code",
   "execution_count": 85,
   "id": "0fc6bc53-19bd-47f0-8176-9be06a70d026",
   "metadata": {
    "tags": []
   },
   "outputs": [
    {
     "data": {
      "text/html": [
       "<div>\n",
       "<style scoped>\n",
       "    .dataframe tbody tr th:only-of-type {\n",
       "        vertical-align: middle;\n",
       "    }\n",
       "\n",
       "    .dataframe tbody tr th {\n",
       "        vertical-align: top;\n",
       "    }\n",
       "\n",
       "    .dataframe thead th {\n",
       "        text-align: right;\n",
       "    }\n",
       "</style>\n",
       "<table border=\"1\" class=\"dataframe\">\n",
       "  <thead>\n",
       "    <tr style=\"text-align: right;\">\n",
       "      <th></th>\n",
       "      <th>Model</th>\n",
       "      <th>Best_Score</th>\n",
       "      <th>Best_Parameter</th>\n",
       "    </tr>\n",
       "  </thead>\n",
       "  <tbody>\n",
       "    <tr>\n",
       "      <th>0</th>\n",
       "      <td>Linear_Regression</td>\n",
       "      <td>0.758141</td>\n",
       "      <td>{}</td>\n",
       "    </tr>\n",
       "    <tr>\n",
       "      <th>4</th>\n",
       "      <td>Random_Forest_Regressor</td>\n",
       "      <td>0.756820</td>\n",
       "      <td>{'criterion': 'squared_error', 'n_estimators':...</td>\n",
       "    </tr>\n",
       "    <tr>\n",
       "      <th>1</th>\n",
       "      <td>Decision_Tree_Regressor</td>\n",
       "      <td>0.756712</td>\n",
       "      <td>{'ccp_alpha': 0.0, 'splitter': 'best'}</td>\n",
       "    </tr>\n",
       "    <tr>\n",
       "      <th>7</th>\n",
       "      <td>Gradient_Boosting_Regressor</td>\n",
       "      <td>0.756687</td>\n",
       "      <td>{}</td>\n",
       "    </tr>\n",
       "    <tr>\n",
       "      <th>8</th>\n",
       "      <td>XGB_Regressor</td>\n",
       "      <td>0.756656</td>\n",
       "      <td>{}</td>\n",
       "    </tr>\n",
       "    <tr>\n",
       "      <th>5</th>\n",
       "      <td>Bagging_Regressor</td>\n",
       "      <td>0.756619</td>\n",
       "      <td>{}</td>\n",
       "    </tr>\n",
       "    <tr>\n",
       "      <th>2</th>\n",
       "      <td>SVR</td>\n",
       "      <td>0.750773</td>\n",
       "      <td>{}</td>\n",
       "    </tr>\n",
       "    <tr>\n",
       "      <th>6</th>\n",
       "      <td>AdaBoost_Regressor</td>\n",
       "      <td>0.739353</td>\n",
       "      <td>{}</td>\n",
       "    </tr>\n",
       "    <tr>\n",
       "      <th>3</th>\n",
       "      <td>KNeighbors_Classifier_Regressor</td>\n",
       "      <td>0.697117</td>\n",
       "      <td>{'n_neighbors': 6, 'weights': 'distance'}</td>\n",
       "    </tr>\n",
       "  </tbody>\n",
       "</table>\n",
       "</div>"
      ],
      "text/plain": [
       "                             Model  Best_Score  \\\n",
       "0                Linear_Regression    0.758141   \n",
       "4          Random_Forest_Regressor    0.756820   \n",
       "1          Decision_Tree_Regressor    0.756712   \n",
       "7      Gradient_Boosting_Regressor    0.756687   \n",
       "8                    XGB_Regressor    0.756656   \n",
       "5                Bagging_Regressor    0.756619   \n",
       "2                              SVR    0.750773   \n",
       "6               AdaBoost_Regressor    0.739353   \n",
       "3  KNeighbors_Classifier_Regressor    0.697117   \n",
       "\n",
       "                                      Best_Parameter  \n",
       "0                                                 {}  \n",
       "4  {'criterion': 'squared_error', 'n_estimators':...  \n",
       "1             {'ccp_alpha': 0.0, 'splitter': 'best'}  \n",
       "7                                                 {}  \n",
       "8                                                 {}  \n",
       "5                                                 {}  \n",
       "2                                                 {}  \n",
       "6                                                 {}  \n",
       "3          {'n_neighbors': 6, 'weights': 'distance'}  "
      ]
     },
     "execution_count": 85,
     "metadata": {},
     "output_type": "execute_result"
    }
   ],
   "source": [
    "Model_Report.sort_values(by='Best_Score',ascending=False)"
   ]
  },
  {
   "cell_type": "code",
   "execution_count": 86,
   "id": "6d1b0499-4318-4f25-87fc-72ae6ae34702",
   "metadata": {},
   "outputs": [],
   "source": [
    "model_clf = {\n",
    "    'RFR' : RandomForestRegressor(criterion= 'squared_error', n_estimators= 100),\n",
    "    'DTR': DecisionTreeRegressor(ccp_alpha = 0.0, splitter= 'best'),\n",
    "    'XGB' :XGBRegressor(),\n",
    "    'GBR':GradientBoostingRegressor(),\n",
    "    'BR':BaggingRegressor(),\n",
    "    'LR':LinearRegression(),\n",
    "    'ABR':AdaBoostRegressor(),\n",
    "    'SVR':SVR(),\n",
    "    'KNNR':KNeighborsRegressor(n_neighbors= 4, weights= 'distance')\n",
    "}"
   ]
  },
  {
   "cell_type": "code",
   "execution_count": 87,
   "id": "085c90c1-47b8-4960-94cb-b783e9a6fbd9",
   "metadata": {},
   "outputs": [],
   "source": [
    "from sklearn.metrics import accuracy_score,confusion_matrix,precision_score"
   ]
  },
  {
   "cell_type": "code",
   "execution_count": 88,
   "id": "df2cd847-b085-47b5-95d7-5ae7745b4d74",
   "metadata": {},
   "outputs": [],
   "source": [
    "def train_regression(clf, X_train,y_train,X_test,y_test):\n",
    "    \n",
    "    clf.fit(X_train,y_train)\n",
    "    score = clf.score(X_test,y_test)*100\n",
    "    return score"
   ]
  },
  {
   "cell_type": "code",
   "execution_count": 89,
   "id": "b36a7710-3e49-4d2d-9f22-5dcb28bc1e40",
   "metadata": {},
   "outputs": [
    {
     "data": {
      "text/plain": [
       "89.45190763705351"
      ]
     },
     "execution_count": 89,
     "metadata": {},
     "output_type": "execute_result"
    }
   ],
   "source": [
    "train_regression(LinearRegression(), X_train,y_train,X_test,y_test)"
   ]
  },
  {
   "cell_type": "code",
   "execution_count": 90,
   "id": "4b61cdb5-ce36-45ed-a063-f06541166743",
   "metadata": {},
   "outputs": [
    {
     "data": {
      "text/html": [
       "<div>\n",
       "<style scoped>\n",
       "    .dataframe tbody tr th:only-of-type {\n",
       "        vertical-align: middle;\n",
       "    }\n",
       "\n",
       "    .dataframe tbody tr th {\n",
       "        vertical-align: top;\n",
       "    }\n",
       "\n",
       "    .dataframe thead th {\n",
       "        text-align: right;\n",
       "    }\n",
       "</style>\n",
       "<table border=\"1\" class=\"dataframe\">\n",
       "  <thead>\n",
       "    <tr style=\"text-align: right;\">\n",
       "      <th></th>\n",
       "      <th>Model</th>\n",
       "      <th>Score</th>\n",
       "    </tr>\n",
       "  </thead>\n",
       "  <tbody>\n",
       "    <tr>\n",
       "      <th>0</th>\n",
       "      <td>RFR</td>\n",
       "      <td>89.343471</td>\n",
       "    </tr>\n",
       "    <tr>\n",
       "      <th>1</th>\n",
       "      <td>DTR</td>\n",
       "      <td>89.350318</td>\n",
       "    </tr>\n",
       "    <tr>\n",
       "      <th>2</th>\n",
       "      <td>XGB</td>\n",
       "      <td>89.350335</td>\n",
       "    </tr>\n",
       "    <tr>\n",
       "      <th>3</th>\n",
       "      <td>GBR</td>\n",
       "      <td>89.339512</td>\n",
       "    </tr>\n",
       "    <tr>\n",
       "      <th>4</th>\n",
       "      <td>BR</td>\n",
       "      <td>89.336677</td>\n",
       "    </tr>\n",
       "    <tr>\n",
       "      <th>5</th>\n",
       "      <td>LR</td>\n",
       "      <td>89.451908</td>\n",
       "    </tr>\n",
       "    <tr>\n",
       "      <th>6</th>\n",
       "      <td>ABR</td>\n",
       "      <td>88.468028</td>\n",
       "    </tr>\n",
       "    <tr>\n",
       "      <th>7</th>\n",
       "      <td>SVR</td>\n",
       "      <td>89.365308</td>\n",
       "    </tr>\n",
       "    <tr>\n",
       "      <th>8</th>\n",
       "      <td>KNNR</td>\n",
       "      <td>88.505089</td>\n",
       "    </tr>\n",
       "  </tbody>\n",
       "</table>\n",
       "</div>"
      ],
      "text/plain": [
       "  Model      Score\n",
       "0   RFR  89.343471\n",
       "1   DTR  89.350318\n",
       "2   XGB  89.350335\n",
       "3   GBR  89.339512\n",
       "4    BR  89.336677\n",
       "5    LR  89.451908\n",
       "6   ABR  88.468028\n",
       "7   SVR  89.365308\n",
       "8  KNNR  88.505089"
      ]
     },
     "execution_count": 90,
     "metadata": {},
     "output_type": "execute_result"
    }
   ],
   "source": [
    "Score =[] \n",
    "\n",
    "for model_name,clf in model_clf.items():\n",
    "\n",
    "    score= train_regression(clf, X_train,y_train,X_test,y_test)\n",
    "\n",
    "    Score.append({'Model': model_name,\n",
    "                 'Score' : score,\n",
    "                 \n",
    "                 })\n",
    "Score_Report = pd.DataFrame(Score,columns=['Model','Score']) \n",
    "Score_Report"
   ]
  },
  {
   "cell_type": "code",
   "execution_count": 91,
   "id": "be0836c0-ff5b-4673-a2d3-fcb7759a14f0",
   "metadata": {},
   "outputs": [
    {
     "data": {
      "text/html": [
       "<div>\n",
       "<style scoped>\n",
       "    .dataframe tbody tr th:only-of-type {\n",
       "        vertical-align: middle;\n",
       "    }\n",
       "\n",
       "    .dataframe tbody tr th {\n",
       "        vertical-align: top;\n",
       "    }\n",
       "\n",
       "    .dataframe thead th {\n",
       "        text-align: right;\n",
       "    }\n",
       "</style>\n",
       "<table border=\"1\" class=\"dataframe\">\n",
       "  <thead>\n",
       "    <tr style=\"text-align: right;\">\n",
       "      <th></th>\n",
       "      <th>Model</th>\n",
       "      <th>Score</th>\n",
       "    </tr>\n",
       "  </thead>\n",
       "  <tbody>\n",
       "    <tr>\n",
       "      <th>5</th>\n",
       "      <td>LR</td>\n",
       "      <td>89.451908</td>\n",
       "    </tr>\n",
       "    <tr>\n",
       "      <th>7</th>\n",
       "      <td>SVR</td>\n",
       "      <td>89.365308</td>\n",
       "    </tr>\n",
       "    <tr>\n",
       "      <th>2</th>\n",
       "      <td>XGB</td>\n",
       "      <td>89.350335</td>\n",
       "    </tr>\n",
       "    <tr>\n",
       "      <th>1</th>\n",
       "      <td>DTR</td>\n",
       "      <td>89.350318</td>\n",
       "    </tr>\n",
       "    <tr>\n",
       "      <th>0</th>\n",
       "      <td>RFR</td>\n",
       "      <td>89.343471</td>\n",
       "    </tr>\n",
       "    <tr>\n",
       "      <th>3</th>\n",
       "      <td>GBR</td>\n",
       "      <td>89.339512</td>\n",
       "    </tr>\n",
       "    <tr>\n",
       "      <th>4</th>\n",
       "      <td>BR</td>\n",
       "      <td>89.336677</td>\n",
       "    </tr>\n",
       "    <tr>\n",
       "      <th>8</th>\n",
       "      <td>KNNR</td>\n",
       "      <td>88.505089</td>\n",
       "    </tr>\n",
       "    <tr>\n",
       "      <th>6</th>\n",
       "      <td>ABR</td>\n",
       "      <td>88.468028</td>\n",
       "    </tr>\n",
       "  </tbody>\n",
       "</table>\n",
       "</div>"
      ],
      "text/plain": [
       "  Model      Score\n",
       "5    LR  89.451908\n",
       "7   SVR  89.365308\n",
       "2   XGB  89.350335\n",
       "1   DTR  89.350318\n",
       "0   RFR  89.343471\n",
       "3   GBR  89.339512\n",
       "4    BR  89.336677\n",
       "8  KNNR  88.505089\n",
       "6   ABR  88.468028"
      ]
     },
     "execution_count": 91,
     "metadata": {},
     "output_type": "execute_result"
    }
   ],
   "source": [
    "Score_Report.sort_values(by='Score',ascending=False)"
   ]
  },
  {
   "cell_type": "markdown",
   "id": "4a6ff1c6-cea9-40c3-912c-6c0a747ae238",
   "metadata": {
    "tags": []
   },
   "source": [
    "# Sklearn Pipeline"
   ]
  },
  {
   "cell_type": "code",
   "execution_count": 102,
   "id": "0de949e5-30a7-4650-86f4-29ebbba5dcf8",
   "metadata": {},
   "outputs": [
    {
     "data": {
      "text/html": [
       "<div>\n",
       "<style scoped>\n",
       "    .dataframe tbody tr th:only-of-type {\n",
       "        vertical-align: middle;\n",
       "    }\n",
       "\n",
       "    .dataframe tbody tr th {\n",
       "        vertical-align: top;\n",
       "    }\n",
       "\n",
       "    .dataframe thead th {\n",
       "        text-align: right;\n",
       "    }\n",
       "</style>\n",
       "<table border=\"1\" class=\"dataframe\">\n",
       "  <thead>\n",
       "    <tr style=\"text-align: right;\">\n",
       "      <th></th>\n",
       "      <th>Gender</th>\n",
       "      <th>Height</th>\n",
       "    </tr>\n",
       "  </thead>\n",
       "  <tbody>\n",
       "    <tr>\n",
       "      <th>0</th>\n",
       "      <td>Male</td>\n",
       "      <td>6.1</td>\n",
       "    </tr>\n",
       "    <tr>\n",
       "      <th>1</th>\n",
       "      <td>Male</td>\n",
       "      <td>5.7</td>\n",
       "    </tr>\n",
       "    <tr>\n",
       "      <th>2</th>\n",
       "      <td>Male</td>\n",
       "      <td>6.2</td>\n",
       "    </tr>\n",
       "    <tr>\n",
       "      <th>3</th>\n",
       "      <td>Male</td>\n",
       "      <td>6.0</td>\n",
       "    </tr>\n",
       "    <tr>\n",
       "      <th>4</th>\n",
       "      <td>Male</td>\n",
       "      <td>5.8</td>\n",
       "    </tr>\n",
       "  </tbody>\n",
       "</table>\n",
       "</div>"
      ],
      "text/plain": [
       "  Gender  Height\n",
       "0   Male     6.1\n",
       "1   Male     5.7\n",
       "2   Male     6.2\n",
       "3   Male     6.0\n",
       "4   Male     5.8"
      ]
     },
     "execution_count": 102,
     "metadata": {},
     "output_type": "execute_result"
    }
   ],
   "source": [
    "X = data_original[['Gender','Height']]\n",
    "y = data_original['Weight']\n",
    "X.head()"
   ]
  },
  {
   "cell_type": "code",
   "execution_count": 103,
   "id": "3f1c1f3f-6632-4226-a9eb-d1c4aca1b6f8",
   "metadata": {},
   "outputs": [
    {
     "data": {
      "text/html": [
       "<div>\n",
       "<style scoped>\n",
       "    .dataframe tbody tr th:only-of-type {\n",
       "        vertical-align: middle;\n",
       "    }\n",
       "\n",
       "    .dataframe tbody tr th {\n",
       "        vertical-align: top;\n",
       "    }\n",
       "\n",
       "    .dataframe thead th {\n",
       "        text-align: right;\n",
       "    }\n",
       "</style>\n",
       "<table border=\"1\" class=\"dataframe\">\n",
       "  <thead>\n",
       "    <tr style=\"text-align: right;\">\n",
       "      <th></th>\n",
       "      <th>Gender</th>\n",
       "      <th>Height</th>\n",
       "    </tr>\n",
       "  </thead>\n",
       "  <tbody>\n",
       "    <tr>\n",
       "      <th>0</th>\n",
       "      <td>1</td>\n",
       "      <td>6.1</td>\n",
       "    </tr>\n",
       "    <tr>\n",
       "      <th>1</th>\n",
       "      <td>1</td>\n",
       "      <td>5.7</td>\n",
       "    </tr>\n",
       "    <tr>\n",
       "      <th>2</th>\n",
       "      <td>1</td>\n",
       "      <td>6.2</td>\n",
       "    </tr>\n",
       "    <tr>\n",
       "      <th>3</th>\n",
       "      <td>1</td>\n",
       "      <td>6.0</td>\n",
       "    </tr>\n",
       "    <tr>\n",
       "      <th>4</th>\n",
       "      <td>1</td>\n",
       "      <td>5.8</td>\n",
       "    </tr>\n",
       "  </tbody>\n",
       "</table>\n",
       "</div>"
      ],
      "text/plain": [
       "   Gender  Height\n",
       "0       1     6.1\n",
       "1       1     5.7\n",
       "2       1     6.2\n",
       "3       1     6.0\n",
       "4       1     5.8"
      ]
     },
     "execution_count": 103,
     "metadata": {},
     "output_type": "execute_result"
    }
   ],
   "source": [
    "labelized = LabelEncoder()\n",
    "X['Gender']=labelized.fit_transform(X['Gender'])\n",
    "X.head()"
   ]
  },
  {
   "cell_type": "code",
   "execution_count": 104,
   "id": "a795d7c6-c2f0-4305-9f9b-43f97cf422d8",
   "metadata": {},
   "outputs": [],
   "source": [
    "\n",
    "X_train,X_test,y_train,y_test = train_test_split(X,y,test_size=0.2)\n"
   ]
  },
  {
   "cell_type": "code",
   "execution_count": 105,
   "id": "3d06ede1-1b1a-4df6-ab50-2096ab6ab0cf",
   "metadata": {},
   "outputs": [
    {
     "data": {
      "text/html": [
       "<div>\n",
       "<style scoped>\n",
       "    .dataframe tbody tr th:only-of-type {\n",
       "        vertical-align: middle;\n",
       "    }\n",
       "\n",
       "    .dataframe tbody tr th {\n",
       "        vertical-align: top;\n",
       "    }\n",
       "\n",
       "    .dataframe thead th {\n",
       "        text-align: right;\n",
       "    }\n",
       "</style>\n",
       "<table border=\"1\" class=\"dataframe\">\n",
       "  <thead>\n",
       "    <tr style=\"text-align: right;\">\n",
       "      <th></th>\n",
       "      <th>Gender</th>\n",
       "      <th>Height</th>\n",
       "    </tr>\n",
       "  </thead>\n",
       "  <tbody>\n",
       "    <tr>\n",
       "      <th>256</th>\n",
       "      <td>1</td>\n",
       "      <td>5.9</td>\n",
       "    </tr>\n",
       "    <tr>\n",
       "      <th>2584</th>\n",
       "      <td>1</td>\n",
       "      <td>5.9</td>\n",
       "    </tr>\n",
       "    <tr>\n",
       "      <th>2423</th>\n",
       "      <td>1</td>\n",
       "      <td>5.6</td>\n",
       "    </tr>\n",
       "    <tr>\n",
       "      <th>1048</th>\n",
       "      <td>1</td>\n",
       "      <td>5.9</td>\n",
       "    </tr>\n",
       "    <tr>\n",
       "      <th>2979</th>\n",
       "      <td>1</td>\n",
       "      <td>5.6</td>\n",
       "    </tr>\n",
       "    <tr>\n",
       "      <th>...</th>\n",
       "      <td>...</td>\n",
       "      <td>...</td>\n",
       "    </tr>\n",
       "    <tr>\n",
       "      <th>7350</th>\n",
       "      <td>0</td>\n",
       "      <td>5.2</td>\n",
       "    </tr>\n",
       "    <tr>\n",
       "      <th>2575</th>\n",
       "      <td>1</td>\n",
       "      <td>5.7</td>\n",
       "    </tr>\n",
       "    <tr>\n",
       "      <th>2772</th>\n",
       "      <td>1</td>\n",
       "      <td>6.2</td>\n",
       "    </tr>\n",
       "    <tr>\n",
       "      <th>4713</th>\n",
       "      <td>1</td>\n",
       "      <td>5.7</td>\n",
       "    </tr>\n",
       "    <tr>\n",
       "      <th>1293</th>\n",
       "      <td>1</td>\n",
       "      <td>5.2</td>\n",
       "    </tr>\n",
       "  </tbody>\n",
       "</table>\n",
       "<p>2000 rows × 2 columns</p>\n",
       "</div>"
      ],
      "text/plain": [
       "      Gender  Height\n",
       "256        1     5.9\n",
       "2584       1     5.9\n",
       "2423       1     5.6\n",
       "1048       1     5.9\n",
       "2979       1     5.6\n",
       "...      ...     ...\n",
       "7350       0     5.2\n",
       "2575       1     5.7\n",
       "2772       1     6.2\n",
       "4713       1     5.7\n",
       "1293       1     5.2\n",
       "\n",
       "[2000 rows x 2 columns]"
      ]
     },
     "execution_count": 105,
     "metadata": {},
     "output_type": "execute_result"
    }
   ],
   "source": [
    "X_test"
   ]
  },
  {
   "cell_type": "code",
   "execution_count": 106,
   "id": "8223eb97-c44c-4a27-9fc0-557f1120b8ac",
   "metadata": {},
   "outputs": [],
   "source": [
    "from sklearn.pipeline import Pipeline"
   ]
  },
  {
   "cell_type": "code",
   "execution_count": 107,
   "id": "0a0a6330-afd0-4ffd-803a-ef7c1d73a82b",
   "metadata": {},
   "outputs": [],
   "source": [
    "\n",
    "pipe = Pipeline([('scalized', StandardScaler()),\n",
    "                    ('LR',LinearRegression())])"
   ]
  },
  {
   "cell_type": "code",
   "execution_count": 108,
   "id": "815f7384-24b6-4870-8bbc-c7defb21c240",
   "metadata": {},
   "outputs": [
    {
     "data": {
      "text/html": [
       "<style>#sk-container-id-5 {color: black;background-color: white;}#sk-container-id-5 pre{padding: 0;}#sk-container-id-5 div.sk-toggleable {background-color: white;}#sk-container-id-5 label.sk-toggleable__label {cursor: pointer;display: block;width: 100%;margin-bottom: 0;padding: 0.3em;box-sizing: border-box;text-align: center;}#sk-container-id-5 label.sk-toggleable__label-arrow:before {content: \"▸\";float: left;margin-right: 0.25em;color: #696969;}#sk-container-id-5 label.sk-toggleable__label-arrow:hover:before {color: black;}#sk-container-id-5 div.sk-estimator:hover label.sk-toggleable__label-arrow:before {color: black;}#sk-container-id-5 div.sk-toggleable__content {max-height: 0;max-width: 0;overflow: hidden;text-align: left;background-color: #f0f8ff;}#sk-container-id-5 div.sk-toggleable__content pre {margin: 0.2em;color: black;border-radius: 0.25em;background-color: #f0f8ff;}#sk-container-id-5 input.sk-toggleable__control:checked~div.sk-toggleable__content {max-height: 200px;max-width: 100%;overflow: auto;}#sk-container-id-5 input.sk-toggleable__control:checked~label.sk-toggleable__label-arrow:before {content: \"▾\";}#sk-container-id-5 div.sk-estimator input.sk-toggleable__control:checked~label.sk-toggleable__label {background-color: #d4ebff;}#sk-container-id-5 div.sk-label input.sk-toggleable__control:checked~label.sk-toggleable__label {background-color: #d4ebff;}#sk-container-id-5 input.sk-hidden--visually {border: 0;clip: rect(1px 1px 1px 1px);clip: rect(1px, 1px, 1px, 1px);height: 1px;margin: -1px;overflow: hidden;padding: 0;position: absolute;width: 1px;}#sk-container-id-5 div.sk-estimator {font-family: monospace;background-color: #f0f8ff;border: 1px dotted black;border-radius: 0.25em;box-sizing: border-box;margin-bottom: 0.5em;}#sk-container-id-5 div.sk-estimator:hover {background-color: #d4ebff;}#sk-container-id-5 div.sk-parallel-item::after {content: \"\";width: 100%;border-bottom: 1px solid gray;flex-grow: 1;}#sk-container-id-5 div.sk-label:hover label.sk-toggleable__label {background-color: #d4ebff;}#sk-container-id-5 div.sk-serial::before {content: \"\";position: absolute;border-left: 1px solid gray;box-sizing: border-box;top: 0;bottom: 0;left: 50%;z-index: 0;}#sk-container-id-5 div.sk-serial {display: flex;flex-direction: column;align-items: center;background-color: white;padding-right: 0.2em;padding-left: 0.2em;position: relative;}#sk-container-id-5 div.sk-item {position: relative;z-index: 1;}#sk-container-id-5 div.sk-parallel {display: flex;align-items: stretch;justify-content: center;background-color: white;position: relative;}#sk-container-id-5 div.sk-item::before, #sk-container-id-5 div.sk-parallel-item::before {content: \"\";position: absolute;border-left: 1px solid gray;box-sizing: border-box;top: 0;bottom: 0;left: 50%;z-index: -1;}#sk-container-id-5 div.sk-parallel-item {display: flex;flex-direction: column;z-index: 1;position: relative;background-color: white;}#sk-container-id-5 div.sk-parallel-item:first-child::after {align-self: flex-end;width: 50%;}#sk-container-id-5 div.sk-parallel-item:last-child::after {align-self: flex-start;width: 50%;}#sk-container-id-5 div.sk-parallel-item:only-child::after {width: 0;}#sk-container-id-5 div.sk-dashed-wrapped {border: 1px dashed gray;margin: 0 0.4em 0.5em 0.4em;box-sizing: border-box;padding-bottom: 0.4em;background-color: white;}#sk-container-id-5 div.sk-label label {font-family: monospace;font-weight: bold;display: inline-block;line-height: 1.2em;}#sk-container-id-5 div.sk-label-container {text-align: center;}#sk-container-id-5 div.sk-container {/* jupyter's `normalize.less` sets `[hidden] { display: none; }` but bootstrap.min.css set `[hidden] { display: none !important; }` so we also need the `!important` here to be able to override the default hidden behavior on the sphinx rendered scikit-learn.org. See: https://github.com/scikit-learn/scikit-learn/issues/21755 */display: inline-block !important;position: relative;}#sk-container-id-5 div.sk-text-repr-fallback {display: none;}</style><div id=\"sk-container-id-5\" class=\"sk-top-container\"><div class=\"sk-text-repr-fallback\"><pre>Pipeline(steps=[(&#x27;scalized&#x27;, StandardScaler()), (&#x27;LR&#x27;, LinearRegression())])</pre><b>In a Jupyter environment, please rerun this cell to show the HTML representation or trust the notebook. <br />On GitHub, the HTML representation is unable to render, please try loading this page with nbviewer.org.</b></div><div class=\"sk-container\" hidden><div class=\"sk-item sk-dashed-wrapped\"><div class=\"sk-label-container\"><div class=\"sk-label sk-toggleable\"><input class=\"sk-toggleable__control sk-hidden--visually\" id=\"sk-estimator-id-13\" type=\"checkbox\" ><label for=\"sk-estimator-id-13\" class=\"sk-toggleable__label sk-toggleable__label-arrow\">Pipeline</label><div class=\"sk-toggleable__content\"><pre>Pipeline(steps=[(&#x27;scalized&#x27;, StandardScaler()), (&#x27;LR&#x27;, LinearRegression())])</pre></div></div></div><div class=\"sk-serial\"><div class=\"sk-item\"><div class=\"sk-estimator sk-toggleable\"><input class=\"sk-toggleable__control sk-hidden--visually\" id=\"sk-estimator-id-14\" type=\"checkbox\" ><label for=\"sk-estimator-id-14\" class=\"sk-toggleable__label sk-toggleable__label-arrow\">StandardScaler</label><div class=\"sk-toggleable__content\"><pre>StandardScaler()</pre></div></div></div><div class=\"sk-item\"><div class=\"sk-estimator sk-toggleable\"><input class=\"sk-toggleable__control sk-hidden--visually\" id=\"sk-estimator-id-15\" type=\"checkbox\" ><label for=\"sk-estimator-id-15\" class=\"sk-toggleable__label sk-toggleable__label-arrow\">LinearRegression</label><div class=\"sk-toggleable__content\"><pre>LinearRegression()</pre></div></div></div></div></div></div></div>"
      ],
      "text/plain": [
       "Pipeline(steps=[('scalized', StandardScaler()), ('LR', LinearRegression())])"
      ]
     },
     "execution_count": 108,
     "metadata": {},
     "output_type": "execute_result"
    }
   ],
   "source": [
    "pipe.fit(X_train,y_train)"
   ]
  },
  {
   "cell_type": "code",
   "execution_count": 116,
   "id": "fc00c66b-3b64-47b3-877d-74cc332e5970",
   "metadata": {},
   "outputs": [
    {
     "data": {
      "text/plain": [
       "90.27579281956992"
      ]
     },
     "execution_count": 116,
     "metadata": {},
     "output_type": "execute_result"
    }
   ],
   "source": [
    "pipe.score(X_test,y_test)*100"
   ]
  },
  {
   "cell_type": "code",
   "execution_count": 110,
   "id": "4bb73d02-a245-4d78-9482-2f69d6edbebc",
   "metadata": {},
   "outputs": [
    {
     "data": {
      "text/plain": [
       "61.361037157495986"
      ]
     },
     "execution_count": 110,
     "metadata": {},
     "output_type": "execute_result"
    }
   ],
   "source": [
    "pipe.predict([[1,5]])[0]"
   ]
  },
  {
   "cell_type": "code",
   "execution_count": 111,
   "id": "6c9f9aab-6ea8-4a77-ab2a-59b0e3e9d7c6",
   "metadata": {},
   "outputs": [],
   "source": [
    "import joblib"
   ]
  },
  {
   "cell_type": "code",
   "execution_count": 112,
   "id": "a6a93e25-1b4e-4117-9a9b-fdc3bbbdd01c",
   "metadata": {},
   "outputs": [
    {
     "data": {
      "text/plain": [
       "['Weight.lr']"
      ]
     },
     "execution_count": 112,
     "metadata": {},
     "output_type": "execute_result"
    }
   ],
   "source": [
    "joblib.dump(pipe,\"Weight.lr\")"
   ]
  },
  {
   "cell_type": "code",
   "execution_count": 113,
   "id": "89438855-7d8b-43c0-98b3-088f5b6d720f",
   "metadata": {},
   "outputs": [],
   "source": [
    "model=joblib.load('Weight.lr')"
   ]
  },
  {
   "cell_type": "code",
   "execution_count": 117,
   "id": "5d0c2d72-55a9-4022-82d5-dc5afd778485",
   "metadata": {},
   "outputs": [
    {
     "data": {
      "text/plain": [
       "52.41693870385188"
      ]
     },
     "execution_count": 117,
     "metadata": {},
     "output_type": "execute_result"
    }
   ],
   "source": [
    "model.predict([[0,5]])[0]"
   ]
  },
  {
   "cell_type": "code",
   "execution_count": 115,
   "id": "b1fb26bf-3cf8-4aa9-bfcb-5f8d98409ca2",
   "metadata": {},
   "outputs": [
    {
     "data": {
      "text/plain": [
       "['labelized.le']"
      ]
     },
     "execution_count": 115,
     "metadata": {},
     "output_type": "execute_result"
    }
   ],
   "source": [
    "joblib.dump(labelized,\"labelized.le\")"
   ]
  },
  {
   "cell_type": "code",
   "execution_count": 126,
   "id": "49af5c4d-416b-4592-8e47-c6e0b7a5ff0c",
   "metadata": {},
   "outputs": [],
   "source": [
    "g=labelized.transform(['Male'])"
   ]
  },
  {
   "cell_type": "code",
   "execution_count": 135,
   "id": "204a1c28-fb2d-4e58-a72a-384d83ba75f6",
   "metadata": {},
   "outputs": [
    {
     "data": {
      "text/plain": [
       "61.36"
      ]
     },
     "execution_count": 135,
     "metadata": {},
     "output_type": "execute_result"
    }
   ],
   "source": [
    "round(model.predict([[g,5]])[0],2)"
   ]
  },
  {
   "cell_type": "code",
   "execution_count": null,
   "id": "5601236e-a068-4ab8-91ae-8c7eea96f7f2",
   "metadata": {},
   "outputs": [],
   "source": []
  }
 ],
 "metadata": {
  "kernelspec": {
   "display_name": "Python 3 (ipykernel)",
   "language": "python",
   "name": "python3"
  },
  "language_info": {
   "codemirror_mode": {
    "name": "ipython",
    "version": 3
   },
   "file_extension": ".py",
   "mimetype": "text/x-python",
   "name": "python",
   "nbconvert_exporter": "python",
   "pygments_lexer": "ipython3",
   "version": "3.9.12"
  },
  "widgets": {
   "application/vnd.jupyter.widget-state+json": {
    "state": {},
    "version_major": 2,
    "version_minor": 0
   }
  }
 },
 "nbformat": 4,
 "nbformat_minor": 5
}
