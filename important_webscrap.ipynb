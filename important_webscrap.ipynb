{
 "cells": [
  {
   "cell_type": "code",
   "execution_count": 1,
   "id": "4b612ef7-1b3a-403c-8475-3014e6ad5f0a",
   "metadata": {},
   "outputs": [],
   "source": [
    "import requests"
   ]
  },
  {
   "cell_type": "code",
   "execution_count": 2,
   "id": "ff8dffe9-e008-4889-8848-a4ffff288f48",
   "metadata": {},
   "outputs": [],
   "source": [
    "url=\"https://uaebusinessdirectory.com/search_results.php?keyword=legal&category=&location=&submit_search=\"\n",
    "request=requests.get(url)"
   ]
  },
  {
   "cell_type": "code",
   "execution_count": 18,
   "id": "78428080-225e-4f35-a2e9-dbbfa4aec08a",
   "metadata": {},
   "outputs": [
    {
     "name": "stdout",
     "output_type": "stream",
     "text": [
      "Requirement already satisfied: html5lib in c:\\users\\hp\\anaconda3\\envs\\python_project\\lib\\site-packages (1.1)Note: you may need to restart the kernel to use updated packages.\n",
      "\n",
      "Requirement already satisfied: six>=1.9 in c:\\users\\hp\\anaconda3\\envs\\python_project\\lib\\site-packages (from html5lib) (1.16.0)\n",
      "Requirement already satisfied: webencodings in c:\\users\\hp\\anaconda3\\envs\\python_project\\lib\\site-packages (from html5lib) (0.5.1)\n",
      "\n",
      "[notice] A new release of pip available: 22.1.2 -> 23.1\n",
      "[notice] To update, run: python.exe -m pip install --upgrade pip\n"
     ]
    },
    {
     "name": "stderr",
     "output_type": "stream",
     "text": [
      "WARNING: Ignoring invalid distribution -illow (c:\\users\\hp\\appdata\\roaming\\python\\python39\\site-packages)\n",
      "WARNING: Ignoring invalid distribution -atplotlib (c:\\users\\hp\\anaconda3\\envs\\python_project\\lib\\site-packages)\n",
      "WARNING: Ignoring invalid distribution -illow (c:\\users\\hp\\appdata\\roaming\\python\\python39\\site-packages)\n",
      "WARNING: Ignoring invalid distribution -atplotlib (c:\\users\\hp\\anaconda3\\envs\\python_project\\lib\\site-packages)\n",
      "WARNING: Ignoring invalid distribution -illow (c:\\users\\hp\\appdata\\roaming\\python\\python39\\site-packages)\n",
      "WARNING: Ignoring invalid distribution -atplotlib (c:\\users\\hp\\anaconda3\\envs\\python_project\\lib\\site-packages)\n",
      "WARNING: Ignoring invalid distribution -illow (c:\\users\\hp\\appdata\\roaming\\python\\python39\\site-packages)\n",
      "WARNING: Ignoring invalid distribution -atplotlib (c:\\users\\hp\\anaconda3\\envs\\python_project\\lib\\site-packages)\n",
      "WARNING: Ignoring invalid distribution -illow (c:\\users\\hp\\appdata\\roaming\\python\\python39\\site-packages)\n",
      "WARNING: Ignoring invalid distribution -illow (c:\\users\\hp\\appdata\\roaming\\python\\python39\\site-packages)\n"
     ]
    }
   ],
   "source": [
    "pip install html5lib"
   ]
  },
  {
   "cell_type": "code",
   "execution_count": 3,
   "id": "0e5c4ea3-2e91-4ce0-a4d1-8eacbdf33b9a",
   "metadata": {},
   "outputs": [
    {
     "name": "stdout",
     "output_type": "stream",
     "text": [
      "https://uaebusinessdirectory.com/search_results.php?keyword=legal&category=&location=&submit_search=\n"
     ]
    }
   ],
   "source": [
    "print(request.url)"
   ]
  },
  {
   "cell_type": "code",
   "execution_count": 4,
   "id": "d37c377c-563e-44fa-a57d-bb8083bfa022",
   "metadata": {},
   "outputs": [],
   "source": [
    "from bs4 import BeautifulSoup as bs"
   ]
  },
  {
   "cell_type": "markdown",
   "id": "872a34ec-9164-4245-b8b2-f2815476b990",
   "metadata": {},
   "source": [
    "for inner_h in soup.find_all('h4'):\n",
    "    for inner_a in inner_h:\n",
    "        print(inner_a)\n",
    "        # print(inner_a.get('href'))\n",
    "        # print(inner_a.text)"
   ]
  },
  {
   "cell_type": "code",
   "execution_count": 5,
   "id": "4fb478f3-4e82-4c00-b5b6-3fa8b86f8777",
   "metadata": {},
   "outputs": [],
   "source": [
    "company_name=[]\n",
    "company_link=[]\n",
    "for page in range(1, 16):\n",
    " \n",
    "    req = requests.get(url + \"&page=\"+str(page))\n",
    "    soup = bs(req.content, 'html.parser')\n",
    "    # print(req.url)\n",
    "    for inner_h in soup.find_all('h4'):\n",
    "        for inner_a in inner_h:\n",
    "            # print(inner_a)\n",
    "            company_link.append(inner_a.get('href'))\n",
    "            company_name.append(inner_a.text)\n",
    "            "
   ]
  },
  {
   "cell_type": "code",
   "execution_count": 6,
   "id": "6395705b-fb98-4620-b52d-ce6120e6a8ca",
   "metadata": {},
   "outputs": [],
   "source": [
    "import pandas as pd\n",
    "df = pd.DataFrame({'Company Name':company_name,'Company Profile Link':company_link}) \n",
    "df.to_csv('legal_company_profile.csv',index=False)"
   ]
  },
  {
   "cell_type": "code",
   "execution_count": 7,
   "id": "d9d053d4-018c-4d96-afe6-e6980d921e37",
   "metadata": {},
   "outputs": [],
   "source": [
    "import pandas as pd"
   ]
  },
  {
   "cell_type": "code",
   "execution_count": 8,
   "id": "e7fadddc-510b-4018-92a6-9accb93f3857",
   "metadata": {},
   "outputs": [],
   "source": [
    "data=pd.read_csv('legal_company_profile.csv')"
   ]
  },
  {
   "cell_type": "code",
   "execution_count": 9,
   "id": "f24c5b21-f07d-4339-8328-317d3be8d92d",
   "metadata": {},
   "outputs": [
    {
     "data": {
      "text/html": [
       "<div>\n",
       "<style scoped>\n",
       "    .dataframe tbody tr th:only-of-type {\n",
       "        vertical-align: middle;\n",
       "    }\n",
       "\n",
       "    .dataframe tbody tr th {\n",
       "        vertical-align: top;\n",
       "    }\n",
       "\n",
       "    .dataframe thead th {\n",
       "        text-align: right;\n",
       "    }\n",
       "</style>\n",
       "<table border=\"1\" class=\"dataframe\">\n",
       "  <thead>\n",
       "    <tr style=\"text-align: right;\">\n",
       "      <th></th>\n",
       "      <th>Company Name</th>\n",
       "      <th>Company Profile Link</th>\n",
       "    </tr>\n",
       "  </thead>\n",
       "  <tbody>\n",
       "    <tr>\n",
       "      <th>0</th>\n",
       "      <td>INTERNATIONAL AUDITING &amp; CONSULTING CENTER</td>\n",
       "      <td>https://uaebusinessdirectory.com/international...</td>\n",
       "    </tr>\n",
       "    <tr>\n",
       "      <th>1</th>\n",
       "      <td>Al Tamimi &amp; Company Advocates &amp; Legal Consultants</td>\n",
       "      <td>https://uaebusinessdirectory.com/al-tamimi-and...</td>\n",
       "    </tr>\n",
       "    <tr>\n",
       "      <th>2</th>\n",
       "      <td>Accord International Advocates &amp; Legal consult...</td>\n",
       "      <td>https://uaebusinessdirectory.com/accord-intern...</td>\n",
       "    </tr>\n",
       "    <tr>\n",
       "      <th>3</th>\n",
       "      <td>Nasser Al Jaroodi Advocates and Legal Consultants</td>\n",
       "      <td>https://uaebusinessdirectory.com/nasser-al-jar...</td>\n",
       "    </tr>\n",
       "    <tr>\n",
       "      <th>4</th>\n",
       "      <td>Hilal &amp; Associates - Advocates &amp; Legal Consult...</td>\n",
       "      <td>https://uaebusinessdirectory.com/hilal-and-ass...</td>\n",
       "    </tr>\n",
       "    <tr>\n",
       "      <th>...</th>\n",
       "      <td>...</td>\n",
       "      <td>...</td>\n",
       "    </tr>\n",
       "    <tr>\n",
       "      <th>195</th>\n",
       "      <td>ADV UC ABDULLA LEGAL ASSOCIATES</td>\n",
       "      <td>https://uaebusinessdirectory.com/adv-uc-abdull...</td>\n",
       "    </tr>\n",
       "    <tr>\n",
       "      <th>196</th>\n",
       "      <td>AlSaadi Advocates &amp; Legal Consultants</td>\n",
       "      <td>https://uaebusinessdirectory.com/alsaadi-advoc...</td>\n",
       "    </tr>\n",
       "    <tr>\n",
       "      <th>197</th>\n",
       "      <td>DUNIA LEGAL TRANSLATION</td>\n",
       "      <td>https://uaebusinessdirectory.com/dunia-legal-t...</td>\n",
       "    </tr>\n",
       "    <tr>\n",
       "      <th>198</th>\n",
       "      <td>Lentrax Translation Services</td>\n",
       "      <td>https://uaebusinessdirectory.com/lentrax-trans...</td>\n",
       "    </tr>\n",
       "    <tr>\n",
       "      <th>199</th>\n",
       "      <td>Al Shaiba Advocates and Legal Consultants in D...</td>\n",
       "      <td>https://uaebusinessdirectory.com/al-shaiba-adv...</td>\n",
       "    </tr>\n",
       "  </tbody>\n",
       "</table>\n",
       "<p>200 rows × 2 columns</p>\n",
       "</div>"
      ],
      "text/plain": [
       "                                          Company Name  \\\n",
       "0           INTERNATIONAL AUDITING & CONSULTING CENTER   \n",
       "1    Al Tamimi & Company Advocates & Legal Consultants   \n",
       "2    Accord International Advocates & Legal consult...   \n",
       "3    Nasser Al Jaroodi Advocates and Legal Consultants   \n",
       "4    Hilal & Associates - Advocates & Legal Consult...   \n",
       "..                                                 ...   \n",
       "195                    ADV UC ABDULLA LEGAL ASSOCIATES   \n",
       "196              AlSaadi Advocates & Legal Consultants   \n",
       "197                            DUNIA LEGAL TRANSLATION   \n",
       "198                       Lentrax Translation Services   \n",
       "199  Al Shaiba Advocates and Legal Consultants in D...   \n",
       "\n",
       "                                  Company Profile Link  \n",
       "0    https://uaebusinessdirectory.com/international...  \n",
       "1    https://uaebusinessdirectory.com/al-tamimi-and...  \n",
       "2    https://uaebusinessdirectory.com/accord-intern...  \n",
       "3    https://uaebusinessdirectory.com/nasser-al-jar...  \n",
       "4    https://uaebusinessdirectory.com/hilal-and-ass...  \n",
       "..                                                 ...  \n",
       "195  https://uaebusinessdirectory.com/adv-uc-abdull...  \n",
       "196  https://uaebusinessdirectory.com/alsaadi-advoc...  \n",
       "197  https://uaebusinessdirectory.com/dunia-legal-t...  \n",
       "198  https://uaebusinessdirectory.com/lentrax-trans...  \n",
       "199  https://uaebusinessdirectory.com/al-shaiba-adv...  \n",
       "\n",
       "[200 rows x 2 columns]"
      ]
     },
     "execution_count": 9,
     "metadata": {},
     "output_type": "execute_result"
    }
   ],
   "source": [
    "data"
   ]
  },
  {
   "cell_type": "code",
   "execution_count": 82,
   "id": "774e7688-c246-4e51-815d-a399a6543957",
   "metadata": {},
   "outputs": [],
   "source": [
    "Name=[]\n",
    "Link=[]\n",
    "Street_Address=[]\n",
    "Postalcode=[]\n",
    "AddressCountry=[]\n",
    "phone=[]\n",
    "fax=[]\n",
    "mail=[]\n",
    "contractPerson=[]\n",
    "\n",
    "\n",
    "for links in data['Company Profile Link']:\n",
    "   \n",
    "    req = requests.get(links)\n",
    "    soup = bs(req.text, 'html.parser')\n",
    "    \n",
    "    name=soup.title.text\n",
    "    link=req.url\n",
    "    a=soup.find('div',class_='col-md-6 col-sm-12')\n",
    "    a.find('div',itemprop=\"address\")\n",
    "    if a.find('span', itemprop=\"streetAddress\"):\n",
    "        sa = a.find('span', itemprop=\"streetAddress\").text.strip()\n",
    "    else:\n",
    "        sa=\" \"\n",
    "    if a.find('span', itemprop=\"postalCode\"):\n",
    "        pc = a.find('span', itemprop=\"postalCode\").text.strip()\n",
    "    else:\n",
    "        pc=\" \"\n",
    "\n",
    "    if a.find('span', itemprop=\"addressCountry\"):\n",
    "        ac = a.find('span', itemprop=\"addressCountry\").text.strip()\n",
    "    else:\n",
    "        ac=\" \"\n",
    "    if a.find('span', itemprop=\"telephone\"):\n",
    "        telephone = a.find('span', itemprop=\"telephone\").text\n",
    "    else:\n",
    "        telephone=\" \"\n",
    "    if a.find('span', itemprop=\"telephone\"):\n",
    "        telephone = a.find('span', itemprop=\"telephone\").text\n",
    "    else:\n",
    "        telephone=\" \"\n",
    "    if a.find('span', itemprop=\"faxNumber\"):\n",
    "        faxNumber = a.find('span', itemprop=\"faxNumber\").text\n",
    "    else:\n",
    "        faxNumber=\" \"\n",
    "        \n",
    "    if soup.find('div',class_='col-md-6 col-sm-12 clearfix'):\n",
    "        b=soup.find('div',class_='col-md-6 col-sm-12 clearfix')\n",
    "        if b.find_all('a'):\n",
    "            mail_id=(soup.find_all('a')[-1]).text\n",
    "        else:\n",
    "            mail_id=\" \"\n",
    "    \n",
    "    if  soup.find('div',class_='col-md-4 col-sm-12') :    \n",
    "        c=soup.find('div',class_='col-md-4 col-sm-12')\n",
    "        if c.find('div',class_='panel-body'):\n",
    "            contact_person=c.find('div',class_='panel-body').text.split(\":\")[-1].strip()\n",
    "        else:\n",
    "            contact_person=\" \" \n",
    "\n",
    "    Name.append(name)\n",
    "    Link.append(link)\n",
    "    Street_Address.append(sa)\n",
    "    Postalcode.append(pc)\n",
    "    AddressCountry.append(ac)\n",
    "    phone.append(telephone)\n",
    "    fax.append(faxNumber)\n",
    "    mail.append(mail_id)\n",
    "    contractPerson.append(contact_person)\n",
    "\n",
    "\n",
    "   \n",
    "\n",
    "\n",
    "\n"
   ]
  },
  {
   "cell_type": "code",
   "execution_count": 83,
   "id": "d4075d16-9212-4309-8738-5251e5d2896d",
   "metadata": {
    "tags": []
   },
   "outputs": [],
   "source": [
    "df = pd.DataFrame({\n",
    "'Company Name':Name,\n",
    "'Company Profile Link':Link,\n",
    "'Street Address':Street_Address,\n",
    "'Postalcode':Postalcode,\n",
    "'AddressCountry':AddressCountry,\n",
    "'Phone':phone,\n",
    "'Fax':fax,\n",
    "'Mail':mail,\n",
    "'ContactPerson':contractPerson})\n",
    "df.to_csv('legal_company_Data.csv',index=False)"
   ]
  },
  {
   "cell_type": "code",
   "execution_count": 84,
   "id": "ec2d70f3-7b74-41f7-b24a-a731b26dda25",
   "metadata": {},
   "outputs": [],
   "source": [
    "data1=pd.read_csv('legal_company_Data.csv')"
   ]
  },
  {
   "cell_type": "code",
   "execution_count": 85,
   "id": "6b016666-7ef3-4535-9ef7-6df76067dc19",
   "metadata": {},
   "outputs": [
    {
     "data": {
      "text/html": [
       "<div>\n",
       "<style scoped>\n",
       "    .dataframe tbody tr th:only-of-type {\n",
       "        vertical-align: middle;\n",
       "    }\n",
       "\n",
       "    .dataframe tbody tr th {\n",
       "        vertical-align: top;\n",
       "    }\n",
       "\n",
       "    .dataframe thead th {\n",
       "        text-align: right;\n",
       "    }\n",
       "</style>\n",
       "<table border=\"1\" class=\"dataframe\">\n",
       "  <thead>\n",
       "    <tr style=\"text-align: right;\">\n",
       "      <th></th>\n",
       "      <th>Company Name</th>\n",
       "      <th>Company Profile Link</th>\n",
       "      <th>Street Address</th>\n",
       "      <th>Postalcode</th>\n",
       "      <th>AddressCountry</th>\n",
       "      <th>Phone</th>\n",
       "      <th>Fax</th>\n",
       "      <th>Mail</th>\n",
       "      <th>ContactPerson</th>\n",
       "    </tr>\n",
       "  </thead>\n",
       "  <tbody>\n",
       "    <tr>\n",
       "      <th>0</th>\n",
       "      <td>INTERNATIONAL AUDITING &amp; CONSULTING CENTER</td>\n",
       "      <td>https://uaebusinessdirectory.com/international...</td>\n",
       "      <td>501,Concord Hotel Office Tower, Maktoum str,De...</td>\n",
       "      <td>Po Box : 181127</td>\n",
       "      <td>United Arab Emirates</td>\n",
       "      <td>+971 4 2501522</td>\n",
       "      <td>+971 4 2501521</td>\n",
       "      <td>Powered by Falcon Search com LLC</td>\n",
       "      <td>Hussain Ahmed</td>\n",
       "    </tr>\n",
       "    <tr>\n",
       "      <th>1</th>\n",
       "      <td>Al Tamimi &amp; Company Advocates &amp; Legal Consultants</td>\n",
       "      <td>https://uaebusinessdirectory.com/al-tamimi-and...</td>\n",
       "      <td></td>\n",
       "      <td>Po Box: 9275</td>\n",
       "      <td>United Arab Emirates</td>\n",
       "      <td>+971 4 3641641</td>\n",
       "      <td>+971 4 3641777</td>\n",
       "      <td></td>\n",
       "      <td>NaN</td>\n",
       "    </tr>\n",
       "    <tr>\n",
       "      <th>2</th>\n",
       "      <td>Accord International Advocates &amp; Legal consult...</td>\n",
       "      <td>https://uaebusinessdirectory.com/accord-intern...</td>\n",
       "      <td></td>\n",
       "      <td>Po Box : 21331</td>\n",
       "      <td>United Arab Emirates</td>\n",
       "      <td>+971 4 3366080</td>\n",
       "      <td>+971 4 3377345</td>\n",
       "      <td></td>\n",
       "      <td>NaN</td>\n",
       "    </tr>\n",
       "    <tr>\n",
       "      <th>3</th>\n",
       "      <td>Nasser Al Jaroodi Advocates and Legal Consultants</td>\n",
       "      <td>https://uaebusinessdirectory.com/nasser-al-jar...</td>\n",
       "      <td>Deira, Baniyas Square, Deira Tower, 2nd Floor,...</td>\n",
       "      <td>Po o5958</td>\n",
       "      <td>United Arab Emirates</td>\n",
       "      <td>+971 4 2274554</td>\n",
       "      <td>+971 4 2273730</td>\n",
       "      <td></td>\n",
       "      <td>NaN</td>\n",
       "    </tr>\n",
       "    <tr>\n",
       "      <th>4</th>\n",
       "      <td>Hilal &amp; Associates - Advocates &amp; Legal Consult...</td>\n",
       "      <td>https://uaebusinessdirectory.com/hilal-and-ass...</td>\n",
       "      <td></td>\n",
       "      <td>Po Box: 7372</td>\n",
       "      <td>United Arab Emirates</td>\n",
       "      <td>+971 4 2955388</td>\n",
       "      <td>+971 4 2955377</td>\n",
       "      <td></td>\n",
       "      <td>Mr Saeed Shanty</td>\n",
       "    </tr>\n",
       "    <tr>\n",
       "      <th>5</th>\n",
       "      <td>Emirates Advocates And Legal C</td>\n",
       "      <td>https://uaebusinessdirectory.com/emirates-advo...</td>\n",
       "      <td></td>\n",
       "      <td>9055</td>\n",
       "      <td></td>\n",
       "      <td>971 4 3304343</td>\n",
       "      <td>971 4 3303993</td>\n",
       "      <td></td>\n",
       "      <td>Khairallah Advocates &amp; Legal Consultants\\nHass...</td>\n",
       "    </tr>\n",
       "    <tr>\n",
       "      <th>6</th>\n",
       "      <td>ALADALA LEGAL CONSULTANT</td>\n",
       "      <td>https://uaebusinessdirectory.com/aladala-legal...</td>\n",
       "      <td></td>\n",
       "      <td>43886</td>\n",
       "      <td></td>\n",
       "      <td>971 2 6265115</td>\n",
       "      <td>971 2 6269119</td>\n",
       "      <td></td>\n",
       "      <td>Law\\nAL ADALA LEGAL CONSULTANT\\nAl Mehairi Leg...</td>\n",
       "    </tr>\n",
       "    <tr>\n",
       "      <th>7</th>\n",
       "      <td>Allied Advocates&amp;Legal Consult</td>\n",
       "      <td>https://uaebusinessdirectory.com/allied-advoca...</td>\n",
       "      <td></td>\n",
       "      <td>31604</td>\n",
       "      <td></td>\n",
       "      <td>971 2 6272244</td>\n",
       "      <td>971 2 6270260</td>\n",
       "      <td></td>\n",
       "      <td>AL DHAHERI INTERNATIONAL Advocates &amp; Legal Con...</td>\n",
       "    </tr>\n",
       "    <tr>\n",
       "      <th>8</th>\n",
       "      <td>Allen &amp; Overy Legal Consultant</td>\n",
       "      <td>https://uaebusinessdirectory.com/allen-and-ove...</td>\n",
       "      <td></td>\n",
       "      <td>3251</td>\n",
       "      <td></td>\n",
       "      <td>971 4 3323190</td>\n",
       "      <td>971 4 3323192</td>\n",
       "      <td></td>\n",
       "      <td>Law\\nAllen Carr Easyway\\nSue Allen - Max Brooc...</td>\n",
       "    </tr>\n",
       "    <tr>\n",
       "      <th>9</th>\n",
       "      <td>Apex Juris Advocates&amp;Legal Con</td>\n",
       "      <td>https://uaebusinessdirectory.com/apex-juris-ad...</td>\n",
       "      <td></td>\n",
       "      <td>3858</td>\n",
       "      <td></td>\n",
       "      <td>971 4 2222314</td>\n",
       "      <td>971 4 2228147</td>\n",
       "      <td></td>\n",
       "      <td>APEX JURIS - ADVOCATES &amp; LEGAL CONSULTANTS\\nKh...</td>\n",
       "    </tr>\n",
       "    <tr>\n",
       "      <th>10</th>\n",
       "      <td>Attorneys Advocates&amp;Legal Cosu</td>\n",
       "      <td>https://uaebusinessdirectory.com/attorneys-adv...</td>\n",
       "      <td></td>\n",
       "      <td>20220</td>\n",
       "      <td></td>\n",
       "      <td>971 4 2228027</td>\n",
       "      <td>971 4 2225252</td>\n",
       "      <td></td>\n",
       "      <td>Al Sherooq Advocates &amp; Legal Consultants\\nKhai...</td>\n",
       "    </tr>\n",
       "    <tr>\n",
       "      <th>11</th>\n",
       "      <td>Clifford Chance Legal Consulta</td>\n",
       "      <td>https://uaebusinessdirectory.com/clifford-chan...</td>\n",
       "      <td></td>\n",
       "      <td>9380</td>\n",
       "      <td></td>\n",
       "      <td>971 4 3314333</td>\n",
       "      <td>971 4 3313990</td>\n",
       "      <td></td>\n",
       "      <td>Shehab Advocate&amp;Legal Consulta\\nAL DHAHERI INT...</td>\n",
       "    </tr>\n",
       "    <tr>\n",
       "      <th>12</th>\n",
       "      <td>Helene Mathieu Legal Consultan</td>\n",
       "      <td>https://uaebusinessdirectory.com/helene-mathie...</td>\n",
       "      <td></td>\n",
       "      <td>28845</td>\n",
       "      <td></td>\n",
       "      <td>971 4 3525303</td>\n",
       "      <td>971 4 3519877</td>\n",
       "      <td></td>\n",
       "      <td>HELENE MATHIEU LEGAL CONSULTANTS\\nAL DHAHERI I...</td>\n",
       "    </tr>\n",
       "    <tr>\n",
       "      <th>13</th>\n",
       "      <td>Al Ghuss Legal Consultants</td>\n",
       "      <td>https://uaebusinessdirectory.com/al-ghuss-lega...</td>\n",
       "      <td></td>\n",
       "      <td>4377</td>\n",
       "      <td></td>\n",
       "      <td>971 2 6225873</td>\n",
       "      <td>971 2 6221326</td>\n",
       "      <td></td>\n",
       "      <td>AL FAJER ADVOCATE &amp; LEGAL CONSULTANTS\\nAl Nass...</td>\n",
       "    </tr>\n",
       "    <tr>\n",
       "      <th>14</th>\n",
       "      <td>Al Kuttab Lawyers &amp; Legal</td>\n",
       "      <td>https://uaebusinessdirectory.com/al-kuttab-law...</td>\n",
       "      <td></td>\n",
       "      <td>27077</td>\n",
       "      <td></td>\n",
       "      <td>971 2 6314040</td>\n",
       "      <td>971 2 6211122</td>\n",
       "      <td></td>\n",
       "      <td>AL KUTTAB LAWYERS &amp; LEGAL CONSULTANTS\\nMTG - T...</td>\n",
       "    </tr>\n",
       "    <tr>\n",
       "      <th>15</th>\n",
       "      <td>Al Majid Legal Consultants Bur</td>\n",
       "      <td>https://uaebusinessdirectory.com/al-majid-lega...</td>\n",
       "      <td></td>\n",
       "      <td>46549</td>\n",
       "      <td></td>\n",
       "      <td>971 2 793888</td>\n",
       "      <td>971 2 725194</td>\n",
       "      <td></td>\n",
       "      <td>AL FAJER ADVOCATE &amp; LEGAL CONSULTANTS\\nAl Nass...</td>\n",
       "    </tr>\n",
       "    <tr>\n",
       "      <th>16</th>\n",
       "      <td>Al Refaei Advocacy&amp;Legal Consu</td>\n",
       "      <td>https://uaebusinessdirectory.com/al-refaei-adv...</td>\n",
       "      <td></td>\n",
       "      <td>5060</td>\n",
       "      <td></td>\n",
       "      <td>971 2 6270082</td>\n",
       "      <td>971 2 6270330</td>\n",
       "      <td></td>\n",
       "      <td>AL REFAEI ADVOCACY &amp; LEGAL CONSULTANTS\\nADVOCA...</td>\n",
       "    </tr>\n",
       "    <tr>\n",
       "      <th>17</th>\n",
       "      <td>Ziad Galdari&amp;Advocates&amp;Legal C</td>\n",
       "      <td>https://uaebusinessdirectory.com/ziad-galdaria...</td>\n",
       "      <td></td>\n",
       "      <td>47634</td>\n",
       "      <td></td>\n",
       "      <td>971 2 6774755</td>\n",
       "      <td>971 2 6775526</td>\n",
       "      <td></td>\n",
       "      <td>Khairallah Advocates &amp; Legal Consultants\\nBin ...</td>\n",
       "    </tr>\n",
       "    <tr>\n",
       "      <th>18</th>\n",
       "      <td>Ahmed Hashim Advocates&amp;Legal C</td>\n",
       "      <td>https://uaebusinessdirectory.com/ahmed-hashim-...</td>\n",
       "      <td></td>\n",
       "      <td>13525</td>\n",
       "      <td></td>\n",
       "      <td>971 4 2215823</td>\n",
       "      <td>971 4 2239236</td>\n",
       "      <td></td>\n",
       "      <td>AHMED HASHIM ADVOCATES &amp; LEGAL CONSULTANTS\\nKh...</td>\n",
       "    </tr>\n",
       "    <tr>\n",
       "      <th>19</th>\n",
       "      <td>Al mutawa Legal Svcs</td>\n",
       "      <td>https://uaebusinessdirectory.com/al-mutawa-leg...</td>\n",
       "      <td></td>\n",
       "      <td>7768</td>\n",
       "      <td></td>\n",
       "      <td>971 4 2663086</td>\n",
       "      <td>971 4 2665043</td>\n",
       "      <td></td>\n",
       "      <td>AL MUTAWA MARINE SVCS LLC\\nAL DHAHERI INTERNAT...</td>\n",
       "    </tr>\n",
       "  </tbody>\n",
       "</table>\n",
       "</div>"
      ],
      "text/plain": [
       "                                         Company Name  \\\n",
       "0          INTERNATIONAL AUDITING & CONSULTING CENTER   \n",
       "1   Al Tamimi & Company Advocates & Legal Consultants   \n",
       "2   Accord International Advocates & Legal consult...   \n",
       "3   Nasser Al Jaroodi Advocates and Legal Consultants   \n",
       "4   Hilal & Associates - Advocates & Legal Consult...   \n",
       "5                      Emirates Advocates And Legal C   \n",
       "6                            ALADALA LEGAL CONSULTANT   \n",
       "7                      Allied Advocates&Legal Consult   \n",
       "8                      Allen & Overy Legal Consultant   \n",
       "9                      Apex Juris Advocates&Legal Con   \n",
       "10                     Attorneys Advocates&Legal Cosu   \n",
       "11                     Clifford Chance Legal Consulta   \n",
       "12                     Helene Mathieu Legal Consultan   \n",
       "13                         Al Ghuss Legal Consultants   \n",
       "14                          Al Kuttab Lawyers & Legal   \n",
       "15                     Al Majid Legal Consultants Bur   \n",
       "16                     Al Refaei Advocacy&Legal Consu   \n",
       "17                     Ziad Galdari&Advocates&Legal C   \n",
       "18                     Ahmed Hashim Advocates&Legal C   \n",
       "19                               Al mutawa Legal Svcs   \n",
       "\n",
       "                                 Company Profile Link  \\\n",
       "0   https://uaebusinessdirectory.com/international...   \n",
       "1   https://uaebusinessdirectory.com/al-tamimi-and...   \n",
       "2   https://uaebusinessdirectory.com/accord-intern...   \n",
       "3   https://uaebusinessdirectory.com/nasser-al-jar...   \n",
       "4   https://uaebusinessdirectory.com/hilal-and-ass...   \n",
       "5   https://uaebusinessdirectory.com/emirates-advo...   \n",
       "6   https://uaebusinessdirectory.com/aladala-legal...   \n",
       "7   https://uaebusinessdirectory.com/allied-advoca...   \n",
       "8   https://uaebusinessdirectory.com/allen-and-ove...   \n",
       "9   https://uaebusinessdirectory.com/apex-juris-ad...   \n",
       "10  https://uaebusinessdirectory.com/attorneys-adv...   \n",
       "11  https://uaebusinessdirectory.com/clifford-chan...   \n",
       "12  https://uaebusinessdirectory.com/helene-mathie...   \n",
       "13  https://uaebusinessdirectory.com/al-ghuss-lega...   \n",
       "14  https://uaebusinessdirectory.com/al-kuttab-law...   \n",
       "15  https://uaebusinessdirectory.com/al-majid-lega...   \n",
       "16  https://uaebusinessdirectory.com/al-refaei-adv...   \n",
       "17  https://uaebusinessdirectory.com/ziad-galdaria...   \n",
       "18  https://uaebusinessdirectory.com/ahmed-hashim-...   \n",
       "19  https://uaebusinessdirectory.com/al-mutawa-leg...   \n",
       "\n",
       "                                       Street Address       Postalcode  \\\n",
       "0   501,Concord Hotel Office Tower, Maktoum str,De...  Po Box : 181127   \n",
       "1                                                         Po Box: 9275   \n",
       "2                                                       Po Box : 21331   \n",
       "3   Deira, Baniyas Square, Deira Tower, 2nd Floor,...         Po o5958   \n",
       "4                                                         Po Box: 7372   \n",
       "5                                                                 9055   \n",
       "6                                                                43886   \n",
       "7                                                                31604   \n",
       "8                                                                 3251   \n",
       "9                                                                 3858   \n",
       "10                                                               20220   \n",
       "11                                                                9380   \n",
       "12                                                               28845   \n",
       "13                                                                4377   \n",
       "14                                                               27077   \n",
       "15                                                               46549   \n",
       "16                                                                5060   \n",
       "17                                                               47634   \n",
       "18                                                               13525   \n",
       "19                                                                7768   \n",
       "\n",
       "          AddressCountry           Phone             Fax  \\\n",
       "0   United Arab Emirates  +971 4 2501522  +971 4 2501521   \n",
       "1   United Arab Emirates  +971 4 3641641  +971 4 3641777   \n",
       "2   United Arab Emirates  +971 4 3366080  +971 4 3377345   \n",
       "3   United Arab Emirates  +971 4 2274554  +971 4 2273730   \n",
       "4   United Arab Emirates  +971 4 2955388  +971 4 2955377   \n",
       "5                          971 4 3304343   971 4 3303993   \n",
       "6                          971 2 6265115   971 2 6269119   \n",
       "7                          971 2 6272244   971 2 6270260   \n",
       "8                          971 4 3323190   971 4 3323192   \n",
       "9                          971 4 2222314   971 4 2228147   \n",
       "10                         971 4 2228027   971 4 2225252   \n",
       "11                         971 4 3314333   971 4 3313990   \n",
       "12                         971 4 3525303   971 4 3519877   \n",
       "13                         971 2 6225873   971 2 6221326   \n",
       "14                         971 2 6314040   971 2 6211122   \n",
       "15                          971 2 793888    971 2 725194   \n",
       "16                         971 2 6270082   971 2 6270330   \n",
       "17                         971 2 6774755   971 2 6775526   \n",
       "18                         971 4 2215823   971 4 2239236   \n",
       "19                         971 4 2663086   971 4 2665043   \n",
       "\n",
       "                                Mail  \\\n",
       "0   Powered by Falcon Search com LLC   \n",
       "1                                      \n",
       "2                                      \n",
       "3                                      \n",
       "4                                      \n",
       "5                                      \n",
       "6                                      \n",
       "7                                      \n",
       "8                                      \n",
       "9                                      \n",
       "10                                     \n",
       "11                                     \n",
       "12                                     \n",
       "13                                     \n",
       "14                                     \n",
       "15                                     \n",
       "16                                     \n",
       "17                                     \n",
       "18                                     \n",
       "19                                     \n",
       "\n",
       "                                        ContactPerson  \n",
       "0                                       Hussain Ahmed  \n",
       "1                                                 NaN  \n",
       "2                                                 NaN  \n",
       "3                                                 NaN  \n",
       "4                                     Mr Saeed Shanty  \n",
       "5   Khairallah Advocates & Legal Consultants\\nHass...  \n",
       "6   Law\\nAL ADALA LEGAL CONSULTANT\\nAl Mehairi Leg...  \n",
       "7   AL DHAHERI INTERNATIONAL Advocates & Legal Con...  \n",
       "8   Law\\nAllen Carr Easyway\\nSue Allen - Max Brooc...  \n",
       "9   APEX JURIS - ADVOCATES & LEGAL CONSULTANTS\\nKh...  \n",
       "10  Al Sherooq Advocates & Legal Consultants\\nKhai...  \n",
       "11  Shehab Advocate&Legal Consulta\\nAL DHAHERI INT...  \n",
       "12  HELENE MATHIEU LEGAL CONSULTANTS\\nAL DHAHERI I...  \n",
       "13  AL FAJER ADVOCATE & LEGAL CONSULTANTS\\nAl Nass...  \n",
       "14  AL KUTTAB LAWYERS & LEGAL CONSULTANTS\\nMTG - T...  \n",
       "15  AL FAJER ADVOCATE & LEGAL CONSULTANTS\\nAl Nass...  \n",
       "16  AL REFAEI ADVOCACY & LEGAL CONSULTANTS\\nADVOCA...  \n",
       "17  Khairallah Advocates & Legal Consultants\\nBin ...  \n",
       "18  AHMED HASHIM ADVOCATES & LEGAL CONSULTANTS\\nKh...  \n",
       "19  AL MUTAWA MARINE SVCS LLC\\nAL DHAHERI INTERNAT...  "
      ]
     },
     "execution_count": 85,
     "metadata": {},
     "output_type": "execute_result"
    }
   ],
   "source": [
    "data1.head(20)"
   ]
  },
  {
   "cell_type": "code",
   "execution_count": 86,
   "id": "f35ee21e-3c26-4316-85fd-3770fcdac3df",
   "metadata": {},
   "outputs": [],
   "source": [
    "\n",
    "req = requests.get(data['Company Profile Link'][19])\n",
    "soup = bs(req.text, 'html.parser')"
   ]
  },
  {
   "cell_type": "code",
   "execution_count": 63,
   "id": "3b901456-e439-47b4-82f8-5adefa179b07",
   "metadata": {},
   "outputs": [
    {
     "data": {
      "text/plain": [
       "'https://uaebusinessdirectory.com/emirates-advocates-and-legal-c.html'"
      ]
     },
     "execution_count": 63,
     "metadata": {},
     "output_type": "execute_result"
    }
   ],
   "source": [
    "data['Company Profile Link'][5]"
   ]
  },
  {
   "cell_type": "code",
   "execution_count": 80,
   "id": "846992f6-4fd6-4b9c-9e04-efbb691bb4c5",
   "metadata": {},
   "outputs": [
    {
     "name": "stdout",
     "output_type": "stream",
     "text": [
      "info@iacdubai.ae\n"
     ]
    }
   ],
   "source": [
    "mail=[]\n",
    "b=soup.find('div',class_='col-md-6 col-sm-12 clearfix')\n",
    "\n",
    "if b.find_all('a'):\n",
    "    print((b.find_all('a')[-1]).text)\n",
    "else:\n",
    "    print('nan')\n",
    "#     mail.append((b.find_all('a')[-1]).text)\n",
    "# else:\n",
    "#     mail.append(\"\")\n"
   ]
  },
  {
   "cell_type": "code",
   "execution_count": 34,
   "id": "82036a37-3f83-414e-a147-e70babc3713c",
   "metadata": {},
   "outputs": [
    {
     "data": {
      "text/plain": [
       "'Hussain Ahmed'"
      ]
     },
     "execution_count": 34,
     "metadata": {},
     "output_type": "execute_result"
    }
   ],
   "source": [
    "c=soup.find('div',class_='col-md-4 col-sm-12')\n",
    "c.find('div',class_='panel-body').text.split(\":\")[-1].strip()"
   ]
  },
  {
   "cell_type": "code",
   "execution_count": 13,
   "id": "9113f0ed-4af3-4a70-8695-c771979195c3",
   "metadata": {},
   "outputs": [],
   "source": [
    "req = requests.get(data['Company Profile Link'][0])\n",
    "soup = bs(req.text, 'html.parser')\n",
    "# a=soup.find('div',class_='col-md-6 col-sm-12')"
   ]
  },
  {
   "cell_type": "code",
   "execution_count": 68,
   "id": "d9fe93fc-b899-456f-9ed3-a42a68c27621",
   "metadata": {
    "tags": []
   },
   "outputs": [],
   "source": [
    "a=soup.find('div',class_='col-md-4 col-sm-12')\n",
    "a.find('div',class_='panel-body').text.split(\":\")[-1].strip()"
   ]
  },
  {
   "cell_type": "code",
   "execution_count": 44,
   "id": "6e7428ed-d33e-4701-b382-7f9ebe1f3050",
   "metadata": {},
   "outputs": [
    {
     "data": {
      "text/plain": [
       "' '"
      ]
     },
     "execution_count": 44,
     "metadata": {},
     "output_type": "execute_result"
    }
   ],
   "source": [
    "b=soup.find('div',class_='col-md-6 col-sm-12 clearfix')\n",
    "if b.find_all('a'):\n",
    "    mail_id=(soup.find_all('a')[-1]).text\n",
    "else:\n",
    "     mail_id=\" \"\n",
    "mail_id"
   ]
  },
  {
   "cell_type": "markdown",
   "id": "bbe193c4-9556-4a6d-aeb3-d22d305b015d",
   "metadata": {},
   "source": [
    "# a=soup.find('div',class_='col-md-6 col-sm-12')\n",
    "a=soup.find_all('div',class_='panel panel-default')\n",
    "a\n"
   ]
  },
  {
   "cell_type": "code",
   "execution_count": 273,
   "id": "e0019022-c036-4b7a-b892-7425a6edccc8",
   "metadata": {},
   "outputs": [],
   "source": [
    "telephone = a.find('span', itemprop=\"telephone\").text\n",
    "faxNumber = a.find('span', itemprop=\"faxNumber\").text"
   ]
  },
  {
   "cell_type": "code",
   "execution_count": 274,
   "id": "b86fc6c5-fc72-4794-85d2-272c20034355",
   "metadata": {},
   "outputs": [
    {
     "data": {
      "text/plain": [
       "'+971 4 2501522'"
      ]
     },
     "execution_count": 274,
     "metadata": {},
     "output_type": "execute_result"
    }
   ],
   "source": [
    "telephone"
   ]
  },
  {
   "cell_type": "code",
   "execution_count": 298,
   "id": "fe9c5daa-349c-4977-b9d6-93fc51e45b71",
   "metadata": {
    "tags": []
   },
   "outputs": [
    {
     "data": {
      "text/plain": [
       "' '"
      ]
     },
     "execution_count": 298,
     "metadata": {},
     "output_type": "execute_result"
    }
   ],
   "source": [
    "ac"
   ]
  },
  {
   "cell_type": "code",
   "execution_count": null,
   "id": "766f115c-98e0-4f3e-982d-819185ff43b0",
   "metadata": {},
   "outputs": [],
   "source": []
  },
  {
   "cell_type": "code",
   "execution_count": 46,
   "id": "79482602-9fea-4caa-9a34-48788248996b",
   "metadata": {},
   "outputs": [
    {
     "data": {
      "text/plain": [
       "'\\n'"
      ]
     },
     "execution_count": 46,
     "metadata": {},
     "output_type": "execute_result"
    }
   ],
   "source": [
    "k"
   ]
  },
  {
   "cell_type": "code",
   "execution_count": 45,
   "id": "81ab2f55-4103-490f-8724-27fd90134a72",
   "metadata": {},
   "outputs": [],
   "source": [
    "url=\"https://business.mygulfcoastchamber.com/list/searchalpha/a\"\n",
    "request=requests.get(url)"
   ]
  },
  {
   "cell_type": "code",
   "execution_count": null,
   "id": "cb99b6b7-138d-4342-82b1-925013e94f2d",
   "metadata": {},
   "outputs": [],
   "source": []
  },
  {
   "cell_type": "code",
   "execution_count": 46,
   "id": "bdf068e0-e5d8-4698-b8ac-aa40a1cacaa3",
   "metadata": {},
   "outputs": [
    {
     "name": "stdout",
     "output_type": "stream",
     "text": [
      "https://business.mygulfcoastchamber.com/list/searchalpha/a\n"
     ]
    }
   ],
   "source": [
    "print(request.url)"
   ]
  },
  {
   "cell_type": "code",
   "execution_count": 47,
   "id": "cc2dd9a1-0da8-4537-9b7f-9a754cc77f91",
   "metadata": {},
   "outputs": [],
   "source": [
    "soup = bs(request.content, 'html.parser')"
   ]
  },
  {
   "cell_type": "code",
   "execution_count": 48,
   "id": "bf60c427-8cc1-4662-87a9-081d10711fb6",
   "metadata": {},
   "outputs": [],
   "source": [
    "site=[]\n",
    "name=[]"
   ]
  },
  {
   "cell_type": "code",
   "execution_count": 49,
   "id": "3deecadc-46c4-4fb0-9fb0-11429ce0f3d3",
   "metadata": {},
   "outputs": [],
   "source": [
    "a=soup.find('div',id='mn-members')\n",
    "for i in a.find_all('div',class_='mn-title'):\n",
    "    for j in i.find_all('a'):\n",
    "        site.append(j.get('href'))\n",
    "        name.append(j.text)"
   ]
  },
  {
   "cell_type": "code",
   "execution_count": 50,
   "id": "83827365-a07d-4671-948c-ed8ead6f7f2e",
   "metadata": {},
   "outputs": [
    {
     "data": {
      "text/plain": [
       "['Angel Hair Salon and Day Spa',\n",
       " 'AUSTAL USA',\n",
       " 'Alabama Charter Fishing Association dba Orange Beach Fishing Association',\n",
       " 'Alligator Alley',\n",
       " 'ATA Loss Consulting',\n",
       " 'Andy Andrews Wisdom Harbour Studios & General Store',\n",
       " 'Al-RV Parks LLC',\n",
       " 'Anonyme Cruises',\n",
       " 'Alpha Foundations',\n",
       " 'Alabama Gulf Coast Zoo',\n",
       " 'ACI Health Insurance Solutions',\n",
       " \"ACFA - Daddy's Baby\",\n",
       " 'Alabama Roofing Professionals ',\n",
       " 'ACFA - Red Eye',\n",
       " 'ACFA - Knot Working',\n",
       " 'Air One Heating and Cooling, LLC',\n",
       " 'Advanced Carpet Cleaning & Restoration',\n",
       " 'AP  Lawn Care Service',\n",
       " \"ACFA - Zeke's Lady\",\n",
       " 'Angry Crab Shack',\n",
       " 'Aronov DBA Martinique and SeaChase',\n",
       " 'Advanced Integrated Security',\n",
       " 'American Heart Association',\n",
       " 'ACFA - Miss E',\n",
       " 'Alabama Foundation Specialists',\n",
       " 'Adventure Island, Inc.',\n",
       " 'ACFA - Distraction',\n",
       " 'ACFA - Mojo',\n",
       " 'American Legion Gulf Shores Post 44',\n",
       " 'Alabama Small Business Development Center Network',\n",
       " 'ACFA - Sea Hunter',\n",
       " 'A+ Cleaning Services, LLC',\n",
       " 'ACFA - Chippers Clippers',\n",
       " 'ACFA - Shady Lady',\n",
       " 'AirMax AC Repair of Gulf Shores',\n",
       " 'Apex Contracting Services',\n",
       " 'Anchors Aweigh RV Resort',\n",
       " 'ACFA - Rip Tide',\n",
       " 'Avizo Group, Inc',\n",
       " \"Aaron's Lock Service\",\n",
       " 'Al.com Press Releases',\n",
       " 'American Flooring, Cabinet & Granite',\n",
       " 'Anne McCormick',\n",
       " 'Alabama Bureau of Tourism and Travel',\n",
       " 'ACFA - Getaway',\n",
       " 'Animal Medical Center',\n",
       " 'ACFA - Southwind',\n",
       " 'A Flower Box, LLC',\n",
       " 'ACFA - Fish On',\n",
       " 'Anthony Jones British Hair Design',\n",
       " 'American Red Cross - South Alabama Chapter',\n",
       " 'Alabama Dept of Revenue',\n",
       " 'Alabama Gulf Coast Reef & Restoration Foundation',\n",
       " 'ACFA - Sea Spray',\n",
       " 'ACFA - Summer Breeze',\n",
       " 'Alabama Propane Exhange, LLC',\n",
       " 'ACFA - Boll Weevil',\n",
       " 'ACFA - Ni-Cole',\n",
       " 'Another Broken Egg',\n",
       " 'Alabama Coast Eye Clinic',\n",
       " 'ACFA - Hooked UP',\n",
       " 'A Sweet Secret Bakery',\n",
       " 'ACFA - Fairwater II',\n",
       " 'Alabama Credit Union - OB',\n",
       " 'Alabama Glass Works',\n",
       " 'ACFA - Water Dog',\n",
       " 'ACFA - Jamie G',\n",
       " 'Acme Oyster House',\n",
       " \"AL's Liquor Tobacco Wine\",\n",
       " 'ACFA - Class Act',\n",
       " 'Anchor Air LLC',\n",
       " 'ACFA - Outcast',\n",
       " 'A Specialty Bakery & Party Shoppe LLC',\n",
       " 'Alabama Gulf Coast Music Hall',\n",
       " 'Ariss Financial Group',\n",
       " 'ACFA - Reel Adiction',\n",
       " 'Alabama Lifestyles Expo',\n",
       " 'ADT Security Services',\n",
       " 'Avalon Promotions, LLC',\n",
       " 'Alabama Credit Union - GS',\n",
       " 'ACFA - Summer Breeze',\n",
       " 'Alabama Public Radio/WHIL',\n",
       " 'ACFA - William Jenkins',\n",
       " 'Advance Travel & Tourism']"
      ]
     },
     "execution_count": 50,
     "metadata": {},
     "output_type": "execute_result"
    }
   ],
   "source": [
    "name"
   ]
  },
  {
   "cell_type": "code",
   "execution_count": 51,
   "id": "118a6aaf-5a68-465c-bed5-974487e96863",
   "metadata": {},
   "outputs": [],
   "source": [
    "import pandas as pd\n",
    "df = pd.DataFrame({'Company Name':name,'Company Profile Link':site}) \n",
    "df.to_csv('canada.csv',index=False)"
   ]
  },
  {
   "cell_type": "code",
   "execution_count": 52,
   "id": "404ceb65-872d-4a7d-9832-e1f28692a023",
   "metadata": {},
   "outputs": [],
   "source": [
    "data3=pd.read_csv('canada.csv')"
   ]
  },
  {
   "cell_type": "code",
   "execution_count": 53,
   "id": "d5f333f6-a4ba-4771-a274-b6ab167fb6fe",
   "metadata": {},
   "outputs": [
    {
     "data": {
      "text/html": [
       "<div>\n",
       "<style scoped>\n",
       "    .dataframe tbody tr th:only-of-type {\n",
       "        vertical-align: middle;\n",
       "    }\n",
       "\n",
       "    .dataframe tbody tr th {\n",
       "        vertical-align: top;\n",
       "    }\n",
       "\n",
       "    .dataframe thead th {\n",
       "        text-align: right;\n",
       "    }\n",
       "</style>\n",
       "<table border=\"1\" class=\"dataframe\">\n",
       "  <thead>\n",
       "    <tr style=\"text-align: right;\">\n",
       "      <th></th>\n",
       "      <th>Company Name</th>\n",
       "      <th>Company Profile Link</th>\n",
       "    </tr>\n",
       "  </thead>\n",
       "  <tbody>\n",
       "    <tr>\n",
       "      <th>0</th>\n",
       "      <td>Angel Hair Salon and Day Spa</td>\n",
       "      <td>https://business.mygulfcoastchamber.com/list/m...</td>\n",
       "    </tr>\n",
       "    <tr>\n",
       "      <th>1</th>\n",
       "      <td>AUSTAL USA</td>\n",
       "      <td>https://business.mygulfcoastchamber.com/list/m...</td>\n",
       "    </tr>\n",
       "    <tr>\n",
       "      <th>2</th>\n",
       "      <td>Alabama Charter Fishing Association dba Orange...</td>\n",
       "      <td>https://business.mygulfcoastchamber.com/list/m...</td>\n",
       "    </tr>\n",
       "    <tr>\n",
       "      <th>3</th>\n",
       "      <td>Alligator Alley</td>\n",
       "      <td>https://business.mygulfcoastchamber.com/list/m...</td>\n",
       "    </tr>\n",
       "    <tr>\n",
       "      <th>4</th>\n",
       "      <td>ATA Loss Consulting</td>\n",
       "      <td>https://business.mygulfcoastchamber.com/list/m...</td>\n",
       "    </tr>\n",
       "    <tr>\n",
       "      <th>...</th>\n",
       "      <td>...</td>\n",
       "      <td>...</td>\n",
       "    </tr>\n",
       "    <tr>\n",
       "      <th>79</th>\n",
       "      <td>Alabama Credit Union - GS</td>\n",
       "      <td>https://business.mygulfcoastchamber.com/list/m...</td>\n",
       "    </tr>\n",
       "    <tr>\n",
       "      <th>80</th>\n",
       "      <td>ACFA - Summer Breeze</td>\n",
       "      <td>https://business.mygulfcoastchamber.com/list/m...</td>\n",
       "    </tr>\n",
       "    <tr>\n",
       "      <th>81</th>\n",
       "      <td>Alabama Public Radio/WHIL</td>\n",
       "      <td>https://business.mygulfcoastchamber.com/list/m...</td>\n",
       "    </tr>\n",
       "    <tr>\n",
       "      <th>82</th>\n",
       "      <td>ACFA - William Jenkins</td>\n",
       "      <td>https://business.mygulfcoastchamber.com/list/m...</td>\n",
       "    </tr>\n",
       "    <tr>\n",
       "      <th>83</th>\n",
       "      <td>Advance Travel &amp; Tourism</td>\n",
       "      <td>https://business.mygulfcoastchamber.com/list/m...</td>\n",
       "    </tr>\n",
       "  </tbody>\n",
       "</table>\n",
       "<p>84 rows × 2 columns</p>\n",
       "</div>"
      ],
      "text/plain": [
       "                                         Company Name  \\\n",
       "0                        Angel Hair Salon and Day Spa   \n",
       "1                                          AUSTAL USA   \n",
       "2   Alabama Charter Fishing Association dba Orange...   \n",
       "3                                     Alligator Alley   \n",
       "4                                 ATA Loss Consulting   \n",
       "..                                                ...   \n",
       "79                          Alabama Credit Union - GS   \n",
       "80                               ACFA - Summer Breeze   \n",
       "81                          Alabama Public Radio/WHIL   \n",
       "82                             ACFA - William Jenkins   \n",
       "83                           Advance Travel & Tourism   \n",
       "\n",
       "                                 Company Profile Link  \n",
       "0   https://business.mygulfcoastchamber.com/list/m...  \n",
       "1   https://business.mygulfcoastchamber.com/list/m...  \n",
       "2   https://business.mygulfcoastchamber.com/list/m...  \n",
       "3   https://business.mygulfcoastchamber.com/list/m...  \n",
       "4   https://business.mygulfcoastchamber.com/list/m...  \n",
       "..                                                ...  \n",
       "79  https://business.mygulfcoastchamber.com/list/m...  \n",
       "80  https://business.mygulfcoastchamber.com/list/m...  \n",
       "81  https://business.mygulfcoastchamber.com/list/m...  \n",
       "82  https://business.mygulfcoastchamber.com/list/m...  \n",
       "83  https://business.mygulfcoastchamber.com/list/m...  \n",
       "\n",
       "[84 rows x 2 columns]"
      ]
     },
     "execution_count": 53,
     "metadata": {},
     "output_type": "execute_result"
    }
   ],
   "source": [
    "data3"
   ]
  },
  {
   "cell_type": "code",
   "execution_count": 54,
   "id": "81f5ad24-1a4e-425f-b08e-5e3ff9efaa54",
   "metadata": {},
   "outputs": [
    {
     "data": {
      "text/plain": [
       "'https://business.mygulfcoastchamber.com/list/member/advance-travel-tourism-8720'"
      ]
     },
     "execution_count": 54,
     "metadata": {},
     "output_type": "execute_result"
    }
   ],
   "source": [
    "u=data3['Company Profile Link'][83]\n",
    "u"
   ]
  },
  {
   "cell_type": "code",
   "execution_count": 55,
   "id": "bc536452-f4d1-4af1-bc3a-54d94f932139",
   "metadata": {},
   "outputs": [
    {
     "ename": "IndexError",
     "evalue": "list index out of range",
     "output_type": "error",
     "traceback": [
      "\u001b[1;31m---------------------------------------------------------------------------\u001b[0m",
      "\u001b[1;31mIndexError\u001b[0m                                Traceback (most recent call last)",
      "Input \u001b[1;32mIn [55]\u001b[0m, in \u001b[0;36m<cell line: 9>\u001b[1;34m()\u001b[0m\n\u001b[0;32m     36\u001b[0m     postalco\u001b[38;5;241m.\u001b[39mappend(\u001b[38;5;124m\"\u001b[39m\u001b[38;5;124m \u001b[39m\u001b[38;5;124m\"\u001b[39m)\n\u001b[0;32m     38\u001b[0m name\u001b[38;5;241m.\u001b[39mappend((soup\u001b[38;5;241m.\u001b[39mtitle\u001b[38;5;241m.\u001b[39mtext)\u001b[38;5;241m.\u001b[39msplit(\u001b[38;5;124m'\u001b[39m\u001b[38;5;124m|\u001b[39m\u001b[38;5;124m'\u001b[39m)[\u001b[38;5;241m0\u001b[39m]\u001b[38;5;241m.\u001b[39mstrip())\n\u001b[1;32m---> 39\u001b[0m cats\u001b[38;5;241m.\u001b[39mappend(\u001b[43m(\u001b[49m\u001b[43msoup\u001b[49m\u001b[38;5;241;43m.\u001b[39;49m\u001b[43mtitle\u001b[49m\u001b[38;5;241;43m.\u001b[39;49m\u001b[43mtext\u001b[49m\u001b[43m)\u001b[49m\u001b[38;5;241;43m.\u001b[39;49m\u001b[43msplit\u001b[49m\u001b[43m(\u001b[49m\u001b[38;5;124;43m'\u001b[39;49m\u001b[38;5;124;43m|\u001b[39;49m\u001b[38;5;124;43m'\u001b[39;49m\u001b[43m)\u001b[49m\u001b[43m[\u001b[49m\u001b[38;5;241;43m1\u001b[39;49m\u001b[43m]\u001b[49m\u001b[38;5;241m.\u001b[39mstrip())\n",
      "\u001b[1;31mIndexError\u001b[0m: list index out of range"
     ]
    }
   ],
   "source": [
    "phone=[]\n",
    "Addresslo=[]\n",
    "addressRg=[]\n",
    "stadd=[]\n",
    "postalco=[]\n",
    "name=[]\n",
    "cats=[]\n",
    "\n",
    "for links in data3['Company Profile Link']:\n",
    "   \n",
    "    req = requests.get(links,time)\n",
    "    soup = bs(req.content, 'html5lib')\n",
    "    \n",
    "    \n",
    "    a=soup.find('div',class_='mn-member-sidebar')\n",
    "\n",
    "    if a.find('div', class_=\"mn-member-phone1\"):\n",
    "        phone.append(a.find('div', class_=\"mn-member-phone1\").text)\n",
    "    else:\n",
    "        phone.append(\" \") \n",
    "    if a.find('div',class_='mn-address1'):\n",
    "        stadd.append(a.find('div',class_='mn-address1').text)\n",
    "    else:\n",
    "        stadd.append(\" \") \n",
    "    if a.find('div', class_=\"mn-cityspan\"):\n",
    "        addressRg.append(a.find('div', class_=\"mn-cityspan\").text)\n",
    "    else:\n",
    "        addressRg.append(\" \")\n",
    "    if a.find('div', class_=\"mn-stspan\"):\n",
    "        addressRg.append(a.find('div', class_=\"mn-stspan\").text)\n",
    "    else:\n",
    "        addressRg.append(\" \")\n",
    "    if a.find('div', class_=\"mn-zipspan\"):\n",
    "        postalco.append(a.find('div', class_=\"mn-zipspan\").text)\n",
    "    else:\n",
    "        postalco.append(\" \")\n",
    "    \n",
    "    name.append((soup.title.text).split('|')[0].strip())\n",
    "    cats.append((soup.title.text).split('|')[1].strip())\n",
    "    \n"
   ]
  },
  {
   "cell_type": "code",
   "execution_count": null,
   "id": "3896fc97-0436-48f8-8117-490268c079dd",
   "metadata": {},
   "outputs": [],
   "source": [
    "df = pd.DataFrame({\n",
    "'Company Name':name,\n",
    "'Street Address':stadd,\n",
    "'Address Locality':Addresslo,\n",
    "'Postal Code':postalco,\n",
    "'Address Country':addressRg,\n",
    "'Phone':phone,\n",
    "'Business Catergory':cats\n",
    "})\n",
    "df.to_csv('Canada_Data.csv',index=False)"
   ]
  },
  {
   "cell_type": "code",
   "execution_count": 116,
   "id": "9e22078a-8739-4638-be0a-9a2e37253198",
   "metadata": {},
   "outputs": [
    {
     "data": {
      "text/plain": [
       "0     https://business.mygulfcoastchamber.com/list/m...\n",
       "1     https://business.mygulfcoastchamber.com/list/m...\n",
       "2     https://business.mygulfcoastchamber.com/list/m...\n",
       "3     https://business.mygulfcoastchamber.com/list/m...\n",
       "4     https://business.mygulfcoastchamber.com/list/m...\n",
       "                            ...                        \n",
       "79    https://business.mygulfcoastchamber.com/list/m...\n",
       "80    https://business.mygulfcoastchamber.com/list/m...\n",
       "81    https://business.mygulfcoastchamber.com/list/m...\n",
       "82    https://business.mygulfcoastchamber.com/list/m...\n",
       "83    https://business.mygulfcoastchamber.com/list/m...\n",
       "Name: Company Profile Link, Length: 84, dtype: object"
      ]
     },
     "execution_count": 116,
     "metadata": {},
     "output_type": "execute_result"
    }
   ],
   "source": [
    "data3['Company Profile Link']\n"
   ]
  },
  {
   "cell_type": "code",
   "execution_count": 85,
   "id": "9b6d7399-c913-4d69-b927-7bc581b37513",
   "metadata": {},
   "outputs": [
    {
     "ename": "ConnectionError",
     "evalue": "HTTPSConnectionPool(host='business.mygulfcoastchamber.com', port=443): Max retries exceeded with url: /list/member/austal-usa-8411 (Caused by NewConnectionError('<urllib3.connection.HTTPSConnection object at 0x000001A1E02DB730>: Failed to establish a new connection: [WinError 10060] A connection attempt failed because the connected party did not properly respond after a period of time, or established connection failed because connected host has failed to respond'))",
     "output_type": "error",
     "traceback": [
      "\u001b[1;31m---------------------------------------------------------------------------\u001b[0m",
      "\u001b[1;31mTimeoutError\u001b[0m                              Traceback (most recent call last)",
      "File \u001b[1;32m~\\AppData\\Roaming\\Python\\Python39\\site-packages\\urllib3\\connection.py:174\u001b[0m, in \u001b[0;36mHTTPConnection._new_conn\u001b[1;34m(self)\u001b[0m\n\u001b[0;32m    173\u001b[0m \u001b[38;5;28;01mtry\u001b[39;00m:\n\u001b[1;32m--> 174\u001b[0m     conn \u001b[38;5;241m=\u001b[39m connection\u001b[38;5;241m.\u001b[39mcreate_connection(\n\u001b[0;32m    175\u001b[0m         (\u001b[38;5;28mself\u001b[39m\u001b[38;5;241m.\u001b[39m_dns_host, \u001b[38;5;28mself\u001b[39m\u001b[38;5;241m.\u001b[39mport), \u001b[38;5;28mself\u001b[39m\u001b[38;5;241m.\u001b[39mtimeout, \u001b[38;5;241m*\u001b[39m\u001b[38;5;241m*\u001b[39mextra_kw\n\u001b[0;32m    176\u001b[0m     )\n\u001b[0;32m    178\u001b[0m \u001b[38;5;28;01mexcept\u001b[39;00m SocketTimeout:\n",
      "File \u001b[1;32m~\\AppData\\Roaming\\Python\\Python39\\site-packages\\urllib3\\util\\connection.py:95\u001b[0m, in \u001b[0;36mcreate_connection\u001b[1;34m(address, timeout, source_address, socket_options)\u001b[0m\n\u001b[0;32m     94\u001b[0m \u001b[38;5;28;01mif\u001b[39;00m err \u001b[38;5;129;01mis\u001b[39;00m \u001b[38;5;129;01mnot\u001b[39;00m \u001b[38;5;28;01mNone\u001b[39;00m:\n\u001b[1;32m---> 95\u001b[0m     \u001b[38;5;28;01mraise\u001b[39;00m err\n\u001b[0;32m     97\u001b[0m \u001b[38;5;28;01mraise\u001b[39;00m socket\u001b[38;5;241m.\u001b[39merror(\u001b[38;5;124m\"\u001b[39m\u001b[38;5;124mgetaddrinfo returns an empty list\u001b[39m\u001b[38;5;124m\"\u001b[39m)\n",
      "File \u001b[1;32m~\\AppData\\Roaming\\Python\\Python39\\site-packages\\urllib3\\util\\connection.py:85\u001b[0m, in \u001b[0;36mcreate_connection\u001b[1;34m(address, timeout, source_address, socket_options)\u001b[0m\n\u001b[0;32m     84\u001b[0m     sock\u001b[38;5;241m.\u001b[39mbind(source_address)\n\u001b[1;32m---> 85\u001b[0m \u001b[43msock\u001b[49m\u001b[38;5;241;43m.\u001b[39;49m\u001b[43mconnect\u001b[49m\u001b[43m(\u001b[49m\u001b[43msa\u001b[49m\u001b[43m)\u001b[49m\n\u001b[0;32m     86\u001b[0m \u001b[38;5;28;01mreturn\u001b[39;00m sock\n",
      "\u001b[1;31mTimeoutError\u001b[0m: [WinError 10060] A connection attempt failed because the connected party did not properly respond after a period of time, or established connection failed because connected host has failed to respond",
      "\nDuring handling of the above exception, another exception occurred:\n",
      "\u001b[1;31mNewConnectionError\u001b[0m                        Traceback (most recent call last)",
      "File \u001b[1;32m~\\AppData\\Roaming\\Python\\Python39\\site-packages\\urllib3\\connectionpool.py:703\u001b[0m, in \u001b[0;36mHTTPConnectionPool.urlopen\u001b[1;34m(self, method, url, body, headers, retries, redirect, assert_same_host, timeout, pool_timeout, release_conn, chunked, body_pos, **response_kw)\u001b[0m\n\u001b[0;32m    702\u001b[0m \u001b[38;5;66;03m# Make the request on the httplib connection object.\u001b[39;00m\n\u001b[1;32m--> 703\u001b[0m httplib_response \u001b[38;5;241m=\u001b[39m \u001b[38;5;28;43mself\u001b[39;49m\u001b[38;5;241;43m.\u001b[39;49m\u001b[43m_make_request\u001b[49m\u001b[43m(\u001b[49m\n\u001b[0;32m    704\u001b[0m \u001b[43m    \u001b[49m\u001b[43mconn\u001b[49m\u001b[43m,\u001b[49m\n\u001b[0;32m    705\u001b[0m \u001b[43m    \u001b[49m\u001b[43mmethod\u001b[49m\u001b[43m,\u001b[49m\n\u001b[0;32m    706\u001b[0m \u001b[43m    \u001b[49m\u001b[43murl\u001b[49m\u001b[43m,\u001b[49m\n\u001b[0;32m    707\u001b[0m \u001b[43m    \u001b[49m\u001b[43mtimeout\u001b[49m\u001b[38;5;241;43m=\u001b[39;49m\u001b[43mtimeout_obj\u001b[49m\u001b[43m,\u001b[49m\n\u001b[0;32m    708\u001b[0m \u001b[43m    \u001b[49m\u001b[43mbody\u001b[49m\u001b[38;5;241;43m=\u001b[39;49m\u001b[43mbody\u001b[49m\u001b[43m,\u001b[49m\n\u001b[0;32m    709\u001b[0m \u001b[43m    \u001b[49m\u001b[43mheaders\u001b[49m\u001b[38;5;241;43m=\u001b[39;49m\u001b[43mheaders\u001b[49m\u001b[43m,\u001b[49m\n\u001b[0;32m    710\u001b[0m \u001b[43m    \u001b[49m\u001b[43mchunked\u001b[49m\u001b[38;5;241;43m=\u001b[39;49m\u001b[43mchunked\u001b[49m\u001b[43m,\u001b[49m\n\u001b[0;32m    711\u001b[0m \u001b[43m\u001b[49m\u001b[43m)\u001b[49m\n\u001b[0;32m    713\u001b[0m \u001b[38;5;66;03m# If we're going to release the connection in ``finally:``, then\u001b[39;00m\n\u001b[0;32m    714\u001b[0m \u001b[38;5;66;03m# the response doesn't need to know about the connection. Otherwise\u001b[39;00m\n\u001b[0;32m    715\u001b[0m \u001b[38;5;66;03m# it will also try to release it and we'll have a double-release\u001b[39;00m\n\u001b[0;32m    716\u001b[0m \u001b[38;5;66;03m# mess.\u001b[39;00m\n",
      "File \u001b[1;32m~\\AppData\\Roaming\\Python\\Python39\\site-packages\\urllib3\\connectionpool.py:386\u001b[0m, in \u001b[0;36mHTTPConnectionPool._make_request\u001b[1;34m(self, conn, method, url, timeout, chunked, **httplib_request_kw)\u001b[0m\n\u001b[0;32m    385\u001b[0m \u001b[38;5;28;01mtry\u001b[39;00m:\n\u001b[1;32m--> 386\u001b[0m     \u001b[38;5;28;43mself\u001b[39;49m\u001b[38;5;241;43m.\u001b[39;49m\u001b[43m_validate_conn\u001b[49m\u001b[43m(\u001b[49m\u001b[43mconn\u001b[49m\u001b[43m)\u001b[49m\n\u001b[0;32m    387\u001b[0m \u001b[38;5;28;01mexcept\u001b[39;00m (SocketTimeout, BaseSSLError) \u001b[38;5;28;01mas\u001b[39;00m e:\n\u001b[0;32m    388\u001b[0m     \u001b[38;5;66;03m# Py2 raises this as a BaseSSLError, Py3 raises it as socket timeout.\u001b[39;00m\n",
      "File \u001b[1;32m~\\AppData\\Roaming\\Python\\Python39\\site-packages\\urllib3\\connectionpool.py:1042\u001b[0m, in \u001b[0;36mHTTPSConnectionPool._validate_conn\u001b[1;34m(self, conn)\u001b[0m\n\u001b[0;32m   1041\u001b[0m \u001b[38;5;28;01mif\u001b[39;00m \u001b[38;5;129;01mnot\u001b[39;00m \u001b[38;5;28mgetattr\u001b[39m(conn, \u001b[38;5;124m\"\u001b[39m\u001b[38;5;124msock\u001b[39m\u001b[38;5;124m\"\u001b[39m, \u001b[38;5;28;01mNone\u001b[39;00m):  \u001b[38;5;66;03m# AppEngine might not have  `.sock`\u001b[39;00m\n\u001b[1;32m-> 1042\u001b[0m     \u001b[43mconn\u001b[49m\u001b[38;5;241;43m.\u001b[39;49m\u001b[43mconnect\u001b[49m\u001b[43m(\u001b[49m\u001b[43m)\u001b[49m\n\u001b[0;32m   1044\u001b[0m \u001b[38;5;28;01mif\u001b[39;00m \u001b[38;5;129;01mnot\u001b[39;00m conn\u001b[38;5;241m.\u001b[39mis_verified:\n",
      "File \u001b[1;32m~\\AppData\\Roaming\\Python\\Python39\\site-packages\\urllib3\\connection.py:358\u001b[0m, in \u001b[0;36mHTTPSConnection.connect\u001b[1;34m(self)\u001b[0m\n\u001b[0;32m    356\u001b[0m \u001b[38;5;28;01mdef\u001b[39;00m \u001b[38;5;21mconnect\u001b[39m(\u001b[38;5;28mself\u001b[39m):\n\u001b[0;32m    357\u001b[0m     \u001b[38;5;66;03m# Add certificate verification\u001b[39;00m\n\u001b[1;32m--> 358\u001b[0m     \u001b[38;5;28mself\u001b[39m\u001b[38;5;241m.\u001b[39msock \u001b[38;5;241m=\u001b[39m conn \u001b[38;5;241m=\u001b[39m \u001b[38;5;28;43mself\u001b[39;49m\u001b[38;5;241;43m.\u001b[39;49m\u001b[43m_new_conn\u001b[49m\u001b[43m(\u001b[49m\u001b[43m)\u001b[49m\n\u001b[0;32m    359\u001b[0m     hostname \u001b[38;5;241m=\u001b[39m \u001b[38;5;28mself\u001b[39m\u001b[38;5;241m.\u001b[39mhost\n",
      "File \u001b[1;32m~\\AppData\\Roaming\\Python\\Python39\\site-packages\\urllib3\\connection.py:186\u001b[0m, in \u001b[0;36mHTTPConnection._new_conn\u001b[1;34m(self)\u001b[0m\n\u001b[0;32m    185\u001b[0m \u001b[38;5;28;01mexcept\u001b[39;00m SocketError \u001b[38;5;28;01mas\u001b[39;00m e:\n\u001b[1;32m--> 186\u001b[0m     \u001b[38;5;28;01mraise\u001b[39;00m NewConnectionError(\n\u001b[0;32m    187\u001b[0m         \u001b[38;5;28mself\u001b[39m, \u001b[38;5;124m\"\u001b[39m\u001b[38;5;124mFailed to establish a new connection: \u001b[39m\u001b[38;5;132;01m%s\u001b[39;00m\u001b[38;5;124m\"\u001b[39m \u001b[38;5;241m%\u001b[39m e\n\u001b[0;32m    188\u001b[0m     )\n\u001b[0;32m    190\u001b[0m \u001b[38;5;28;01mreturn\u001b[39;00m conn\n",
      "\u001b[1;31mNewConnectionError\u001b[0m: <urllib3.connection.HTTPSConnection object at 0x000001A1E02DB730>: Failed to establish a new connection: [WinError 10060] A connection attempt failed because the connected party did not properly respond after a period of time, or established connection failed because connected host has failed to respond",
      "\nDuring handling of the above exception, another exception occurred:\n",
      "\u001b[1;31mMaxRetryError\u001b[0m                             Traceback (most recent call last)",
      "File \u001b[1;32m~\\AppData\\Roaming\\Python\\Python39\\site-packages\\requests\\adapters.py:489\u001b[0m, in \u001b[0;36mHTTPAdapter.send\u001b[1;34m(self, request, stream, timeout, verify, cert, proxies)\u001b[0m\n\u001b[0;32m    488\u001b[0m \u001b[38;5;28;01mif\u001b[39;00m \u001b[38;5;129;01mnot\u001b[39;00m chunked:\n\u001b[1;32m--> 489\u001b[0m     resp \u001b[38;5;241m=\u001b[39m \u001b[43mconn\u001b[49m\u001b[38;5;241;43m.\u001b[39;49m\u001b[43murlopen\u001b[49m\u001b[43m(\u001b[49m\n\u001b[0;32m    490\u001b[0m \u001b[43m        \u001b[49m\u001b[43mmethod\u001b[49m\u001b[38;5;241;43m=\u001b[39;49m\u001b[43mrequest\u001b[49m\u001b[38;5;241;43m.\u001b[39;49m\u001b[43mmethod\u001b[49m\u001b[43m,\u001b[49m\n\u001b[0;32m    491\u001b[0m \u001b[43m        \u001b[49m\u001b[43murl\u001b[49m\u001b[38;5;241;43m=\u001b[39;49m\u001b[43murl\u001b[49m\u001b[43m,\u001b[49m\n\u001b[0;32m    492\u001b[0m \u001b[43m        \u001b[49m\u001b[43mbody\u001b[49m\u001b[38;5;241;43m=\u001b[39;49m\u001b[43mrequest\u001b[49m\u001b[38;5;241;43m.\u001b[39;49m\u001b[43mbody\u001b[49m\u001b[43m,\u001b[49m\n\u001b[0;32m    493\u001b[0m \u001b[43m        \u001b[49m\u001b[43mheaders\u001b[49m\u001b[38;5;241;43m=\u001b[39;49m\u001b[43mrequest\u001b[49m\u001b[38;5;241;43m.\u001b[39;49m\u001b[43mheaders\u001b[49m\u001b[43m,\u001b[49m\n\u001b[0;32m    494\u001b[0m \u001b[43m        \u001b[49m\u001b[43mredirect\u001b[49m\u001b[38;5;241;43m=\u001b[39;49m\u001b[38;5;28;43;01mFalse\u001b[39;49;00m\u001b[43m,\u001b[49m\n\u001b[0;32m    495\u001b[0m \u001b[43m        \u001b[49m\u001b[43massert_same_host\u001b[49m\u001b[38;5;241;43m=\u001b[39;49m\u001b[38;5;28;43;01mFalse\u001b[39;49;00m\u001b[43m,\u001b[49m\n\u001b[0;32m    496\u001b[0m \u001b[43m        \u001b[49m\u001b[43mpreload_content\u001b[49m\u001b[38;5;241;43m=\u001b[39;49m\u001b[38;5;28;43;01mFalse\u001b[39;49;00m\u001b[43m,\u001b[49m\n\u001b[0;32m    497\u001b[0m \u001b[43m        \u001b[49m\u001b[43mdecode_content\u001b[49m\u001b[38;5;241;43m=\u001b[39;49m\u001b[38;5;28;43;01mFalse\u001b[39;49;00m\u001b[43m,\u001b[49m\n\u001b[0;32m    498\u001b[0m \u001b[43m        \u001b[49m\u001b[43mretries\u001b[49m\u001b[38;5;241;43m=\u001b[39;49m\u001b[38;5;28;43mself\u001b[39;49m\u001b[38;5;241;43m.\u001b[39;49m\u001b[43mmax_retries\u001b[49m\u001b[43m,\u001b[49m\n\u001b[0;32m    499\u001b[0m \u001b[43m        \u001b[49m\u001b[43mtimeout\u001b[49m\u001b[38;5;241;43m=\u001b[39;49m\u001b[43mtimeout\u001b[49m\u001b[43m,\u001b[49m\n\u001b[0;32m    500\u001b[0m \u001b[43m    \u001b[49m\u001b[43m)\u001b[49m\n\u001b[0;32m    502\u001b[0m \u001b[38;5;66;03m# Send the request.\u001b[39;00m\n\u001b[0;32m    503\u001b[0m \u001b[38;5;28;01melse\u001b[39;00m:\n",
      "File \u001b[1;32m~\\AppData\\Roaming\\Python\\Python39\\site-packages\\urllib3\\connectionpool.py:787\u001b[0m, in \u001b[0;36mHTTPConnectionPool.urlopen\u001b[1;34m(self, method, url, body, headers, retries, redirect, assert_same_host, timeout, pool_timeout, release_conn, chunked, body_pos, **response_kw)\u001b[0m\n\u001b[0;32m    785\u001b[0m     e \u001b[38;5;241m=\u001b[39m ProtocolError(\u001b[38;5;124m\"\u001b[39m\u001b[38;5;124mConnection aborted.\u001b[39m\u001b[38;5;124m\"\u001b[39m, e)\n\u001b[1;32m--> 787\u001b[0m retries \u001b[38;5;241m=\u001b[39m \u001b[43mretries\u001b[49m\u001b[38;5;241;43m.\u001b[39;49m\u001b[43mincrement\u001b[49m\u001b[43m(\u001b[49m\n\u001b[0;32m    788\u001b[0m \u001b[43m    \u001b[49m\u001b[43mmethod\u001b[49m\u001b[43m,\u001b[49m\u001b[43m \u001b[49m\u001b[43murl\u001b[49m\u001b[43m,\u001b[49m\u001b[43m \u001b[49m\u001b[43merror\u001b[49m\u001b[38;5;241;43m=\u001b[39;49m\u001b[43me\u001b[49m\u001b[43m,\u001b[49m\u001b[43m \u001b[49m\u001b[43m_pool\u001b[49m\u001b[38;5;241;43m=\u001b[39;49m\u001b[38;5;28;43mself\u001b[39;49m\u001b[43m,\u001b[49m\u001b[43m \u001b[49m\u001b[43m_stacktrace\u001b[49m\u001b[38;5;241;43m=\u001b[39;49m\u001b[43msys\u001b[49m\u001b[38;5;241;43m.\u001b[39;49m\u001b[43mexc_info\u001b[49m\u001b[43m(\u001b[49m\u001b[43m)\u001b[49m\u001b[43m[\u001b[49m\u001b[38;5;241;43m2\u001b[39;49m\u001b[43m]\u001b[49m\n\u001b[0;32m    789\u001b[0m \u001b[43m\u001b[49m\u001b[43m)\u001b[49m\n\u001b[0;32m    790\u001b[0m retries\u001b[38;5;241m.\u001b[39msleep()\n",
      "File \u001b[1;32m~\\AppData\\Roaming\\Python\\Python39\\site-packages\\urllib3\\util\\retry.py:592\u001b[0m, in \u001b[0;36mRetry.increment\u001b[1;34m(self, method, url, response, error, _pool, _stacktrace)\u001b[0m\n\u001b[0;32m    591\u001b[0m \u001b[38;5;28;01mif\u001b[39;00m new_retry\u001b[38;5;241m.\u001b[39mis_exhausted():\n\u001b[1;32m--> 592\u001b[0m     \u001b[38;5;28;01mraise\u001b[39;00m MaxRetryError(_pool, url, error \u001b[38;5;129;01mor\u001b[39;00m ResponseError(cause))\n\u001b[0;32m    594\u001b[0m log\u001b[38;5;241m.\u001b[39mdebug(\u001b[38;5;124m\"\u001b[39m\u001b[38;5;124mIncremented Retry for (url=\u001b[39m\u001b[38;5;124m'\u001b[39m\u001b[38;5;132;01m%s\u001b[39;00m\u001b[38;5;124m'\u001b[39m\u001b[38;5;124m): \u001b[39m\u001b[38;5;132;01m%r\u001b[39;00m\u001b[38;5;124m\"\u001b[39m, url, new_retry)\n",
      "\u001b[1;31mMaxRetryError\u001b[0m: HTTPSConnectionPool(host='business.mygulfcoastchamber.com', port=443): Max retries exceeded with url: /list/member/austal-usa-8411 (Caused by NewConnectionError('<urllib3.connection.HTTPSConnection object at 0x000001A1E02DB730>: Failed to establish a new connection: [WinError 10060] A connection attempt failed because the connected party did not properly respond after a period of time, or established connection failed because connected host has failed to respond'))",
      "\nDuring handling of the above exception, another exception occurred:\n",
      "\u001b[1;31mConnectionError\u001b[0m                           Traceback (most recent call last)",
      "Input \u001b[1;32mIn [85]\u001b[0m, in \u001b[0;36m<cell line: 2>\u001b[1;34m()\u001b[0m\n\u001b[0;32m      1\u001b[0m url\u001b[38;5;241m=\u001b[39m\u001b[38;5;124m\"\u001b[39m\u001b[38;5;124mhttps://business.mygulfcoastchamber.com/list/member/austal-usa-8411\u001b[39m\u001b[38;5;124m\"\u001b[39m\n\u001b[1;32m----> 2\u001b[0m request\u001b[38;5;241m=\u001b[39m\u001b[43mrequests\u001b[49m\u001b[38;5;241;43m.\u001b[39;49m\u001b[43mget\u001b[49m\u001b[43m(\u001b[49m\u001b[43murl\u001b[49m\u001b[43m)\u001b[49m\n",
      "File \u001b[1;32m~\\AppData\\Roaming\\Python\\Python39\\site-packages\\requests\\api.py:73\u001b[0m, in \u001b[0;36mget\u001b[1;34m(url, params, **kwargs)\u001b[0m\n\u001b[0;32m     62\u001b[0m \u001b[38;5;28;01mdef\u001b[39;00m \u001b[38;5;21mget\u001b[39m(url, params\u001b[38;5;241m=\u001b[39m\u001b[38;5;28;01mNone\u001b[39;00m, \u001b[38;5;241m*\u001b[39m\u001b[38;5;241m*\u001b[39mkwargs):\n\u001b[0;32m     63\u001b[0m     \u001b[38;5;124mr\u001b[39m\u001b[38;5;124;03m\"\"\"Sends a GET request.\u001b[39;00m\n\u001b[0;32m     64\u001b[0m \n\u001b[0;32m     65\u001b[0m \u001b[38;5;124;03m    :param url: URL for the new :class:`Request` object.\u001b[39;00m\n\u001b[1;32m   (...)\u001b[0m\n\u001b[0;32m     70\u001b[0m \u001b[38;5;124;03m    :rtype: requests.Response\u001b[39;00m\n\u001b[0;32m     71\u001b[0m \u001b[38;5;124;03m    \"\"\"\u001b[39;00m\n\u001b[1;32m---> 73\u001b[0m     \u001b[38;5;28;01mreturn\u001b[39;00m request(\u001b[38;5;124m\"\u001b[39m\u001b[38;5;124mget\u001b[39m\u001b[38;5;124m\"\u001b[39m, url, params\u001b[38;5;241m=\u001b[39mparams, \u001b[38;5;241m*\u001b[39m\u001b[38;5;241m*\u001b[39mkwargs)\n",
      "File \u001b[1;32m~\\AppData\\Roaming\\Python\\Python39\\site-packages\\requests\\api.py:59\u001b[0m, in \u001b[0;36mrequest\u001b[1;34m(method, url, **kwargs)\u001b[0m\n\u001b[0;32m     55\u001b[0m \u001b[38;5;66;03m# By using the 'with' statement we are sure the session is closed, thus we\u001b[39;00m\n\u001b[0;32m     56\u001b[0m \u001b[38;5;66;03m# avoid leaving sockets open which can trigger a ResourceWarning in some\u001b[39;00m\n\u001b[0;32m     57\u001b[0m \u001b[38;5;66;03m# cases, and look like a memory leak in others.\u001b[39;00m\n\u001b[0;32m     58\u001b[0m \u001b[38;5;28;01mwith\u001b[39;00m sessions\u001b[38;5;241m.\u001b[39mSession() \u001b[38;5;28;01mas\u001b[39;00m session:\n\u001b[1;32m---> 59\u001b[0m     \u001b[38;5;28;01mreturn\u001b[39;00m session\u001b[38;5;241m.\u001b[39mrequest(method\u001b[38;5;241m=\u001b[39mmethod, url\u001b[38;5;241m=\u001b[39murl, \u001b[38;5;241m*\u001b[39m\u001b[38;5;241m*\u001b[39mkwargs)\n",
      "File \u001b[1;32m~\\AppData\\Roaming\\Python\\Python39\\site-packages\\requests\\sessions.py:587\u001b[0m, in \u001b[0;36mSession.request\u001b[1;34m(self, method, url, params, data, headers, cookies, files, auth, timeout, allow_redirects, proxies, hooks, stream, verify, cert, json)\u001b[0m\n\u001b[0;32m    582\u001b[0m send_kwargs \u001b[38;5;241m=\u001b[39m {\n\u001b[0;32m    583\u001b[0m     \u001b[38;5;124m\"\u001b[39m\u001b[38;5;124mtimeout\u001b[39m\u001b[38;5;124m\"\u001b[39m: timeout,\n\u001b[0;32m    584\u001b[0m     \u001b[38;5;124m\"\u001b[39m\u001b[38;5;124mallow_redirects\u001b[39m\u001b[38;5;124m\"\u001b[39m: allow_redirects,\n\u001b[0;32m    585\u001b[0m }\n\u001b[0;32m    586\u001b[0m send_kwargs\u001b[38;5;241m.\u001b[39mupdate(settings)\n\u001b[1;32m--> 587\u001b[0m resp \u001b[38;5;241m=\u001b[39m \u001b[38;5;28mself\u001b[39m\u001b[38;5;241m.\u001b[39msend(prep, \u001b[38;5;241m*\u001b[39m\u001b[38;5;241m*\u001b[39msend_kwargs)\n\u001b[0;32m    589\u001b[0m \u001b[38;5;28;01mreturn\u001b[39;00m resp\n",
      "File \u001b[1;32m~\\AppData\\Roaming\\Python\\Python39\\site-packages\\requests\\sessions.py:701\u001b[0m, in \u001b[0;36mSession.send\u001b[1;34m(self, request, **kwargs)\u001b[0m\n\u001b[0;32m    698\u001b[0m start \u001b[38;5;241m=\u001b[39m preferred_clock()\n\u001b[0;32m    700\u001b[0m \u001b[38;5;66;03m# Send the request\u001b[39;00m\n\u001b[1;32m--> 701\u001b[0m r \u001b[38;5;241m=\u001b[39m adapter\u001b[38;5;241m.\u001b[39msend(request, \u001b[38;5;241m*\u001b[39m\u001b[38;5;241m*\u001b[39mkwargs)\n\u001b[0;32m    703\u001b[0m \u001b[38;5;66;03m# Total elapsed time of the request (approximately)\u001b[39;00m\n\u001b[0;32m    704\u001b[0m elapsed \u001b[38;5;241m=\u001b[39m preferred_clock() \u001b[38;5;241m-\u001b[39m start\n",
      "File \u001b[1;32m~\\AppData\\Roaming\\Python\\Python39\\site-packages\\requests\\adapters.py:565\u001b[0m, in \u001b[0;36mHTTPAdapter.send\u001b[1;34m(self, request, stream, timeout, verify, cert, proxies)\u001b[0m\n\u001b[0;32m    561\u001b[0m     \u001b[38;5;28;01mif\u001b[39;00m \u001b[38;5;28misinstance\u001b[39m(e\u001b[38;5;241m.\u001b[39mreason, _SSLError):\n\u001b[0;32m    562\u001b[0m         \u001b[38;5;66;03m# This branch is for urllib3 v1.22 and later.\u001b[39;00m\n\u001b[0;32m    563\u001b[0m         \u001b[38;5;28;01mraise\u001b[39;00m SSLError(e, request\u001b[38;5;241m=\u001b[39mrequest)\n\u001b[1;32m--> 565\u001b[0m     \u001b[38;5;28;01mraise\u001b[39;00m \u001b[38;5;167;01mConnectionError\u001b[39;00m(e, request\u001b[38;5;241m=\u001b[39mrequest)\n\u001b[0;32m    567\u001b[0m \u001b[38;5;28;01mexcept\u001b[39;00m ClosedPoolError \u001b[38;5;28;01mas\u001b[39;00m e:\n\u001b[0;32m    568\u001b[0m     \u001b[38;5;28;01mraise\u001b[39;00m \u001b[38;5;167;01mConnectionError\u001b[39;00m(e, request\u001b[38;5;241m=\u001b[39mrequest)\n",
      "\u001b[1;31mConnectionError\u001b[0m: HTTPSConnectionPool(host='business.mygulfcoastchamber.com', port=443): Max retries exceeded with url: /list/member/austal-usa-8411 (Caused by NewConnectionError('<urllib3.connection.HTTPSConnection object at 0x000001A1E02DB730>: Failed to establish a new connection: [WinError 10060] A connection attempt failed because the connected party did not properly respond after a period of time, or established connection failed because connected host has failed to respond'))"
     ]
    }
   ],
   "source": [
    "url=\"https://business.mygulfcoastchamber.com/list/member/austal-usa-8411\"\n",
    "request=requests.get(url)\n"
   ]
  },
  {
   "cell_type": "code",
   "execution_count": 24,
   "id": "b6930970-6522-4dcd-8608-10282e5cbce2",
   "metadata": {},
   "outputs": [
    {
     "name": "stdout",
     "output_type": "stream",
     "text": [
      "https://business.mygulfcoastchamber.com/list/member/austal-usa-8411\n"
     ]
    }
   ],
   "source": [
    "print(request.url)"
   ]
  },
  {
   "cell_type": "code",
   "execution_count": 43,
   "id": "0cfc5831-2a73-4847-b7df-90c70e96d609",
   "metadata": {},
   "outputs": [],
   "source": [
    "\n",
    "phone=[]\n",
    "Addresslo=[]\n",
    "addressRg=[]\n",
    "stadd=[]\n",
    "postalco=[]\n",
    "name=[]\n",
    "cats=[]\n",
    "\n",
    "req = requests.get(u)\n",
    "soup = bs(req.content, 'html5lib')\n",
    "a=soup.find('div',class_='mn-member-sidebar')\n",
    "\n",
    "\n",
    "if a.find('div', class_=\"mn-member-phone1\"):\n",
    "    phone.append(a.find('div', class_=\"mn-member-phone1\").text)\n",
    "else:\n",
    "    phone.append(\" \") \n",
    "if a.find('div',class_='mn-address1'):\n",
    "    stadd.append(a.find('div',class_='mn-address1').text)\n",
    "else:\n",
    "    stadd.append(\" \") \n",
    "if a.find('div', class_=\"mn-cityspan\"):\n",
    "    addressRg.append(a.find('div', class_=\"mn-cityspan\").text)\n",
    "else:\n",
    "    addressRg.append(\" \")\n",
    "if a.find('div', class_=\"mn-stspan\"):\n",
    "    addressRg.append(a.find('div', class_=\"mn-stspan\").text)\n",
    "else:\n",
    "    addressRg.append(\" \")\n",
    "if a.find('div', class_=\"mn-zipspan\"):\n",
    "    postalco.append(a.find('div', class_=\"mn-zipspan\").text)\n",
    "else:\n",
    "    postalco.append(\" \")\n",
    "\n",
    "name.append((soup.title.text).split('|')[0].strip())\n",
    "cats.append((soup.title.text).split('|')[1].strip())\n"
   ]
  },
  {
   "cell_type": "code",
   "execution_count": 40,
   "id": "71290493-80ef-496a-bcb1-d88dd030a12f",
   "metadata": {},
   "outputs": [
    {
     "data": {
      "text/plain": [
       "'Manufactoring, Production & Wholesale - Coastal Alabama Business Chamber'"
      ]
     },
     "execution_count": 40,
     "metadata": {},
     "output_type": "execute_result"
    }
   ],
   "source": [
    "# soup.find('div',class_='mn_member_cat_container')\n",
    "# addressRg.append(a.find('div', itemprop=\"addressLocality\").text)\n",
    "(soup.title.text).split('|')[1].strip()\n"
   ]
  },
  {
   "cell_type": "code",
   "execution_count": 45,
   "id": "e6816eec-a56c-450d-87fe-a188085c860f",
   "metadata": {},
   "outputs": [
    {
     "data": {
      "text/plain": [
       "['ACFA - Mojo']"
      ]
     },
     "execution_count": 45,
     "metadata": {},
     "output_type": "execute_result"
    }
   ],
   "source": [
    "name"
   ]
  },
  {
   "cell_type": "code",
   "execution_count": 69,
   "id": "a1b15774-e04a-44bf-a44b-bb3a87488efd",
   "metadata": {},
   "outputs": [],
   "source": [
    "stadd=[]\n",
    "a=soup.find('div',class_='mn-member-sidebar')\n",
    "# (a.find('div',class_='mn-citystatezip').text).strip()\n",
    "# a.find('div',class_='mn-address1').text\n",
    "if a.find('div',class_='mn-address1'):\n",
    "    stadd.append(a.find('div',class_='mn-address1').text)\n",
    "else:\n",
    "    stadd.append(\" \") "
   ]
  },
  {
   "cell_type": "code",
   "execution_count": 97,
   "id": "f51c4198-153f-4109-bf22-1a0fc8e9d333",
   "metadata": {},
   "outputs": [
    {
     "data": {
      "text/plain": [
       "<div class=\"mn-member-sidebar\">\n",
       "<div class=\"mn-section\" id=\"mn-member-general\">\n",
       "<div class=\"mn-section-content\">\n",
       "<div id=\"mn-member-name-nologo\">AUSTAL USA</div>\n",
       "<div class=\"mn-memberinfo-block-actions\">\n",
       "<ul>\n",
       "<li id=\"mn-memberinfo-block-website\"><a class=\"mn-print-url\" href=\"http://usa.austal.com\" itemprop=\"url\" onclick=\"MNI.Hit.MemberWebsite(8411)\" target=\"_self\" title=\"Visit the website of AUSTAL USA\">Visit Website</a></li>\n",
       "</ul>\n",
       "</div>\n",
       "<div class=\"mn-member-basicinfo\" itemprop=\"address\" itemscope=\"itemscope\" itemtype=\"http://schema.org/PostalAddress\">\n",
       "<div class=\"mn-address1\" itemprop=\"streetAddress\">100 Addsco Road</div>\n",
       "<div class=\"mn-citystatezip\" itemprop=\"citystatezip\"><span class=\"mn-cityspan\" itemprop=\"addressLocality\">Mobile</span><span class=\"mn-commaspan\">, </span><span class=\"mn-stspan\" itemprop=\"addressRegion\">AL</span> <span class=\"mn-zipspan\" itemprop=\"postalCode\">36602</span></div>\n",
       "<div class=\"mn-member-phone1\" itemprop=\"telephone\">(251) 434-8000</div>\n",
       "<div class=\"mn-member-phone2\" itemprop=\"telephone\"></div>\n",
       "</div>\n",
       "</div>\n",
       "</div>\n",
       "</div>"
      ]
     },
     "execution_count": 97,
     "metadata": {},
     "output_type": "execute_result"
    }
   ],
   "source": [
    "soup.find('div',class_='mn-member-sidebar')\n",
    "# cats.append(soup.find('div',class_='mn_member_cats').text)"
   ]
  },
  {
   "cell_type": "code",
   "execution_count": 71,
   "id": "d9a1a9ab-4551-4632-adf0-37599cbab174",
   "metadata": {},
   "outputs": [
    {
     "data": {
      "text/plain": [
       "'(251) 434-8000'"
      ]
     },
     "execution_count": 71,
     "metadata": {},
     "output_type": "execute_result"
    }
   ],
   "source": [
    "a.find('div', itemprop=\"telephone\").text"
   ]
  },
  {
   "cell_type": "code",
   "execution_count": 84,
   "id": "b3dc6829-6a05-49e9-b084-3847882d6f57",
   "metadata": {},
   "outputs": [
    {
     "data": {
      "text/plain": [
       "'http://usa.austal.com'"
      ]
     },
     "execution_count": 84,
     "metadata": {},
     "output_type": "execute_result"
    }
   ],
   "source": [
    "((a.find('li',id='mn-memberinfo-block-website')).find('a')).get('href')"
   ]
  },
  {
   "cell_type": "code",
   "execution_count": 89,
   "id": "4ddff53a-6568-4fd6-b6ea-89c265575d3a",
   "metadata": {},
   "outputs": [
    {
     "data": {
      "text/plain": [
       "[' ']"
      ]
     },
     "execution_count": 89,
     "metadata": {},
     "output_type": "execute_result"
    }
   ],
   "source": [
    "cats"
   ]
  },
  {
   "cell_type": "code",
   "execution_count": 51,
   "id": "03f5eb9f-69b1-45cc-bd27-2d3c53f148a0",
   "metadata": {},
   "outputs": [],
   "source": [
    "req = requests.get('https://business.mygulfcoastchamber.com/list/member/alligator-alley-1686')\n",
    "soup = bs(req.text, 'html.parser')\n",
    "    \n",
    "\n",
    "# a=soup.find('div',itemprop='telephone')"
   ]
  },
  {
   "cell_type": "code",
   "execution_count": 53,
   "id": "5ea0dd42-a5bf-4b23-93b1-42854668b19e",
   "metadata": {},
   "outputs": [],
   "source": [
    "a=soup.find('div',itemprop='address')\n",
    "    # if a.find('div', itemprop=\"telephone\"):\n",
    "    #     phone.append(a.find('div', itemprop=\"telephone\").text)\n",
    "    # else:\n",
    "    #     phone.append(\" \")"
   ]
  },
  {
   "cell_type": "code",
   "execution_count": 54,
   "id": "c8510407-9518-421e-95de-e9e76fa59d17",
   "metadata": {},
   "outputs": [
    {
     "data": {
      "text/plain": [
       "<div class=\"mn-member-basicinfo\" itemprop=\"address\" itemscope=\"itemscope\" itemtype=\"http://schema.org/PostalAddress\">\n",
       "<div class=\"mn-address1\" itemprop=\"streetAddress\">19500 County Rd 71</div>\n",
       "<div class=\"mn-citystatezip\" itemprop=\"citystatezip\"><span class=\"mn-cityspan\" itemprop=\"addressLocality\">Summerdale</span><span class=\"mn-commaspan\">, </span><span class=\"mn-stspan\" itemprop=\"addressRegion\">AL</span> <span class=\"mn-zipspan\" itemprop=\"postalCode\">36580</span></div>\n",
       "<div class=\"mn-member-phone1\" itemprop=\"telephone\">(251) 946-BITE (2483)</div>\n",
       "<div class=\"mn-member-phone2\" itemprop=\"telephone\"></div>\n",
       "</div>"
      ]
     },
     "execution_count": 54,
     "metadata": {},
     "output_type": "execute_result"
    }
   ],
   "source": [
    "a"
   ]
  },
  {
   "cell_type": "code",
   "execution_count": 55,
   "id": "64f509b8-986e-47d2-9509-8a9faa1967ac",
   "metadata": {},
   "outputs": [],
   "source": [
    "phone=[]"
   ]
  },
  {
   "cell_type": "code",
   "execution_count": 56,
   "id": "dfc49be3-1e5c-40dd-bb41-53f52004d70b",
   "metadata": {},
   "outputs": [],
   "source": [
    "if a.find('div', class_=\"mn-member-phone1\"):\n",
    "    phone.append(a.find('div', class_=\"mn-member-phone1\").text)\n",
    "else:\n",
    "    phone.append(\" \")"
   ]
  },
  {
   "cell_type": "code",
   "execution_count": 57,
   "id": "b33a2d63-c6b7-4797-aea5-e8c6f50ef837",
   "metadata": {},
   "outputs": [
    {
     "data": {
      "text/plain": [
       "['(251) 946-BITE (2483)']"
      ]
     },
     "execution_count": 57,
     "metadata": {},
     "output_type": "execute_result"
    }
   ],
   "source": [
    "phone"
   ]
  },
  {
   "cell_type": "code",
   "execution_count": null,
   "id": "c081720d-d3e4-48aa-b08f-b1b46044cb0f",
   "metadata": {},
   "outputs": [],
   "source": []
  }
 ],
 "metadata": {
  "kernelspec": {
   "display_name": "Python 3 (ipykernel)",
   "language": "python",
   "name": "python3"
  },
  "language_info": {
   "codemirror_mode": {
    "name": "ipython",
    "version": 3
   },
   "file_extension": ".py",
   "mimetype": "text/x-python",
   "name": "python",
   "nbconvert_exporter": "python",
   "pygments_lexer": "ipython3",
   "version": "3.9.12"
  },
  "widgets": {
   "application/vnd.jupyter.widget-state+json": {
    "state": {},
    "version_major": 2,
    "version_minor": 0
   }
  }
 },
 "nbformat": 4,
 "nbformat_minor": 5
}
